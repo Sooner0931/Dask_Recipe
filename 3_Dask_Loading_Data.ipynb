{
 "cells": [
  {
   "cell_type": "code",
   "execution_count": 1,
   "metadata": {},
   "outputs": [
    {
     "name": "stdout",
     "output_type": "stream",
     "text": [
      "Using style of 'Solarize_Light2' to plot\n",
      "All traditional libs imported properly!\n"
     ]
    }
   ],
   "source": [
    "import os\n",
    "import time, datetime\n",
    "import math\n",
    "\n",
    "import numpy as np\n",
    "import pandas as pd\n",
    "\n",
    "import missingno\n",
    "import seaborn as sns\n",
    "import matplotlib as mpl\n",
    "import matplotlib.pyplot as plt\n",
    "\n",
    "mpl.style.use(['Solarize_Light2'])\n",
    "print(\"Using style of 'Solarize_Light2' to plot\")\n",
    "\n",
    "\n",
    "# Plot the Figures Inline\n",
    "%matplotlib inline\n",
    "\n",
    "print('All traditional libs imported properly!')"
   ]
  },
  {
   "cell_type": "code",
   "execution_count": 2,
   "metadata": {},
   "outputs": [
    {
     "name": "stdout",
     "output_type": "stream",
     "text": [
      "Dask lib dependencies imported properly!\n"
     ]
    }
   ],
   "source": [
    "import dask.dataframe as dd\n",
    "from dask.diagnostics import ProgressBar\n",
    "import dask.delayed as delayed\n",
    "\n",
    "print('Dask lib dependencies imported properly!')"
   ]
  },
  {
   "cell_type": "code",
   "execution_count": 3,
   "metadata": {},
   "outputs": [],
   "source": [
    "from functools import reduce"
   ]
  },
  {
   "cell_type": "code",
   "execution_count": null,
   "metadata": {},
   "outputs": [],
   "source": []
  },
  {
   "cell_type": "code",
   "execution_count": null,
   "metadata": {},
   "outputs": [],
   "source": []
  },
  {
   "cell_type": "code",
   "execution_count": null,
   "metadata": {},
   "outputs": [],
   "source": []
  },
  {
   "cell_type": "markdown",
   "metadata": {},
   "source": [
    "# **PROBLEM TRY TO ASK**\n",
    "**What patterns can we find in the data that are correlated with increases or decreases in the number of parking tickets issued by the New York City parking authority?**"
   ]
  },
  {
   "cell_type": "markdown",
   "metadata": {},
   "source": [
    "# **LOADING DATA**"
   ]
  },
  {
   "cell_type": "markdown",
   "metadata": {},
   "source": [
    "1. Creating DataFrames from delimited text files and defining data schemas\n",
    "2. Extracting data from a SQL relational database and manipulating it using Dask\n",
    "3. Reading data from distributed filesystems (S3 and HDFS)\n",
    "4. Working with data stored in Parquet format"
   ]
  },
  {
   "cell_type": "markdown",
   "metadata": {},
   "source": [
    "One of the unique challenges that data scientists face is our tendency to\n",
    "study data at rest, or data that wasn’t specifically collected for the purpose of\n",
    "predictive modeling and analysis. This is quite different from a traditional\n",
    "academic study in which data is carefully and thoughtfully collected.\n",
    "Consequentially, you’re likely to come across a wide variety of storage media\n",
    "and data formats throughout your career."
   ]
  },
  {
   "cell_type": "markdown",
   "metadata": {},
   "source": [
    "# **Reading data from text files**"
   ]
  },
  {
   "cell_type": "markdown",
   "metadata": {},
   "source": [
    "Delimited text files come in many flavors, but all\n",
    "share the common concept of using special characters called delimiters that\n",
    "are used to divide data up into logical rows and columns."
   ]
  },
  {
   "cell_type": "markdown",
   "metadata": {},
   "source": [
    "Every delimited text file format has two types of delimiters: row delimiters\n",
    "and column delimiters. A row delimiter is a special character that indicates\n",
    "that you’ve reached the end of a row, and any additional data to the right of it\n",
    "should be considered part of the next row. The most common row delimiter\n",
    "is simply a newline character (\\n) or a carriage return followed by a newline\n",
    "character (\\r\\n). Delimiting rows by line is a standard choice because it\n",
    "provides the additional benefit of breaking up the raw data visually and\n",
    "reflects the layout of a spreadsheet."
   ]
  },
  {
   "cell_type": "markdown",
   "metadata": {},
   "source": [
    "Likewise, a column delimiter indicates the end of a column, and any data\n",
    "to the right of it should be treated as part of the next column. Of all the\n",
    "popular column delimiters out there, the comma (,) is the most frequently\n",
    "used. In fact, delimited text files that use comma column delimiters have a\n",
    "special file format named for it: comma-separated values or CSV for short.\n",
    "Among other common options are pipe (|), tab, space, and semicolon."
   ]
  },
  {
   "cell_type": "markdown",
   "metadata": {},
   "source": [
    "Two additional attributes of a delimited text file that we haven’t discussed\n",
    "yet include an optional header row and text qualifiers. A header row is simply\n",
    "the use of the first row to specify names of columns. Text qualifiers are yet another type of special character used to denote that\n",
    "the contents of the column is a text string. They can be very useful in\n",
    "instances where the actual data is allowed to contain characters that are also\n",
    "being used as row or column delimiters. This is a fairly common issue when\n",
    "working with CSV files that contain text data, because commas normally\n",
    "show up in text. Surrounding these columns with text qualifiers indicates\n",
    "that any instances of the column or row delimiters inside the text qualifiers\n",
    "should be ignored. "
   ]
  },
  {
   "cell_type": "code",
   "execution_count": 4,
   "metadata": {},
   "outputs": [],
   "source": [
    "fy14 = dd.read_csv('Parking_Violations_Issued_-_Fiscal_Year_2014__August_2013___June_2014_.csv')\n",
    "fy15 = dd.read_csv('Parking_Violations_Issued_-_Fiscal_Year_2015.csv')\n",
    "fy16 = dd.read_csv('Parking_Violations_Issued_-_Fiscal_Year_2016.csv')\n",
    "fy17 = dd.read_csv('Parking_Violations_Issued_-_Fiscal_Year_2017.csv')"
   ]
  },
  {
   "cell_type": "code",
   "execution_count": 5,
   "metadata": {},
   "outputs": [
    {
     "name": "stderr",
     "output_type": "stream",
     "text": [
      "D:\\Anaconda\\lib\\site-packages\\dask\\core.py:118: DtypeWarning: Columns (18,38) have mixed types.Specify dtype option on import or set low_memory=False.\n",
      "  args2 = [_execute_task(a, cache) for a in args]\n"
     ]
    },
    {
     "data": {
      "text/html": [
       "<div>\n",
       "<style scoped>\n",
       "    .dataframe tbody tr th:only-of-type {\n",
       "        vertical-align: middle;\n",
       "    }\n",
       "\n",
       "    .dataframe tbody tr th {\n",
       "        vertical-align: top;\n",
       "    }\n",
       "\n",
       "    .dataframe thead th {\n",
       "        text-align: right;\n",
       "    }\n",
       "</style>\n",
       "<table border=\"1\" class=\"dataframe\">\n",
       "  <thead>\n",
       "    <tr style=\"text-align: right;\">\n",
       "      <th></th>\n",
       "      <th>Summons Number</th>\n",
       "      <th>Plate ID</th>\n",
       "      <th>Registration State</th>\n",
       "      <th>Plate Type</th>\n",
       "      <th>Issue Date</th>\n",
       "      <th>Violation Code</th>\n",
       "      <th>Vehicle Body Type</th>\n",
       "      <th>Vehicle Make</th>\n",
       "      <th>Issuing Agency</th>\n",
       "      <th>Street Code1</th>\n",
       "      <th>...</th>\n",
       "      <th>Vehicle Color</th>\n",
       "      <th>Unregistered Vehicle?</th>\n",
       "      <th>Vehicle Year</th>\n",
       "      <th>Meter Number</th>\n",
       "      <th>Feet From Curb</th>\n",
       "      <th>Violation Post Code</th>\n",
       "      <th>Violation Description</th>\n",
       "      <th>No Standing or Stopping Violation</th>\n",
       "      <th>Hydrant Violation</th>\n",
       "      <th>Double Parking Violation</th>\n",
       "    </tr>\n",
       "  </thead>\n",
       "  <tbody>\n",
       "    <tr>\n",
       "      <th>210393</th>\n",
       "      <td>1415514203</td>\n",
       "      <td>HGU9544</td>\n",
       "      <td>NY</td>\n",
       "      <td>PAS</td>\n",
       "      <td>11/15/2069</td>\n",
       "      <td>40</td>\n",
       "      <td>SUBN</td>\n",
       "      <td>JEEP</td>\n",
       "      <td>P</td>\n",
       "      <td>0</td>\n",
       "      <td>...</td>\n",
       "      <td>BROWN</td>\n",
       "      <td>0.0</td>\n",
       "      <td>2011</td>\n",
       "      <td>-</td>\n",
       "      <td>0</td>\n",
       "      <td>NaN</td>\n",
       "      <td>NaN</td>\n",
       "      <td>NaN</td>\n",
       "      <td>NaN</td>\n",
       "      <td>NaN</td>\n",
       "    </tr>\n",
       "    <tr>\n",
       "      <th>210394</th>\n",
       "      <td>1415995370</td>\n",
       "      <td>GPP1608</td>\n",
       "      <td>NY</td>\n",
       "      <td>PAS</td>\n",
       "      <td>11/19/2069</td>\n",
       "      <td>21</td>\n",
       "      <td>SDN</td>\n",
       "      <td>TOYOT</td>\n",
       "      <td>S</td>\n",
       "      <td>38080</td>\n",
       "      <td>...</td>\n",
       "      <td>GRAY</td>\n",
       "      <td>0.0</td>\n",
       "      <td>2011</td>\n",
       "      <td>-</td>\n",
       "      <td>0</td>\n",
       "      <td>NaN</td>\n",
       "      <td>NaN</td>\n",
       "      <td>NaN</td>\n",
       "      <td>NaN</td>\n",
       "      <td>NaN</td>\n",
       "    </tr>\n",
       "  </tbody>\n",
       "</table>\n",
       "<p>2 rows × 43 columns</p>\n",
       "</div>"
      ],
      "text/plain": [
       "        Summons Number Plate ID Registration State Plate Type  Issue Date  \\\n",
       "210393      1415514203  HGU9544                 NY        PAS  11/15/2069   \n",
       "210394      1415995370  GPP1608                 NY        PAS  11/19/2069   \n",
       "\n",
       "        Violation Code Vehicle Body Type Vehicle Make Issuing Agency  \\\n",
       "210393              40              SUBN         JEEP              P   \n",
       "210394              21               SDN        TOYOT              S   \n",
       "\n",
       "        Street Code1  ...  Vehicle Color  Unregistered Vehicle?  Vehicle Year  \\\n",
       "210393             0  ...          BROWN                    0.0          2011   \n",
       "210394         38080  ...           GRAY                    0.0          2011   \n",
       "\n",
       "        Meter Number  Feet From Curb  Violation Post Code  \\\n",
       "210393             -               0                  NaN   \n",
       "210394             -               0                  NaN   \n",
       "\n",
       "        Violation Description No Standing or Stopping Violation  \\\n",
       "210393                    NaN                               NaN   \n",
       "210394                    NaN                               NaN   \n",
       "\n",
       "       Hydrant Violation Double Parking Violation  \n",
       "210393               NaN                      NaN  \n",
       "210394               NaN                      NaN  \n",
       "\n",
       "[2 rows x 43 columns]"
      ]
     },
     "execution_count": 5,
     "metadata": {},
     "output_type": "execute_result"
    }
   ],
   "source": [
    "fy17.tail(2)"
   ]
  },
  {
   "cell_type": "markdown",
   "metadata": {},
   "source": [
    "By default, Dask assumes that your CSV files will have a\n",
    "header row, and our file indeed has a header row. "
   ]
  },
  {
   "cell_type": "code",
   "execution_count": 6,
   "metadata": {},
   "outputs": [
    {
     "data": {
      "text/plain": [
       "Index(['Summons Number', 'Plate ID', 'Registration State', 'Plate Type',\n",
       "       'Issue Date', 'Violation Code', 'Vehicle Body Type', 'Vehicle Make',\n",
       "       'Issuing Agency', 'Street Code1', 'Street Code2', 'Street Code3',\n",
       "       'Vehicle Expiration Date', 'Violation Location', 'Violation Precinct',\n",
       "       'Issuer Precinct', 'Issuer Code', 'Issuer Command', 'Issuer Squad',\n",
       "       'Violation Time', 'Time First Observed', 'Violation County',\n",
       "       'Violation In Front Of Or Opposite', 'House Number', 'Street Name',\n",
       "       'Intersecting Street', 'Date First Observed', 'Law Section',\n",
       "       'Sub Division', 'Violation Legal Code', 'Days Parking In Effect    ',\n",
       "       'From Hours In Effect', 'To Hours In Effect', 'Vehicle Color',\n",
       "       'Unregistered Vehicle?', 'Vehicle Year', 'Meter Number',\n",
       "       'Feet From Curb', 'Violation Post Code', 'Violation Description',\n",
       "       'No Standing or Stopping Violation', 'Hydrant Violation',\n",
       "       'Double Parking Violation'],\n",
       "      dtype='object')"
      ]
     },
     "execution_count": 6,
     "metadata": {},
     "output_type": "execute_result"
    }
   ],
   "source": [
    "fy17.columns"
   ]
  },
  {
   "cell_type": "code",
   "execution_count": 7,
   "metadata": {},
   "outputs": [
    {
     "data": {
      "text/plain": [
       "Index(['Summons Number', 'Plate ID', 'Registration State', 'Plate Type',\n",
       "       'Issue Date', 'Violation Code', 'Vehicle Body Type', 'Vehicle Make',\n",
       "       'Issuing Agency', 'Street Code1', 'Street Code2', 'Street Code3',\n",
       "       'Vehicle Expiration Date', 'Violation Location', 'Violation Precinct',\n",
       "       'Issuer Precinct', 'Issuer Code', 'Issuer Command', 'Issuer Squad',\n",
       "       'Violation Time', 'Time First Observed', 'Violation County',\n",
       "       'Violation In Front Of Or Opposite', 'House Number', 'Street Name',\n",
       "       'Intersecting Street', 'Date First Observed', 'Law Section',\n",
       "       'Sub Division', 'Violation Legal Code', 'Days Parking In Effect    ',\n",
       "       'From Hours In Effect', 'To Hours In Effect', 'Vehicle Color',\n",
       "       'Unregistered Vehicle?', 'Vehicle Year', 'Meter Number',\n",
       "       'Feet From Curb', 'Violation Post Code', 'Violation Description',\n",
       "       'No Standing or Stopping Violation', 'Hydrant Violation',\n",
       "       'Double Parking Violation', 'Latitude', 'Longitude', 'Community Board',\n",
       "       'Community Council ', 'Census Tract', 'BIN', 'BBL', 'NTA'],\n",
       "      dtype='object')"
      ]
     },
     "execution_count": 7,
     "metadata": {},
     "output_type": "execute_result"
    }
   ],
   "source": [
    "fy14.columns"
   ]
  },
  {
   "cell_type": "markdown",
   "metadata": {},
   "source": [
    "If you happen to take a look at the columns of any other DataFrame, such as\n",
    "fy14 (Parking Tickets for 2014), you’ll notice that the columns are\n",
    "different from the fy17 (Parking Tickets for 2017) DataFrame. It looks as\n",
    "though the NYC government changed what data it collects about parking\n",
    "violations in 2017. For example, the latitude and longitude of the violation\n",
    "was not recorded prior to 2017, so these columns won’t be useful for\n",
    "analyzing year-over-year trends (such as how parking violation “hotspots”\n",
    "migrate throughout the city). If we simply concatenated the datasets together\n",
    "as is, we would get a resulting DataFrame with an awful lot of missing\n",
    "values. Before we combine the datasets, we should find the columns that all\n",
    "four of the DataFrames have in common. Then we should be able to simply\n",
    "union the DataFrames together to produce a new DataFrame that contains\n",
    "all four years of data."
   ]
  },
  {
   "cell_type": "markdown",
   "metadata": {},
   "source": [
    "We could manually look at each DataFrame’s columns and deduce which\n",
    "columns overlap, but that would be terribly inefficient. Instead, we’ll\n",
    "automate the process by taking advantage of the DataFrames’ columns\n",
    "attribute and Python’s set operations. "
   ]
  },
  {
   "cell_type": "code",
   "execution_count": 6,
   "metadata": {},
   "outputs": [],
   "source": [
    "from functools import reduce"
   ]
  },
  {
   "cell_type": "code",
   "execution_count": 7,
   "metadata": {},
   "outputs": [],
   "source": [
    "columns = [set(fy14.columns),\n",
    "           set(fy15.columns),\n",
    "           set(fy16.columns),\n",
    "           set(fy17.columns)]"
   ]
  },
  {
   "cell_type": "code",
   "execution_count": 8,
   "metadata": {},
   "outputs": [
    {
     "data": {
      "text/plain": [
       "{'Date First Observed',\n",
       " 'Days Parking In Effect    ',\n",
       " 'Double Parking Violation',\n",
       " 'Feet From Curb',\n",
       " 'From Hours In Effect',\n",
       " 'House Number',\n",
       " 'Hydrant Violation',\n",
       " 'Intersecting Street',\n",
       " 'Issue Date',\n",
       " 'Issuer Code',\n",
       " 'Issuer Command',\n",
       " 'Issuer Precinct',\n",
       " 'Issuer Squad',\n",
       " 'Issuing Agency',\n",
       " 'Law Section',\n",
       " 'Meter Number',\n",
       " 'No Standing or Stopping Violation',\n",
       " 'Plate ID',\n",
       " 'Plate Type',\n",
       " 'Registration State',\n",
       " 'Street Code1',\n",
       " 'Street Code2',\n",
       " 'Street Code3',\n",
       " 'Street Name',\n",
       " 'Sub Division',\n",
       " 'Summons Number',\n",
       " 'Time First Observed',\n",
       " 'To Hours In Effect',\n",
       " 'Unregistered Vehicle?',\n",
       " 'Vehicle Body Type',\n",
       " 'Vehicle Color',\n",
       " 'Vehicle Expiration Date',\n",
       " 'Vehicle Make',\n",
       " 'Vehicle Year',\n",
       " 'Violation Code',\n",
       " 'Violation County',\n",
       " 'Violation Description',\n",
       " 'Violation In Front Of Or Opposite',\n",
       " 'Violation Legal Code',\n",
       " 'Violation Location',\n",
       " 'Violation Post Code',\n",
       " 'Violation Precinct',\n",
       " 'Violation Time'}"
      ]
     },
     "execution_count": 8,
     "metadata": {},
     "output_type": "execute_result"
    }
   ],
   "source": [
    "columns[3]"
   ]
  },
  {
   "cell_type": "code",
   "execution_count": 9,
   "metadata": {},
   "outputs": [],
   "source": [
    "common_columns_for_check = list(reduce(lambda a, i: a.intersection(i), columns))"
   ]
  },
  {
   "cell_type": "code",
   "execution_count": 10,
   "metadata": {},
   "outputs": [],
   "source": [
    "common_columns_for_check = sorted(common_columns_for_check)"
   ]
  },
  {
   "cell_type": "code",
   "execution_count": 11,
   "metadata": {},
   "outputs": [
    {
     "data": {
      "text/plain": [
       "43"
      ]
     },
     "execution_count": 11,
     "metadata": {},
     "output_type": "execute_result"
    }
   ],
   "source": [
    "len(common_columns_for_check)"
   ]
  },
  {
   "cell_type": "code",
   "execution_count": 12,
   "metadata": {},
   "outputs": [],
   "source": [
    "common_columns_mine = list(columns[0].intersection(columns[1]).intersection(columns[2]).intersection(columns[3]))"
   ]
  },
  {
   "cell_type": "code",
   "execution_count": 13,
   "metadata": {},
   "outputs": [],
   "source": [
    "common_columns_mine = sorted(common_columns_mine)"
   ]
  },
  {
   "cell_type": "code",
   "execution_count": 14,
   "metadata": {},
   "outputs": [
    {
     "data": {
      "text/plain": [
       "43"
      ]
     },
     "execution_count": 14,
     "metadata": {},
     "output_type": "execute_result"
    }
   ],
   "source": [
    "len(common_columns_mine)"
   ]
  },
  {
   "cell_type": "code",
   "execution_count": 15,
   "metadata": {},
   "outputs": [
    {
     "data": {
      "text/plain": [
       "True"
      ]
     },
     "execution_count": 15,
     "metadata": {},
     "output_type": "execute_result"
    }
   ],
   "source": [
    "common_columns_for_check == common_columns_mine"
   ]
  },
  {
   "cell_type": "code",
   "execution_count": 16,
   "metadata": {},
   "outputs": [
    {
     "data": {
      "text/plain": [
       "['Date First Observed',\n",
       " 'Days Parking In Effect    ',\n",
       " 'Double Parking Violation',\n",
       " 'Feet From Curb',\n",
       " 'From Hours In Effect',\n",
       " 'House Number',\n",
       " 'Hydrant Violation',\n",
       " 'Intersecting Street',\n",
       " 'Issue Date',\n",
       " 'Issuer Code',\n",
       " 'Issuer Command',\n",
       " 'Issuer Precinct',\n",
       " 'Issuer Squad',\n",
       " 'Issuing Agency',\n",
       " 'Law Section',\n",
       " 'Meter Number',\n",
       " 'No Standing or Stopping Violation',\n",
       " 'Plate ID',\n",
       " 'Plate Type',\n",
       " 'Registration State',\n",
       " 'Street Code1',\n",
       " 'Street Code2',\n",
       " 'Street Code3',\n",
       " 'Street Name',\n",
       " 'Sub Division',\n",
       " 'Summons Number',\n",
       " 'Time First Observed',\n",
       " 'To Hours In Effect',\n",
       " 'Unregistered Vehicle?',\n",
       " 'Vehicle Body Type',\n",
       " 'Vehicle Color',\n",
       " 'Vehicle Expiration Date',\n",
       " 'Vehicle Make',\n",
       " 'Vehicle Year',\n",
       " 'Violation Code',\n",
       " 'Violation County',\n",
       " 'Violation Description',\n",
       " 'Violation In Front Of Or Opposite',\n",
       " 'Violation Legal Code',\n",
       " 'Violation Location',\n",
       " 'Violation Post Code',\n",
       " 'Violation Precinct',\n",
       " 'Violation Time']"
      ]
     },
     "execution_count": 16,
     "metadata": {},
     "output_type": "execute_result"
    }
   ],
   "source": [
    "common_columns_mine"
   ]
  },
  {
   "cell_type": "code",
   "execution_count": 17,
   "metadata": {},
   "outputs": [
    {
     "data": {
      "text/plain": [
       "['Date First Observed',\n",
       " 'Days Parking In Effect    ',\n",
       " 'Double Parking Violation',\n",
       " 'Feet From Curb',\n",
       " 'From Hours In Effect',\n",
       " 'House Number',\n",
       " 'Hydrant Violation',\n",
       " 'Intersecting Street',\n",
       " 'Issue Date',\n",
       " 'Issuer Code',\n",
       " 'Issuer Command',\n",
       " 'Issuer Precinct',\n",
       " 'Issuer Squad',\n",
       " 'Issuing Agency',\n",
       " 'Law Section',\n",
       " 'Meter Number',\n",
       " 'No Standing or Stopping Violation',\n",
       " 'Plate ID',\n",
       " 'Plate Type',\n",
       " 'Registration State',\n",
       " 'Street Code1',\n",
       " 'Street Code2',\n",
       " 'Street Code3',\n",
       " 'Street Name',\n",
       " 'Sub Division',\n",
       " 'Summons Number',\n",
       " 'Time First Observed',\n",
       " 'To Hours In Effect',\n",
       " 'Unregistered Vehicle?',\n",
       " 'Vehicle Body Type',\n",
       " 'Vehicle Color',\n",
       " 'Vehicle Expiration Date',\n",
       " 'Vehicle Make',\n",
       " 'Vehicle Year',\n",
       " 'Violation Code',\n",
       " 'Violation County',\n",
       " 'Violation Description',\n",
       " 'Violation In Front Of Or Opposite',\n",
       " 'Violation Legal Code',\n",
       " 'Violation Location',\n",
       " 'Violation Post Code',\n",
       " 'Violation Precinct',\n",
       " 'Violation Time']"
      ]
     },
     "execution_count": 17,
     "metadata": {},
     "output_type": "execute_result"
    }
   ],
   "source": [
    "common_columns_for_check"
   ]
  },
  {
   "cell_type": "code",
   "execution_count": 18,
   "metadata": {},
   "outputs": [
    {
     "data": {
      "text/html": [
       "<div>\n",
       "<style scoped>\n",
       "    .dataframe tbody tr th:only-of-type {\n",
       "        vertical-align: middle;\n",
       "    }\n",
       "\n",
       "    .dataframe tbody tr th {\n",
       "        vertical-align: top;\n",
       "    }\n",
       "\n",
       "    .dataframe thead th {\n",
       "        text-align: right;\n",
       "    }\n",
       "</style>\n",
       "<table border=\"1\" class=\"dataframe\">\n",
       "  <thead>\n",
       "    <tr style=\"text-align: right;\">\n",
       "      <th></th>\n",
       "      <th>Date First Observed</th>\n",
       "      <th>Days Parking In Effect</th>\n",
       "      <th>Double Parking Violation</th>\n",
       "      <th>Feet From Curb</th>\n",
       "      <th>From Hours In Effect</th>\n",
       "      <th>House Number</th>\n",
       "      <th>Hydrant Violation</th>\n",
       "      <th>Intersecting Street</th>\n",
       "      <th>Issue Date</th>\n",
       "      <th>Issuer Code</th>\n",
       "      <th>...</th>\n",
       "      <th>Vehicle Year</th>\n",
       "      <th>Violation Code</th>\n",
       "      <th>Violation County</th>\n",
       "      <th>Violation Description</th>\n",
       "      <th>Violation In Front Of Or Opposite</th>\n",
       "      <th>Violation Legal Code</th>\n",
       "      <th>Violation Location</th>\n",
       "      <th>Violation Post Code</th>\n",
       "      <th>Violation Precinct</th>\n",
       "      <th>Violation Time</th>\n",
       "    </tr>\n",
       "  </thead>\n",
       "  <tbody>\n",
       "    <tr>\n",
       "      <th>0</th>\n",
       "      <td>0</td>\n",
       "      <td>NaN</td>\n",
       "      <td>NaN</td>\n",
       "      <td>0</td>\n",
       "      <td>NaN</td>\n",
       "      <td>NaN</td>\n",
       "      <td>NaN</td>\n",
       "      <td>BARNES AVE</td>\n",
       "      <td>07/10/2016</td>\n",
       "      <td>0</td>\n",
       "      <td>...</td>\n",
       "      <td>2001</td>\n",
       "      <td>7</td>\n",
       "      <td>BX</td>\n",
       "      <td>FAILURE TO STOP AT RED LIGHT</td>\n",
       "      <td>NaN</td>\n",
       "      <td>T</td>\n",
       "      <td>NaN</td>\n",
       "      <td>NaN</td>\n",
       "      <td>0</td>\n",
       "      <td>0143A</td>\n",
       "    </tr>\n",
       "    <tr>\n",
       "      <th>1</th>\n",
       "      <td>0</td>\n",
       "      <td>NaN</td>\n",
       "      <td>NaN</td>\n",
       "      <td>0</td>\n",
       "      <td>NaN</td>\n",
       "      <td>NaN</td>\n",
       "      <td>NaN</td>\n",
       "      <td>BARNES AVE</td>\n",
       "      <td>07/08/2016</td>\n",
       "      <td>0</td>\n",
       "      <td>...</td>\n",
       "      <td>2001</td>\n",
       "      <td>7</td>\n",
       "      <td>BX</td>\n",
       "      <td>FAILURE TO STOP AT RED LIGHT</td>\n",
       "      <td>NaN</td>\n",
       "      <td>T</td>\n",
       "      <td>NaN</td>\n",
       "      <td>NaN</td>\n",
       "      <td>0</td>\n",
       "      <td>0400P</td>\n",
       "    </tr>\n",
       "    <tr>\n",
       "      <th>2</th>\n",
       "      <td>0</td>\n",
       "      <td>NaN</td>\n",
       "      <td>NaN</td>\n",
       "      <td>0</td>\n",
       "      <td>NaN</td>\n",
       "      <td>NaN</td>\n",
       "      <td>NaN</td>\n",
       "      <td>94TH ST</td>\n",
       "      <td>08/23/2016</td>\n",
       "      <td>0</td>\n",
       "      <td>...</td>\n",
       "      <td>2004</td>\n",
       "      <td>5</td>\n",
       "      <td>BX</td>\n",
       "      <td>BUS LANE VIOLATION</td>\n",
       "      <td>NaN</td>\n",
       "      <td>T</td>\n",
       "      <td>NaN</td>\n",
       "      <td>NaN</td>\n",
       "      <td>0</td>\n",
       "      <td>0233P</td>\n",
       "    </tr>\n",
       "  </tbody>\n",
       "</table>\n",
       "<p>3 rows × 43 columns</p>\n",
       "</div>"
      ],
      "text/plain": [
       "   Date First Observed Days Parking In Effect      Double Parking Violation  \\\n",
       "0                    0                        NaN                       NaN   \n",
       "1                    0                        NaN                       NaN   \n",
       "2                    0                        NaN                       NaN   \n",
       "\n",
       "   Feet From Curb From Hours In Effect House Number  Hydrant Violation  \\\n",
       "0               0                  NaN          NaN                NaN   \n",
       "1               0                  NaN          NaN                NaN   \n",
       "2               0                  NaN          NaN                NaN   \n",
       "\n",
       "  Intersecting Street  Issue Date  Issuer Code  ... Vehicle Year  \\\n",
       "0          BARNES AVE  07/10/2016            0  ...         2001   \n",
       "1          BARNES AVE  07/08/2016            0  ...         2001   \n",
       "2             94TH ST  08/23/2016            0  ...         2004   \n",
       "\n",
       "   Violation Code Violation County         Violation Description  \\\n",
       "0               7               BX  FAILURE TO STOP AT RED LIGHT   \n",
       "1               7               BX  FAILURE TO STOP AT RED LIGHT   \n",
       "2               5               BX            BUS LANE VIOLATION   \n",
       "\n",
       "   Violation In Front Of Or Opposite Violation Legal Code  Violation Location  \\\n",
       "0                                NaN                    T                 NaN   \n",
       "1                                NaN                    T                 NaN   \n",
       "2                                NaN                    T                 NaN   \n",
       "\n",
       "  Violation Post Code Violation Precinct Violation Time  \n",
       "0                 NaN                  0          0143A  \n",
       "1                 NaN                  0          0400P  \n",
       "2                 NaN                  0          0233P  \n",
       "\n",
       "[3 rows x 43 columns]"
      ]
     },
     "execution_count": 18,
     "metadata": {},
     "output_type": "execute_result"
    }
   ],
   "source": [
    "fy17[common_columns_for_check].head(3)"
   ]
  },
  {
   "cell_type": "code",
   "execution_count": 19,
   "metadata": {},
   "outputs": [],
   "source": [
    "common_columns = list(reduce(lambda a, i: a.intersection(i), columns))"
   ]
  },
  {
   "cell_type": "code",
   "execution_count": null,
   "metadata": {},
   "outputs": [],
   "source": [
    "fy17[common_columns].columns"
   ]
  },
  {
   "cell_type": "code",
   "execution_count": 23,
   "metadata": {},
   "outputs": [
    {
     "data": {
      "text/plain": [
       "Dask Series Structure:\n",
       "npartitions=33\n",
       "    int64\n",
       "      ...\n",
       "    ...  \n",
       "      ...\n",
       "      ...\n",
       "Name: Feet From Curb, dtype: int64\n",
       "Dask Name: getitem, 132 tasks"
      ]
     },
     "execution_count": 23,
     "metadata": {},
     "output_type": "execute_result"
    }
   ],
   "source": [
    "fy17['Feet From Curb']"
   ]
  },
  {
   "cell_type": "code",
   "execution_count": 24,
   "metadata": {},
   "outputs": [
    {
     "data": {
      "text/html": [
       "<div>\n",
       "<style scoped>\n",
       "    .dataframe tbody tr th:only-of-type {\n",
       "        vertical-align: middle;\n",
       "    }\n",
       "\n",
       "    .dataframe tbody tr th {\n",
       "        vertical-align: top;\n",
       "    }\n",
       "\n",
       "    .dataframe thead th {\n",
       "        text-align: right;\n",
       "    }\n",
       "</style>\n",
       "<table border=\"1\" class=\"dataframe\">\n",
       "  <thead>\n",
       "    <tr style=\"text-align: right;\">\n",
       "      <th></th>\n",
       "      <th>Feet From Curb</th>\n",
       "      <th>Issuer Precinct</th>\n",
       "      <th>Street Name</th>\n",
       "      <th>Issuer Command</th>\n",
       "      <th>Issuer Code</th>\n",
       "      <th>Registration State</th>\n",
       "      <th>To Hours In Effect</th>\n",
       "      <th>Intersecting Street</th>\n",
       "      <th>Vehicle Year</th>\n",
       "      <th>Violation Precinct</th>\n",
       "      <th>...</th>\n",
       "      <th>No Standing or Stopping Violation</th>\n",
       "      <th>Violation Location</th>\n",
       "      <th>Violation Post Code</th>\n",
       "      <th>Hydrant Violation</th>\n",
       "      <th>Plate ID</th>\n",
       "      <th>Issue Date</th>\n",
       "      <th>Days Parking In Effect</th>\n",
       "      <th>Law Section</th>\n",
       "      <th>From Hours In Effect</th>\n",
       "      <th>Unregistered Vehicle?</th>\n",
       "    </tr>\n",
       "  </thead>\n",
       "  <tbody>\n",
       "    <tr>\n",
       "      <th>0</th>\n",
       "      <td>0</td>\n",
       "      <td>0</td>\n",
       "      <td>ALLERTON AVE (W/B) @</td>\n",
       "      <td>NaN</td>\n",
       "      <td>0</td>\n",
       "      <td>NY</td>\n",
       "      <td>NaN</td>\n",
       "      <td>BARNES AVE</td>\n",
       "      <td>2001</td>\n",
       "      <td>0</td>\n",
       "      <td>...</td>\n",
       "      <td>NaN</td>\n",
       "      <td>NaN</td>\n",
       "      <td>NaN</td>\n",
       "      <td>NaN</td>\n",
       "      <td>GZH7067</td>\n",
       "      <td>07/10/2016</td>\n",
       "      <td>NaN</td>\n",
       "      <td>1111</td>\n",
       "      <td>NaN</td>\n",
       "      <td>NaN</td>\n",
       "    </tr>\n",
       "    <tr>\n",
       "      <th>1</th>\n",
       "      <td>0</td>\n",
       "      <td>0</td>\n",
       "      <td>ALLERTON AVE (W/B) @</td>\n",
       "      <td>NaN</td>\n",
       "      <td>0</td>\n",
       "      <td>NY</td>\n",
       "      <td>NaN</td>\n",
       "      <td>BARNES AVE</td>\n",
       "      <td>2001</td>\n",
       "      <td>0</td>\n",
       "      <td>...</td>\n",
       "      <td>NaN</td>\n",
       "      <td>NaN</td>\n",
       "      <td>NaN</td>\n",
       "      <td>NaN</td>\n",
       "      <td>GZH7067</td>\n",
       "      <td>07/08/2016</td>\n",
       "      <td>NaN</td>\n",
       "      <td>1111</td>\n",
       "      <td>NaN</td>\n",
       "      <td>NaN</td>\n",
       "    </tr>\n",
       "    <tr>\n",
       "      <th>2</th>\n",
       "      <td>0</td>\n",
       "      <td>0</td>\n",
       "      <td>SB WEBSTER AVE @ E 1</td>\n",
       "      <td>NaN</td>\n",
       "      <td>0</td>\n",
       "      <td>NY</td>\n",
       "      <td>NaN</td>\n",
       "      <td>94TH ST</td>\n",
       "      <td>2004</td>\n",
       "      <td>0</td>\n",
       "      <td>...</td>\n",
       "      <td>NaN</td>\n",
       "      <td>NaN</td>\n",
       "      <td>NaN</td>\n",
       "      <td>NaN</td>\n",
       "      <td>FZX9232</td>\n",
       "      <td>08/23/2016</td>\n",
       "      <td>NaN</td>\n",
       "      <td>1111</td>\n",
       "      <td>NaN</td>\n",
       "      <td>NaN</td>\n",
       "    </tr>\n",
       "  </tbody>\n",
       "</table>\n",
       "<p>3 rows × 43 columns</p>\n",
       "</div>"
      ],
      "text/plain": [
       "   Feet From Curb  Issuer Precinct           Street Name Issuer Command  \\\n",
       "0               0                0  ALLERTON AVE (W/B) @            NaN   \n",
       "1               0                0  ALLERTON AVE (W/B) @            NaN   \n",
       "2               0                0  SB WEBSTER AVE @ E 1            NaN   \n",
       "\n",
       "   Issuer Code Registration State To Hours In Effect Intersecting Street  \\\n",
       "0            0                 NY                NaN          BARNES AVE   \n",
       "1            0                 NY                NaN          BARNES AVE   \n",
       "2            0                 NY                NaN             94TH ST   \n",
       "\n",
       "   Vehicle Year  Violation Precinct  ...  No Standing or Stopping Violation  \\\n",
       "0          2001                   0  ...                                NaN   \n",
       "1          2001                   0  ...                                NaN   \n",
       "2          2004                   0  ...                                NaN   \n",
       "\n",
       "  Violation Location Violation Post Code  Hydrant Violation Plate ID  \\\n",
       "0                NaN                 NaN                NaN  GZH7067   \n",
       "1                NaN                 NaN                NaN  GZH7067   \n",
       "2                NaN                 NaN                NaN  FZX9232   \n",
       "\n",
       "   Issue Date Days Parking In Effect     Law Section From Hours In Effect  \\\n",
       "0  07/10/2016                        NaN        1111                  NaN   \n",
       "1  07/08/2016                        NaN        1111                  NaN   \n",
       "2  08/23/2016                        NaN        1111                  NaN   \n",
       "\n",
       "  Unregistered Vehicle?  \n",
       "0                   NaN  \n",
       "1                   NaN  \n",
       "2                   NaN  \n",
       "\n",
       "[3 rows x 43 columns]"
      ]
     },
     "execution_count": 24,
     "metadata": {},
     "output_type": "execute_result"
    }
   ],
   "source": [
    "fy17[common_columns].head(3)"
   ]
  },
  {
   "cell_type": "code",
   "execution_count": 20,
   "metadata": {},
   "outputs": [
    {
     "name": "stderr",
     "output_type": "stream",
     "text": [
      "D:\\Anaconda\\lib\\site-packages\\dask\\core.py:118: DtypeWarning: Columns (18,29,38,39) have mixed types.Specify dtype option on import or set low_memory=False.\n",
      "  args2 = [_execute_task(a, cache) for a in args]\n"
     ]
    },
    {
     "ename": "ValueError",
     "evalue": "Mismatched dtypes found in `pd.read_csv`/`pd.read_table`.\n\n+-----------------------+---------+----------+\n| Column                | Found   | Expected |\n+-----------------------+---------+----------+\n| Issuer Squad          | object  | int64    |\n| Unregistered Vehicle? | float64 | int64    |\n| Violation Description | object  | float64  |\n| Violation Legal Code  | object  | float64  |\n| Violation Post Code   | object  | float64  |\n+-----------------------+---------+----------+\n\nThe following columns also raised exceptions on conversion:\n\n- Issuer Squad\n  ValueError('cannot convert float NaN to integer')\n- Violation Description\n  ValueError(\"could not convert string to float: 'BUS LANE VIOLATION'\")\n- Violation Legal Code\n  ValueError(\"could not convert string to float: 'T'\")\n- Violation Post Code\n  ValueError(\"could not convert string to float: 'H -'\")\n\nUsually this is due to dask's dtype inference failing, and\n*may* be fixed by specifying dtypes manually by adding:\n\ndtype={'Issuer Squad': 'object',\n       'Unregistered Vehicle?': 'float64',\n       'Violation Description': 'object',\n       'Violation Legal Code': 'object',\n       'Violation Post Code': 'object'}\n\nto the call to `read_csv`/`read_table`.",
     "output_type": "error",
     "traceback": [
      "\u001b[1;31m---------------------------------------------------------------------------\u001b[0m",
      "\u001b[1;31mValueError\u001b[0m                                Traceback (most recent call last)",
      "\u001b[1;32m<ipython-input-20-2fbde6ce8fb7>\u001b[0m in \u001b[0;36m<module>\u001b[1;34m\u001b[0m\n\u001b[1;32m----> 1\u001b[1;33m \u001b[0mfy14\u001b[0m\u001b[1;33m[\u001b[0m\u001b[0mcommon_columns\u001b[0m\u001b[1;33m]\u001b[0m\u001b[1;33m.\u001b[0m\u001b[0mhead\u001b[0m\u001b[1;33m(\u001b[0m\u001b[1;36m3\u001b[0m\u001b[1;33m)\u001b[0m\u001b[1;33m\u001b[0m\u001b[1;33m\u001b[0m\u001b[0m\n\u001b[0m",
      "\u001b[1;32mD:\\Anaconda\\lib\\site-packages\\dask\\dataframe\\core.py\u001b[0m in \u001b[0;36mhead\u001b[1;34m(self, n, npartitions, compute)\u001b[0m\n\u001b[0;32m    969\u001b[0m             \u001b[0mWhether\u001b[0m \u001b[0mto\u001b[0m \u001b[0mcompute\u001b[0m \u001b[0mthe\u001b[0m \u001b[0mresult\u001b[0m\u001b[1;33m,\u001b[0m \u001b[0mdefault\u001b[0m \u001b[1;32mis\u001b[0m \u001b[1;32mTrue\u001b[0m\u001b[1;33m.\u001b[0m\u001b[1;33m\u001b[0m\u001b[1;33m\u001b[0m\u001b[0m\n\u001b[0;32m    970\u001b[0m         \"\"\"\n\u001b[1;32m--> 971\u001b[1;33m         \u001b[1;32mreturn\u001b[0m \u001b[0mself\u001b[0m\u001b[1;33m.\u001b[0m\u001b[0m_head\u001b[0m\u001b[1;33m(\u001b[0m\u001b[0mn\u001b[0m\u001b[1;33m=\u001b[0m\u001b[0mn\u001b[0m\u001b[1;33m,\u001b[0m \u001b[0mnpartitions\u001b[0m\u001b[1;33m=\u001b[0m\u001b[0mnpartitions\u001b[0m\u001b[1;33m,\u001b[0m \u001b[0mcompute\u001b[0m\u001b[1;33m=\u001b[0m\u001b[0mcompute\u001b[0m\u001b[1;33m,\u001b[0m \u001b[0msafe\u001b[0m\u001b[1;33m=\u001b[0m\u001b[1;32mTrue\u001b[0m\u001b[1;33m)\u001b[0m\u001b[1;33m\u001b[0m\u001b[1;33m\u001b[0m\u001b[0m\n\u001b[0m\u001b[0;32m    972\u001b[0m \u001b[1;33m\u001b[0m\u001b[0m\n\u001b[0;32m    973\u001b[0m     \u001b[1;32mdef\u001b[0m \u001b[0m_head\u001b[0m\u001b[1;33m(\u001b[0m\u001b[0mself\u001b[0m\u001b[1;33m,\u001b[0m \u001b[0mn\u001b[0m\u001b[1;33m,\u001b[0m \u001b[0mnpartitions\u001b[0m\u001b[1;33m,\u001b[0m \u001b[0mcompute\u001b[0m\u001b[1;33m,\u001b[0m \u001b[0msafe\u001b[0m\u001b[1;33m)\u001b[0m\u001b[1;33m:\u001b[0m\u001b[1;33m\u001b[0m\u001b[1;33m\u001b[0m\u001b[0m\n",
      "\u001b[1;32mD:\\Anaconda\\lib\\site-packages\\dask\\dataframe\\core.py\u001b[0m in \u001b[0;36m_head\u001b[1;34m(self, n, npartitions, compute, safe)\u001b[0m\n\u001b[0;32m   1002\u001b[0m \u001b[1;33m\u001b[0m\u001b[0m\n\u001b[0;32m   1003\u001b[0m         \u001b[1;32mif\u001b[0m \u001b[0mcompute\u001b[0m\u001b[1;33m:\u001b[0m\u001b[1;33m\u001b[0m\u001b[1;33m\u001b[0m\u001b[0m\n\u001b[1;32m-> 1004\u001b[1;33m             \u001b[0mresult\u001b[0m \u001b[1;33m=\u001b[0m \u001b[0mresult\u001b[0m\u001b[1;33m.\u001b[0m\u001b[0mcompute\u001b[0m\u001b[1;33m(\u001b[0m\u001b[1;33m)\u001b[0m\u001b[1;33m\u001b[0m\u001b[1;33m\u001b[0m\u001b[0m\n\u001b[0m\u001b[0;32m   1005\u001b[0m         \u001b[1;32mreturn\u001b[0m \u001b[0mresult\u001b[0m\u001b[1;33m\u001b[0m\u001b[1;33m\u001b[0m\u001b[0m\n\u001b[0;32m   1006\u001b[0m \u001b[1;33m\u001b[0m\u001b[0m\n",
      "\u001b[1;32mD:\\Anaconda\\lib\\site-packages\\dask\\base.py\u001b[0m in \u001b[0;36mcompute\u001b[1;34m(self, **kwargs)\u001b[0m\n\u001b[0;32m    163\u001b[0m         \u001b[0mdask\u001b[0m\u001b[1;33m.\u001b[0m\u001b[0mbase\u001b[0m\u001b[1;33m.\u001b[0m\u001b[0mcompute\u001b[0m\u001b[1;33m\u001b[0m\u001b[1;33m\u001b[0m\u001b[0m\n\u001b[0;32m    164\u001b[0m         \"\"\"\n\u001b[1;32m--> 165\u001b[1;33m         \u001b[1;33m(\u001b[0m\u001b[0mresult\u001b[0m\u001b[1;33m,\u001b[0m\u001b[1;33m)\u001b[0m \u001b[1;33m=\u001b[0m \u001b[0mcompute\u001b[0m\u001b[1;33m(\u001b[0m\u001b[0mself\u001b[0m\u001b[1;33m,\u001b[0m \u001b[0mtraverse\u001b[0m\u001b[1;33m=\u001b[0m\u001b[1;32mFalse\u001b[0m\u001b[1;33m,\u001b[0m \u001b[1;33m**\u001b[0m\u001b[0mkwargs\u001b[0m\u001b[1;33m)\u001b[0m\u001b[1;33m\u001b[0m\u001b[1;33m\u001b[0m\u001b[0m\n\u001b[0m\u001b[0;32m    166\u001b[0m         \u001b[1;32mreturn\u001b[0m \u001b[0mresult\u001b[0m\u001b[1;33m\u001b[0m\u001b[1;33m\u001b[0m\u001b[0m\n\u001b[0;32m    167\u001b[0m \u001b[1;33m\u001b[0m\u001b[0m\n",
      "\u001b[1;32mD:\\Anaconda\\lib\\site-packages\\dask\\base.py\u001b[0m in \u001b[0;36mcompute\u001b[1;34m(*args, **kwargs)\u001b[0m\n\u001b[0;32m    434\u001b[0m     \u001b[0mkeys\u001b[0m \u001b[1;33m=\u001b[0m \u001b[1;33m[\u001b[0m\u001b[0mx\u001b[0m\u001b[1;33m.\u001b[0m\u001b[0m__dask_keys__\u001b[0m\u001b[1;33m(\u001b[0m\u001b[1;33m)\u001b[0m \u001b[1;32mfor\u001b[0m \u001b[0mx\u001b[0m \u001b[1;32min\u001b[0m \u001b[0mcollections\u001b[0m\u001b[1;33m]\u001b[0m\u001b[1;33m\u001b[0m\u001b[1;33m\u001b[0m\u001b[0m\n\u001b[0;32m    435\u001b[0m     \u001b[0mpostcomputes\u001b[0m \u001b[1;33m=\u001b[0m \u001b[1;33m[\u001b[0m\u001b[0mx\u001b[0m\u001b[1;33m.\u001b[0m\u001b[0m__dask_postcompute__\u001b[0m\u001b[1;33m(\u001b[0m\u001b[1;33m)\u001b[0m \u001b[1;32mfor\u001b[0m \u001b[0mx\u001b[0m \u001b[1;32min\u001b[0m \u001b[0mcollections\u001b[0m\u001b[1;33m]\u001b[0m\u001b[1;33m\u001b[0m\u001b[1;33m\u001b[0m\u001b[0m\n\u001b[1;32m--> 436\u001b[1;33m     \u001b[0mresults\u001b[0m \u001b[1;33m=\u001b[0m \u001b[0mschedule\u001b[0m\u001b[1;33m(\u001b[0m\u001b[0mdsk\u001b[0m\u001b[1;33m,\u001b[0m \u001b[0mkeys\u001b[0m\u001b[1;33m,\u001b[0m \u001b[1;33m**\u001b[0m\u001b[0mkwargs\u001b[0m\u001b[1;33m)\u001b[0m\u001b[1;33m\u001b[0m\u001b[1;33m\u001b[0m\u001b[0m\n\u001b[0m\u001b[0;32m    437\u001b[0m     \u001b[1;32mreturn\u001b[0m \u001b[0mrepack\u001b[0m\u001b[1;33m(\u001b[0m\u001b[1;33m[\u001b[0m\u001b[0mf\u001b[0m\u001b[1;33m(\u001b[0m\u001b[0mr\u001b[0m\u001b[1;33m,\u001b[0m \u001b[1;33m*\u001b[0m\u001b[0ma\u001b[0m\u001b[1;33m)\u001b[0m \u001b[1;32mfor\u001b[0m \u001b[0mr\u001b[0m\u001b[1;33m,\u001b[0m \u001b[1;33m(\u001b[0m\u001b[0mf\u001b[0m\u001b[1;33m,\u001b[0m \u001b[0ma\u001b[0m\u001b[1;33m)\u001b[0m \u001b[1;32min\u001b[0m \u001b[0mzip\u001b[0m\u001b[1;33m(\u001b[0m\u001b[0mresults\u001b[0m\u001b[1;33m,\u001b[0m \u001b[0mpostcomputes\u001b[0m\u001b[1;33m)\u001b[0m\u001b[1;33m]\u001b[0m\u001b[1;33m)\u001b[0m\u001b[1;33m\u001b[0m\u001b[1;33m\u001b[0m\u001b[0m\n\u001b[0;32m    438\u001b[0m \u001b[1;33m\u001b[0m\u001b[0m\n",
      "\u001b[1;32mD:\\Anaconda\\lib\\site-packages\\dask\\threaded.py\u001b[0m in \u001b[0;36mget\u001b[1;34m(dsk, result, cache, num_workers, pool, **kwargs)\u001b[0m\n\u001b[0;32m     79\u001b[0m         \u001b[0mget_id\u001b[0m\u001b[1;33m=\u001b[0m\u001b[0m_thread_get_id\u001b[0m\u001b[1;33m,\u001b[0m\u001b[1;33m\u001b[0m\u001b[1;33m\u001b[0m\u001b[0m\n\u001b[0;32m     80\u001b[0m         \u001b[0mpack_exception\u001b[0m\u001b[1;33m=\u001b[0m\u001b[0mpack_exception\u001b[0m\u001b[1;33m,\u001b[0m\u001b[1;33m\u001b[0m\u001b[1;33m\u001b[0m\u001b[0m\n\u001b[1;32m---> 81\u001b[1;33m         \u001b[1;33m**\u001b[0m\u001b[0mkwargs\u001b[0m\u001b[1;33m\u001b[0m\u001b[1;33m\u001b[0m\u001b[0m\n\u001b[0m\u001b[0;32m     82\u001b[0m     )\n\u001b[0;32m     83\u001b[0m \u001b[1;33m\u001b[0m\u001b[0m\n",
      "\u001b[1;32mD:\\Anaconda\\lib\\site-packages\\dask\\local.py\u001b[0m in \u001b[0;36mget_async\u001b[1;34m(apply_async, num_workers, dsk, result, cache, get_id, rerun_exceptions_locally, pack_exception, raise_exception, callbacks, dumps, loads, **kwargs)\u001b[0m\n\u001b[0;32m    484\u001b[0m                         \u001b[0m_execute_task\u001b[0m\u001b[1;33m(\u001b[0m\u001b[0mtask\u001b[0m\u001b[1;33m,\u001b[0m \u001b[0mdata\u001b[0m\u001b[1;33m)\u001b[0m  \u001b[1;31m# Re-execute locally\u001b[0m\u001b[1;33m\u001b[0m\u001b[1;33m\u001b[0m\u001b[0m\n\u001b[0;32m    485\u001b[0m                     \u001b[1;32melse\u001b[0m\u001b[1;33m:\u001b[0m\u001b[1;33m\u001b[0m\u001b[1;33m\u001b[0m\u001b[0m\n\u001b[1;32m--> 486\u001b[1;33m                         \u001b[0mraise_exception\u001b[0m\u001b[1;33m(\u001b[0m\u001b[0mexc\u001b[0m\u001b[1;33m,\u001b[0m \u001b[0mtb\u001b[0m\u001b[1;33m)\u001b[0m\u001b[1;33m\u001b[0m\u001b[1;33m\u001b[0m\u001b[0m\n\u001b[0m\u001b[0;32m    487\u001b[0m                 \u001b[0mres\u001b[0m\u001b[1;33m,\u001b[0m \u001b[0mworker_id\u001b[0m \u001b[1;33m=\u001b[0m \u001b[0mloads\u001b[0m\u001b[1;33m(\u001b[0m\u001b[0mres_info\u001b[0m\u001b[1;33m)\u001b[0m\u001b[1;33m\u001b[0m\u001b[1;33m\u001b[0m\u001b[0m\n\u001b[0;32m    488\u001b[0m                 \u001b[0mstate\u001b[0m\u001b[1;33m[\u001b[0m\u001b[1;34m\"cache\"\u001b[0m\u001b[1;33m]\u001b[0m\u001b[1;33m[\u001b[0m\u001b[0mkey\u001b[0m\u001b[1;33m]\u001b[0m \u001b[1;33m=\u001b[0m \u001b[0mres\u001b[0m\u001b[1;33m\u001b[0m\u001b[1;33m\u001b[0m\u001b[0m\n",
      "\u001b[1;32mD:\\Anaconda\\lib\\site-packages\\dask\\local.py\u001b[0m in \u001b[0;36mreraise\u001b[1;34m(exc, tb)\u001b[0m\n\u001b[0;32m    314\u001b[0m     \u001b[1;32mif\u001b[0m \u001b[0mexc\u001b[0m\u001b[1;33m.\u001b[0m\u001b[0m__traceback__\u001b[0m \u001b[1;32mis\u001b[0m \u001b[1;32mnot\u001b[0m \u001b[0mtb\u001b[0m\u001b[1;33m:\u001b[0m\u001b[1;33m\u001b[0m\u001b[1;33m\u001b[0m\u001b[0m\n\u001b[0;32m    315\u001b[0m         \u001b[1;32mraise\u001b[0m \u001b[0mexc\u001b[0m\u001b[1;33m.\u001b[0m\u001b[0mwith_traceback\u001b[0m\u001b[1;33m(\u001b[0m\u001b[0mtb\u001b[0m\u001b[1;33m)\u001b[0m\u001b[1;33m\u001b[0m\u001b[1;33m\u001b[0m\u001b[0m\n\u001b[1;32m--> 316\u001b[1;33m     \u001b[1;32mraise\u001b[0m \u001b[0mexc\u001b[0m\u001b[1;33m\u001b[0m\u001b[1;33m\u001b[0m\u001b[0m\n\u001b[0m\u001b[0;32m    317\u001b[0m \u001b[1;33m\u001b[0m\u001b[0m\n\u001b[0;32m    318\u001b[0m \u001b[1;33m\u001b[0m\u001b[0m\n",
      "\u001b[1;32mD:\\Anaconda\\lib\\site-packages\\dask\\local.py\u001b[0m in \u001b[0;36mexecute_task\u001b[1;34m(key, task_info, dumps, loads, get_id, pack_exception)\u001b[0m\n\u001b[0;32m    220\u001b[0m     \u001b[1;32mtry\u001b[0m\u001b[1;33m:\u001b[0m\u001b[1;33m\u001b[0m\u001b[1;33m\u001b[0m\u001b[0m\n\u001b[0;32m    221\u001b[0m         \u001b[0mtask\u001b[0m\u001b[1;33m,\u001b[0m \u001b[0mdata\u001b[0m \u001b[1;33m=\u001b[0m \u001b[0mloads\u001b[0m\u001b[1;33m(\u001b[0m\u001b[0mtask_info\u001b[0m\u001b[1;33m)\u001b[0m\u001b[1;33m\u001b[0m\u001b[1;33m\u001b[0m\u001b[0m\n\u001b[1;32m--> 222\u001b[1;33m         \u001b[0mresult\u001b[0m \u001b[1;33m=\u001b[0m \u001b[0m_execute_task\u001b[0m\u001b[1;33m(\u001b[0m\u001b[0mtask\u001b[0m\u001b[1;33m,\u001b[0m \u001b[0mdata\u001b[0m\u001b[1;33m)\u001b[0m\u001b[1;33m\u001b[0m\u001b[1;33m\u001b[0m\u001b[0m\n\u001b[0m\u001b[0;32m    223\u001b[0m         \u001b[0mid\u001b[0m \u001b[1;33m=\u001b[0m \u001b[0mget_id\u001b[0m\u001b[1;33m(\u001b[0m\u001b[1;33m)\u001b[0m\u001b[1;33m\u001b[0m\u001b[1;33m\u001b[0m\u001b[0m\n\u001b[0;32m    224\u001b[0m         \u001b[0mresult\u001b[0m \u001b[1;33m=\u001b[0m \u001b[0mdumps\u001b[0m\u001b[1;33m(\u001b[0m\u001b[1;33m(\u001b[0m\u001b[0mresult\u001b[0m\u001b[1;33m,\u001b[0m \u001b[0mid\u001b[0m\u001b[1;33m)\u001b[0m\u001b[1;33m)\u001b[0m\u001b[1;33m\u001b[0m\u001b[1;33m\u001b[0m\u001b[0m\n",
      "\u001b[1;32mD:\\Anaconda\\lib\\site-packages\\dask\\core.py\u001b[0m in \u001b[0;36m_execute_task\u001b[1;34m(arg, cache, dsk)\u001b[0m\n\u001b[0;32m    116\u001b[0m     \u001b[1;32melif\u001b[0m \u001b[0mistask\u001b[0m\u001b[1;33m(\u001b[0m\u001b[0marg\u001b[0m\u001b[1;33m)\u001b[0m\u001b[1;33m:\u001b[0m\u001b[1;33m\u001b[0m\u001b[1;33m\u001b[0m\u001b[0m\n\u001b[0;32m    117\u001b[0m         \u001b[0mfunc\u001b[0m\u001b[1;33m,\u001b[0m \u001b[0margs\u001b[0m \u001b[1;33m=\u001b[0m \u001b[0marg\u001b[0m\u001b[1;33m[\u001b[0m\u001b[1;36m0\u001b[0m\u001b[1;33m]\u001b[0m\u001b[1;33m,\u001b[0m \u001b[0marg\u001b[0m\u001b[1;33m[\u001b[0m\u001b[1;36m1\u001b[0m\u001b[1;33m:\u001b[0m\u001b[1;33m]\u001b[0m\u001b[1;33m\u001b[0m\u001b[1;33m\u001b[0m\u001b[0m\n\u001b[1;32m--> 118\u001b[1;33m         \u001b[0margs2\u001b[0m \u001b[1;33m=\u001b[0m \u001b[1;33m[\u001b[0m\u001b[0m_execute_task\u001b[0m\u001b[1;33m(\u001b[0m\u001b[0ma\u001b[0m\u001b[1;33m,\u001b[0m \u001b[0mcache\u001b[0m\u001b[1;33m)\u001b[0m \u001b[1;32mfor\u001b[0m \u001b[0ma\u001b[0m \u001b[1;32min\u001b[0m \u001b[0margs\u001b[0m\u001b[1;33m]\u001b[0m\u001b[1;33m\u001b[0m\u001b[1;33m\u001b[0m\u001b[0m\n\u001b[0m\u001b[0;32m    119\u001b[0m         \u001b[1;32mreturn\u001b[0m \u001b[0mfunc\u001b[0m\u001b[1;33m(\u001b[0m\u001b[1;33m*\u001b[0m\u001b[0margs2\u001b[0m\u001b[1;33m)\u001b[0m\u001b[1;33m\u001b[0m\u001b[1;33m\u001b[0m\u001b[0m\n\u001b[0;32m    120\u001b[0m     \u001b[1;32melif\u001b[0m \u001b[1;32mnot\u001b[0m \u001b[0mishashable\u001b[0m\u001b[1;33m(\u001b[0m\u001b[0marg\u001b[0m\u001b[1;33m)\u001b[0m\u001b[1;33m:\u001b[0m\u001b[1;33m\u001b[0m\u001b[1;33m\u001b[0m\u001b[0m\n",
      "\u001b[1;32mD:\\Anaconda\\lib\\site-packages\\dask\\core.py\u001b[0m in \u001b[0;36m<listcomp>\u001b[1;34m(.0)\u001b[0m\n\u001b[0;32m    116\u001b[0m     \u001b[1;32melif\u001b[0m \u001b[0mistask\u001b[0m\u001b[1;33m(\u001b[0m\u001b[0marg\u001b[0m\u001b[1;33m)\u001b[0m\u001b[1;33m:\u001b[0m\u001b[1;33m\u001b[0m\u001b[1;33m\u001b[0m\u001b[0m\n\u001b[0;32m    117\u001b[0m         \u001b[0mfunc\u001b[0m\u001b[1;33m,\u001b[0m \u001b[0margs\u001b[0m \u001b[1;33m=\u001b[0m \u001b[0marg\u001b[0m\u001b[1;33m[\u001b[0m\u001b[1;36m0\u001b[0m\u001b[1;33m]\u001b[0m\u001b[1;33m,\u001b[0m \u001b[0marg\u001b[0m\u001b[1;33m[\u001b[0m\u001b[1;36m1\u001b[0m\u001b[1;33m:\u001b[0m\u001b[1;33m]\u001b[0m\u001b[1;33m\u001b[0m\u001b[1;33m\u001b[0m\u001b[0m\n\u001b[1;32m--> 118\u001b[1;33m         \u001b[0margs2\u001b[0m \u001b[1;33m=\u001b[0m \u001b[1;33m[\u001b[0m\u001b[0m_execute_task\u001b[0m\u001b[1;33m(\u001b[0m\u001b[0ma\u001b[0m\u001b[1;33m,\u001b[0m \u001b[0mcache\u001b[0m\u001b[1;33m)\u001b[0m \u001b[1;32mfor\u001b[0m \u001b[0ma\u001b[0m \u001b[1;32min\u001b[0m \u001b[0margs\u001b[0m\u001b[1;33m]\u001b[0m\u001b[1;33m\u001b[0m\u001b[1;33m\u001b[0m\u001b[0m\n\u001b[0m\u001b[0;32m    119\u001b[0m         \u001b[1;32mreturn\u001b[0m \u001b[0mfunc\u001b[0m\u001b[1;33m(\u001b[0m\u001b[1;33m*\u001b[0m\u001b[0margs2\u001b[0m\u001b[1;33m)\u001b[0m\u001b[1;33m\u001b[0m\u001b[1;33m\u001b[0m\u001b[0m\n\u001b[0;32m    120\u001b[0m     \u001b[1;32melif\u001b[0m \u001b[1;32mnot\u001b[0m \u001b[0mishashable\u001b[0m\u001b[1;33m(\u001b[0m\u001b[0marg\u001b[0m\u001b[1;33m)\u001b[0m\u001b[1;33m:\u001b[0m\u001b[1;33m\u001b[0m\u001b[1;33m\u001b[0m\u001b[0m\n",
      "\u001b[1;32mD:\\Anaconda\\lib\\site-packages\\dask\\core.py\u001b[0m in \u001b[0;36m_execute_task\u001b[1;34m(arg, cache, dsk)\u001b[0m\n\u001b[0;32m    116\u001b[0m     \u001b[1;32melif\u001b[0m \u001b[0mistask\u001b[0m\u001b[1;33m(\u001b[0m\u001b[0marg\u001b[0m\u001b[1;33m)\u001b[0m\u001b[1;33m:\u001b[0m\u001b[1;33m\u001b[0m\u001b[1;33m\u001b[0m\u001b[0m\n\u001b[0;32m    117\u001b[0m         \u001b[0mfunc\u001b[0m\u001b[1;33m,\u001b[0m \u001b[0margs\u001b[0m \u001b[1;33m=\u001b[0m \u001b[0marg\u001b[0m\u001b[1;33m[\u001b[0m\u001b[1;36m0\u001b[0m\u001b[1;33m]\u001b[0m\u001b[1;33m,\u001b[0m \u001b[0marg\u001b[0m\u001b[1;33m[\u001b[0m\u001b[1;36m1\u001b[0m\u001b[1;33m:\u001b[0m\u001b[1;33m]\u001b[0m\u001b[1;33m\u001b[0m\u001b[1;33m\u001b[0m\u001b[0m\n\u001b[1;32m--> 118\u001b[1;33m         \u001b[0margs2\u001b[0m \u001b[1;33m=\u001b[0m \u001b[1;33m[\u001b[0m\u001b[0m_execute_task\u001b[0m\u001b[1;33m(\u001b[0m\u001b[0ma\u001b[0m\u001b[1;33m,\u001b[0m \u001b[0mcache\u001b[0m\u001b[1;33m)\u001b[0m \u001b[1;32mfor\u001b[0m \u001b[0ma\u001b[0m \u001b[1;32min\u001b[0m \u001b[0margs\u001b[0m\u001b[1;33m]\u001b[0m\u001b[1;33m\u001b[0m\u001b[1;33m\u001b[0m\u001b[0m\n\u001b[0m\u001b[0;32m    119\u001b[0m         \u001b[1;32mreturn\u001b[0m \u001b[0mfunc\u001b[0m\u001b[1;33m(\u001b[0m\u001b[1;33m*\u001b[0m\u001b[0margs2\u001b[0m\u001b[1;33m)\u001b[0m\u001b[1;33m\u001b[0m\u001b[1;33m\u001b[0m\u001b[0m\n\u001b[0;32m    120\u001b[0m     \u001b[1;32melif\u001b[0m \u001b[1;32mnot\u001b[0m \u001b[0mishashable\u001b[0m\u001b[1;33m(\u001b[0m\u001b[0marg\u001b[0m\u001b[1;33m)\u001b[0m\u001b[1;33m:\u001b[0m\u001b[1;33m\u001b[0m\u001b[1;33m\u001b[0m\u001b[0m\n",
      "\u001b[1;32mD:\\Anaconda\\lib\\site-packages\\dask\\core.py\u001b[0m in \u001b[0;36m<listcomp>\u001b[1;34m(.0)\u001b[0m\n\u001b[0;32m    116\u001b[0m     \u001b[1;32melif\u001b[0m \u001b[0mistask\u001b[0m\u001b[1;33m(\u001b[0m\u001b[0marg\u001b[0m\u001b[1;33m)\u001b[0m\u001b[1;33m:\u001b[0m\u001b[1;33m\u001b[0m\u001b[1;33m\u001b[0m\u001b[0m\n\u001b[0;32m    117\u001b[0m         \u001b[0mfunc\u001b[0m\u001b[1;33m,\u001b[0m \u001b[0margs\u001b[0m \u001b[1;33m=\u001b[0m \u001b[0marg\u001b[0m\u001b[1;33m[\u001b[0m\u001b[1;36m0\u001b[0m\u001b[1;33m]\u001b[0m\u001b[1;33m,\u001b[0m \u001b[0marg\u001b[0m\u001b[1;33m[\u001b[0m\u001b[1;36m1\u001b[0m\u001b[1;33m:\u001b[0m\u001b[1;33m]\u001b[0m\u001b[1;33m\u001b[0m\u001b[1;33m\u001b[0m\u001b[0m\n\u001b[1;32m--> 118\u001b[1;33m         \u001b[0margs2\u001b[0m \u001b[1;33m=\u001b[0m \u001b[1;33m[\u001b[0m\u001b[0m_execute_task\u001b[0m\u001b[1;33m(\u001b[0m\u001b[0ma\u001b[0m\u001b[1;33m,\u001b[0m \u001b[0mcache\u001b[0m\u001b[1;33m)\u001b[0m \u001b[1;32mfor\u001b[0m \u001b[0ma\u001b[0m \u001b[1;32min\u001b[0m \u001b[0margs\u001b[0m\u001b[1;33m]\u001b[0m\u001b[1;33m\u001b[0m\u001b[1;33m\u001b[0m\u001b[0m\n\u001b[0m\u001b[0;32m    119\u001b[0m         \u001b[1;32mreturn\u001b[0m \u001b[0mfunc\u001b[0m\u001b[1;33m(\u001b[0m\u001b[1;33m*\u001b[0m\u001b[0margs2\u001b[0m\u001b[1;33m)\u001b[0m\u001b[1;33m\u001b[0m\u001b[1;33m\u001b[0m\u001b[0m\n\u001b[0;32m    120\u001b[0m     \u001b[1;32melif\u001b[0m \u001b[1;32mnot\u001b[0m \u001b[0mishashable\u001b[0m\u001b[1;33m(\u001b[0m\u001b[0marg\u001b[0m\u001b[1;33m)\u001b[0m\u001b[1;33m:\u001b[0m\u001b[1;33m\u001b[0m\u001b[1;33m\u001b[0m\u001b[0m\n",
      "\u001b[1;32mD:\\Anaconda\\lib\\site-packages\\dask\\core.py\u001b[0m in \u001b[0;36m_execute_task\u001b[1;34m(arg, cache, dsk)\u001b[0m\n\u001b[0;32m    116\u001b[0m     \u001b[1;32melif\u001b[0m \u001b[0mistask\u001b[0m\u001b[1;33m(\u001b[0m\u001b[0marg\u001b[0m\u001b[1;33m)\u001b[0m\u001b[1;33m:\u001b[0m\u001b[1;33m\u001b[0m\u001b[1;33m\u001b[0m\u001b[0m\n\u001b[0;32m    117\u001b[0m         \u001b[0mfunc\u001b[0m\u001b[1;33m,\u001b[0m \u001b[0margs\u001b[0m \u001b[1;33m=\u001b[0m \u001b[0marg\u001b[0m\u001b[1;33m[\u001b[0m\u001b[1;36m0\u001b[0m\u001b[1;33m]\u001b[0m\u001b[1;33m,\u001b[0m \u001b[0marg\u001b[0m\u001b[1;33m[\u001b[0m\u001b[1;36m1\u001b[0m\u001b[1;33m:\u001b[0m\u001b[1;33m]\u001b[0m\u001b[1;33m\u001b[0m\u001b[1;33m\u001b[0m\u001b[0m\n\u001b[1;32m--> 118\u001b[1;33m         \u001b[0margs2\u001b[0m \u001b[1;33m=\u001b[0m \u001b[1;33m[\u001b[0m\u001b[0m_execute_task\u001b[0m\u001b[1;33m(\u001b[0m\u001b[0ma\u001b[0m\u001b[1;33m,\u001b[0m \u001b[0mcache\u001b[0m\u001b[1;33m)\u001b[0m \u001b[1;32mfor\u001b[0m \u001b[0ma\u001b[0m \u001b[1;32min\u001b[0m \u001b[0margs\u001b[0m\u001b[1;33m]\u001b[0m\u001b[1;33m\u001b[0m\u001b[1;33m\u001b[0m\u001b[0m\n\u001b[0m\u001b[0;32m    119\u001b[0m         \u001b[1;32mreturn\u001b[0m \u001b[0mfunc\u001b[0m\u001b[1;33m(\u001b[0m\u001b[1;33m*\u001b[0m\u001b[0margs2\u001b[0m\u001b[1;33m)\u001b[0m\u001b[1;33m\u001b[0m\u001b[1;33m\u001b[0m\u001b[0m\n\u001b[0;32m    120\u001b[0m     \u001b[1;32melif\u001b[0m \u001b[1;32mnot\u001b[0m \u001b[0mishashable\u001b[0m\u001b[1;33m(\u001b[0m\u001b[0marg\u001b[0m\u001b[1;33m)\u001b[0m\u001b[1;33m:\u001b[0m\u001b[1;33m\u001b[0m\u001b[1;33m\u001b[0m\u001b[0m\n",
      "\u001b[1;32mD:\\Anaconda\\lib\\site-packages\\dask\\core.py\u001b[0m in \u001b[0;36m<listcomp>\u001b[1;34m(.0)\u001b[0m\n\u001b[0;32m    116\u001b[0m     \u001b[1;32melif\u001b[0m \u001b[0mistask\u001b[0m\u001b[1;33m(\u001b[0m\u001b[0marg\u001b[0m\u001b[1;33m)\u001b[0m\u001b[1;33m:\u001b[0m\u001b[1;33m\u001b[0m\u001b[1;33m\u001b[0m\u001b[0m\n\u001b[0;32m    117\u001b[0m         \u001b[0mfunc\u001b[0m\u001b[1;33m,\u001b[0m \u001b[0margs\u001b[0m \u001b[1;33m=\u001b[0m \u001b[0marg\u001b[0m\u001b[1;33m[\u001b[0m\u001b[1;36m0\u001b[0m\u001b[1;33m]\u001b[0m\u001b[1;33m,\u001b[0m \u001b[0marg\u001b[0m\u001b[1;33m[\u001b[0m\u001b[1;36m1\u001b[0m\u001b[1;33m:\u001b[0m\u001b[1;33m]\u001b[0m\u001b[1;33m\u001b[0m\u001b[1;33m\u001b[0m\u001b[0m\n\u001b[1;32m--> 118\u001b[1;33m         \u001b[0margs2\u001b[0m \u001b[1;33m=\u001b[0m \u001b[1;33m[\u001b[0m\u001b[0m_execute_task\u001b[0m\u001b[1;33m(\u001b[0m\u001b[0ma\u001b[0m\u001b[1;33m,\u001b[0m \u001b[0mcache\u001b[0m\u001b[1;33m)\u001b[0m \u001b[1;32mfor\u001b[0m \u001b[0ma\u001b[0m \u001b[1;32min\u001b[0m \u001b[0margs\u001b[0m\u001b[1;33m]\u001b[0m\u001b[1;33m\u001b[0m\u001b[1;33m\u001b[0m\u001b[0m\n\u001b[0m\u001b[0;32m    119\u001b[0m         \u001b[1;32mreturn\u001b[0m \u001b[0mfunc\u001b[0m\u001b[1;33m(\u001b[0m\u001b[1;33m*\u001b[0m\u001b[0margs2\u001b[0m\u001b[1;33m)\u001b[0m\u001b[1;33m\u001b[0m\u001b[1;33m\u001b[0m\u001b[0m\n\u001b[0;32m    120\u001b[0m     \u001b[1;32melif\u001b[0m \u001b[1;32mnot\u001b[0m \u001b[0mishashable\u001b[0m\u001b[1;33m(\u001b[0m\u001b[0marg\u001b[0m\u001b[1;33m)\u001b[0m\u001b[1;33m:\u001b[0m\u001b[1;33m\u001b[0m\u001b[1;33m\u001b[0m\u001b[0m\n",
      "\u001b[1;32mD:\\Anaconda\\lib\\site-packages\\dask\\core.py\u001b[0m in \u001b[0;36m_execute_task\u001b[1;34m(arg, cache, dsk)\u001b[0m\n\u001b[0;32m    117\u001b[0m         \u001b[0mfunc\u001b[0m\u001b[1;33m,\u001b[0m \u001b[0margs\u001b[0m \u001b[1;33m=\u001b[0m \u001b[0marg\u001b[0m\u001b[1;33m[\u001b[0m\u001b[1;36m0\u001b[0m\u001b[1;33m]\u001b[0m\u001b[1;33m,\u001b[0m \u001b[0marg\u001b[0m\u001b[1;33m[\u001b[0m\u001b[1;36m1\u001b[0m\u001b[1;33m:\u001b[0m\u001b[1;33m]\u001b[0m\u001b[1;33m\u001b[0m\u001b[1;33m\u001b[0m\u001b[0m\n\u001b[0;32m    118\u001b[0m         \u001b[0margs2\u001b[0m \u001b[1;33m=\u001b[0m \u001b[1;33m[\u001b[0m\u001b[0m_execute_task\u001b[0m\u001b[1;33m(\u001b[0m\u001b[0ma\u001b[0m\u001b[1;33m,\u001b[0m \u001b[0mcache\u001b[0m\u001b[1;33m)\u001b[0m \u001b[1;32mfor\u001b[0m \u001b[0ma\u001b[0m \u001b[1;32min\u001b[0m \u001b[0margs\u001b[0m\u001b[1;33m]\u001b[0m\u001b[1;33m\u001b[0m\u001b[1;33m\u001b[0m\u001b[0m\n\u001b[1;32m--> 119\u001b[1;33m         \u001b[1;32mreturn\u001b[0m \u001b[0mfunc\u001b[0m\u001b[1;33m(\u001b[0m\u001b[1;33m*\u001b[0m\u001b[0margs2\u001b[0m\u001b[1;33m)\u001b[0m\u001b[1;33m\u001b[0m\u001b[1;33m\u001b[0m\u001b[0m\n\u001b[0m\u001b[0;32m    120\u001b[0m     \u001b[1;32melif\u001b[0m \u001b[1;32mnot\u001b[0m \u001b[0mishashable\u001b[0m\u001b[1;33m(\u001b[0m\u001b[0marg\u001b[0m\u001b[1;33m)\u001b[0m\u001b[1;33m:\u001b[0m\u001b[1;33m\u001b[0m\u001b[1;33m\u001b[0m\u001b[0m\n\u001b[0;32m    121\u001b[0m         \u001b[1;32mreturn\u001b[0m \u001b[0marg\u001b[0m\u001b[1;33m\u001b[0m\u001b[1;33m\u001b[0m\u001b[0m\n",
      "\u001b[1;32mD:\\Anaconda\\lib\\site-packages\\dask\\utils.py\u001b[0m in \u001b[0;36mapply\u001b[1;34m(func, args, kwargs)\u001b[0m\n\u001b[0;32m     27\u001b[0m \u001b[1;32mdef\u001b[0m \u001b[0mapply\u001b[0m\u001b[1;33m(\u001b[0m\u001b[0mfunc\u001b[0m\u001b[1;33m,\u001b[0m \u001b[0margs\u001b[0m\u001b[1;33m,\u001b[0m \u001b[0mkwargs\u001b[0m\u001b[1;33m=\u001b[0m\u001b[1;32mNone\u001b[0m\u001b[1;33m)\u001b[0m\u001b[1;33m:\u001b[0m\u001b[1;33m\u001b[0m\u001b[1;33m\u001b[0m\u001b[0m\n\u001b[0;32m     28\u001b[0m     \u001b[1;32mif\u001b[0m \u001b[0mkwargs\u001b[0m\u001b[1;33m:\u001b[0m\u001b[1;33m\u001b[0m\u001b[1;33m\u001b[0m\u001b[0m\n\u001b[1;32m---> 29\u001b[1;33m         \u001b[1;32mreturn\u001b[0m \u001b[0mfunc\u001b[0m\u001b[1;33m(\u001b[0m\u001b[1;33m*\u001b[0m\u001b[0margs\u001b[0m\u001b[1;33m,\u001b[0m \u001b[1;33m**\u001b[0m\u001b[0mkwargs\u001b[0m\u001b[1;33m)\u001b[0m\u001b[1;33m\u001b[0m\u001b[1;33m\u001b[0m\u001b[0m\n\u001b[0m\u001b[0;32m     30\u001b[0m     \u001b[1;32melse\u001b[0m\u001b[1;33m:\u001b[0m\u001b[1;33m\u001b[0m\u001b[1;33m\u001b[0m\u001b[0m\n\u001b[0;32m     31\u001b[0m         \u001b[1;32mreturn\u001b[0m \u001b[0mfunc\u001b[0m\u001b[1;33m(\u001b[0m\u001b[1;33m*\u001b[0m\u001b[0margs\u001b[0m\u001b[1;33m)\u001b[0m\u001b[1;33m\u001b[0m\u001b[1;33m\u001b[0m\u001b[0m\n",
      "\u001b[1;32mD:\\Anaconda\\lib\\site-packages\\dask\\dataframe\\io\\csv.py\u001b[0m in \u001b[0;36mpandas_read_text\u001b[1;34m(reader, b, header, kwargs, dtypes, columns, write_header, enforce, path)\u001b[0m\n\u001b[0;32m     68\u001b[0m     \u001b[0mdf\u001b[0m \u001b[1;33m=\u001b[0m \u001b[0mreader\u001b[0m\u001b[1;33m(\u001b[0m\u001b[0mbio\u001b[0m\u001b[1;33m,\u001b[0m \u001b[1;33m**\u001b[0m\u001b[0mkwargs\u001b[0m\u001b[1;33m)\u001b[0m\u001b[1;33m\u001b[0m\u001b[1;33m\u001b[0m\u001b[0m\n\u001b[0;32m     69\u001b[0m     \u001b[1;32mif\u001b[0m \u001b[0mdtypes\u001b[0m\u001b[1;33m:\u001b[0m\u001b[1;33m\u001b[0m\u001b[1;33m\u001b[0m\u001b[0m\n\u001b[1;32m---> 70\u001b[1;33m         \u001b[0mcoerce_dtypes\u001b[0m\u001b[1;33m(\u001b[0m\u001b[0mdf\u001b[0m\u001b[1;33m,\u001b[0m \u001b[0mdtypes\u001b[0m\u001b[1;33m)\u001b[0m\u001b[1;33m\u001b[0m\u001b[1;33m\u001b[0m\u001b[0m\n\u001b[0m\u001b[0;32m     71\u001b[0m \u001b[1;33m\u001b[0m\u001b[0m\n\u001b[0;32m     72\u001b[0m     \u001b[1;32mif\u001b[0m \u001b[0menforce\u001b[0m \u001b[1;32mand\u001b[0m \u001b[0mcolumns\u001b[0m \u001b[1;32mand\u001b[0m \u001b[1;33m(\u001b[0m\u001b[0mlist\u001b[0m\u001b[1;33m(\u001b[0m\u001b[0mdf\u001b[0m\u001b[1;33m.\u001b[0m\u001b[0mcolumns\u001b[0m\u001b[1;33m)\u001b[0m \u001b[1;33m!=\u001b[0m \u001b[0mlist\u001b[0m\u001b[1;33m(\u001b[0m\u001b[0mcolumns\u001b[0m\u001b[1;33m)\u001b[0m\u001b[1;33m)\u001b[0m\u001b[1;33m:\u001b[0m\u001b[1;33m\u001b[0m\u001b[1;33m\u001b[0m\u001b[0m\n",
      "\u001b[1;32mD:\\Anaconda\\lib\\site-packages\\dask\\dataframe\\io\\csv.py\u001b[0m in \u001b[0;36mcoerce_dtypes\u001b[1;34m(df, dtypes)\u001b[0m\n\u001b[0;32m    172\u001b[0m             \u001b[0mrule\u001b[0m\u001b[1;33m.\u001b[0m\u001b[0mjoin\u001b[0m\u001b[1;33m(\u001b[0m\u001b[0mfilter\u001b[0m\u001b[1;33m(\u001b[0m\u001b[1;32mNone\u001b[0m\u001b[1;33m,\u001b[0m \u001b[1;33m[\u001b[0m\u001b[0mdtype_msg\u001b[0m\u001b[1;33m,\u001b[0m \u001b[0mdate_msg\u001b[0m\u001b[1;33m]\u001b[0m\u001b[1;33m)\u001b[0m\u001b[1;33m)\u001b[0m\u001b[1;33m\u001b[0m\u001b[1;33m\u001b[0m\u001b[0m\n\u001b[0;32m    173\u001b[0m         )\n\u001b[1;32m--> 174\u001b[1;33m         \u001b[1;32mraise\u001b[0m \u001b[0mValueError\u001b[0m\u001b[1;33m(\u001b[0m\u001b[0mmsg\u001b[0m\u001b[1;33m)\u001b[0m\u001b[1;33m\u001b[0m\u001b[1;33m\u001b[0m\u001b[0m\n\u001b[0m\u001b[0;32m    175\u001b[0m \u001b[1;33m\u001b[0m\u001b[0m\n\u001b[0;32m    176\u001b[0m \u001b[1;33m\u001b[0m\u001b[0m\n",
      "\u001b[1;31mValueError\u001b[0m: Mismatched dtypes found in `pd.read_csv`/`pd.read_table`.\n\n+-----------------------+---------+----------+\n| Column                | Found   | Expected |\n+-----------------------+---------+----------+\n| Issuer Squad          | object  | int64    |\n| Unregistered Vehicle? | float64 | int64    |\n| Violation Description | object  | float64  |\n| Violation Legal Code  | object  | float64  |\n| Violation Post Code   | object  | float64  |\n+-----------------------+---------+----------+\n\nThe following columns also raised exceptions on conversion:\n\n- Issuer Squad\n  ValueError('cannot convert float NaN to integer')\n- Violation Description\n  ValueError(\"could not convert string to float: 'BUS LANE VIOLATION'\")\n- Violation Legal Code\n  ValueError(\"could not convert string to float: 'T'\")\n- Violation Post Code\n  ValueError(\"could not convert string to float: 'H -'\")\n\nUsually this is due to dask's dtype inference failing, and\n*may* be fixed by specifying dtypes manually by adding:\n\ndtype={'Issuer Squad': 'object',\n       'Unregistered Vehicle?': 'float64',\n       'Violation Description': 'object',\n       'Violation Legal Code': 'object',\n       'Violation Post Code': 'object'}\n\nto the call to `read_csv`/`read_table`."
     ]
    }
   ],
   "source": [
    "fy14[common_columns].head(3)"
   ]
  },
  {
   "cell_type": "markdown",
   "metadata": {},
   "source": [
    "Looks like Dask ran into trouble when trying to read the fy14 data!\n",
    "Thankfully, the Dask development team has given us some pretty detailedinformation in this error message about what happened. Five columns—\n",
    "Issuer Squad, Unregistered Vehicle?, Violation Description, Violation Legal\n",
    "Code, and Violation Post Code—failed to be read correctly because their\n",
    "datatypes were not what Dask expected."
   ]
  },
  {
   "cell_type": "markdown",
   "metadata": {},
   "source": [
    "As we learned in chapter 2, Dask\n",
    "uses random sampling to infer datatypes to avoid scanning the entire\n",
    "(potentially massive) DataFrame. Although this usually works well, it can\n",
    "break down when a large number of values are missing in a column or the\n",
    "vast majority of data can be classified as one datatype (such as an integer),\n",
    "but a small number of edge cases break that assumption (such as a random\n",
    "string or two). When that happens, Dask will throw an exception once it\n",
    "begins to work on a computation. In order to help Dask read our dataset\n",
    "correctly, we’ll need to manually define a schema for our data instead of\n",
    "relying on type inference. Before we get around to doing that, let’s review\n",
    "what datatypes are available in Dask so we can create an appropriate schema\n",
    "for our data."
   ]
  },
  {
   "cell_type": "markdown",
   "metadata": {},
   "source": [
    "### **DASK DATATYPES**"
   ]
  },
  {
   "cell_type": "markdown",
   "metadata": {},
   "source": [
    "Unlike\n",
    "most collections and objects in Python, Dask DataFrames use explicit typing\n",
    "rather than duck typing. This means that all values contained in a column\n",
    "must conform to the same datatype. As we saw already, Dask will throw\n",
    "errors if values in a column are found that violate the column’s datatype."
   ]
  },
  {
   "cell_type": "markdown",
   "metadata": {},
   "source": [
    "Since Dask DataFrames consist of partitions made up of Pandas\n",
    "DataFrames, which in turn are complex collections of NumPy arrays, Dask\n",
    "sources its datatypes from NumPy. The NumPy library is a powerful and\n",
    "important mathematics library for Python. It enables users to perform\n",
    "advanced operations from linear algebra, calculus, and trigonometry. This\n",
    "library is important for the needs of data science because it provides the\n",
    "cornerstone mathematics for many statistical analysis methods and machine\n",
    "learning algorithms in Python. "
   ]
  },
  {
   "cell_type": "markdown",
   "metadata": {},
   "source": [
    "Many of NumPy datatyes reflect the primitive types in Python. The\n",
    "biggest difference is that NumPy datatypes can be explicitly sized with a\n",
    "specified bit-width. For example, the int32 datatype is a 32-bit integer that\n",
    "allows any integer between −2,147,483,648 and 2,147,483,647. Python, by\n",
    "comparison, always uses the maximum bit-width based on your operating\n",
    "system and hardware’s support. So, if you’re working on a computer with a64-bit CPU and running a 64-bit OS, Python will always allocate 64 bits of\n",
    "memory to store an integer. The advantage of using smaller datatypes where\n",
    "appropriate is that you can hold more data in RAM and the CPU’s cache at\n",
    "one time, leading to faster, more efficient computations. This means that\n",
    "when creating a schema for your data, you should always choose the smallest\n",
    "possible datatype to hold your data. The risk, however, is that if a value\n",
    "exceeds the maximum size allowed by the particular datatype, you will\n",
    "experience overflow errors, so you should think carefully about the range\n",
    "and domain of your data."
   ]
  },
  {
   "cell_type": "markdown",
   "metadata": {},
   "source": [
    "If none of the NumPy datatypes are appropriate for the kind of data you\n",
    "have, a column can be stored as an object type, which represents any Python\n",
    "object. This is also the datatype that Dask will default to when its type\n",
    "inference comes across a column that has a mix of numbers and strings, or\n",
    "when type inference cannot determine an appropriate datatype to use.\n",
    "However, one common exception to this rule happens when you have a\n",
    "column with a high percentage of missing data."
   ]
  },
  {
   "cell_type": "markdown",
   "metadata": {},
   "source": [
    "Would you really believe that a column called Violation Description should\n",
    "be a floating-point number? Probably not! Typically, we can expect\n",
    "description columns to be text, and therefore Dask should use an object\n",
    "datatype. Then why did Dask’s type inference think the column holds 64-bit\n",
    "floating-point numbers? It turns out that a large majority of records in this\n",
    "DataFrame have missing violation descriptions. In the raw data, they are\n",
    "simply blank. Dask treats blank records as null values when parsing files, and\n",
    "by default fills in missing values with NumPy’s NaN (not a number) object\n",
    "called np.nan. If you use Python’s built-in type function to inspect the\n",
    "datatype of an object, it reports that np.nan is a float type. So, since Dask’s\n",
    "type inference randomly selected a bunch of np.nan objects when trying to\n",
    "infer the type of the Violation Description column, it assumed that the\n",
    "column must contain floating-point numbers."
   ]
  },
  {
   "cell_type": "markdown",
   "metadata": {},
   "source": [
    "### **CREATING SCHEMAS FOR DASK DATAFRAMEs**"
   ]
  },
  {
   "cell_type": "markdown",
   "metadata": {},
   "source": [
    "Oftentimes when working with a dataset, you’ll know each column’s\n",
    "datatype, whether it can contain missing values, and its valid range of values\n",
    "ahead of time. This information is collectively known as the data’s schema.\n",
    "You’re especially likely to know the schema for a dataset if it came from a\n",
    "relational database. Each column in a database table must have a well-knowndatatype. If you have this information ahead of time, using with Dask is as\n",
    "easy as writing up the schema and applying it to the read_csv method."
   ]
  },
  {
   "cell_type": "markdown",
   "metadata": {},
   "source": [
    "However, sometimes you might\n",
    "not know what the schema is ahead of time, and you’ll need to figure it out\n",
    "on your own. Perhaps you’re pulling data from a web API which hasn’t been\n",
    "properly documented or you’re analyzing a data extract and you don’t have\n",
    "access to the data source. Neither of these approaches is ideal because they\n",
    "can be tedious and time consuming, but sometimes you may really have no\n",
    "other option. Here are two methods you can try:\n",
    "\n",
    "    1. Guess-and-check\n",
    "    2. Manually sample the data"
   ]
  },
  {
   "cell_type": "markdown",
   "metadata": {},
   "source": [
    "The guess-and-check method isn’t complicated. If you have well-named\n",
    "columns, such as Product Description, Sales Amount, and so on, you can try\n",
    "to infer what kind of data each column contains using the names. If you run\n",
    "into a datatype error while running a computation like the ones we’ve seen,\n",
    "simply update the schema and start over again. "
   ]
  },
  {
   "cell_type": "markdown",
   "metadata": {},
   "source": [
    "The manual sampling method aims to be a bit more sophisticated but can\n",
    "take more time up front since it involves scanning through some of the data\n",
    "to profile it. However, if you’re planning to analyze the dataset anyways, it’s\n",
    "not “wasted” time in the sense that you will be familiarizing yourself with the\n",
    "data while creating the schema. Let's see how to do this:"
   ]
  },
  {
   "cell_type": "code",
   "execution_count": 21,
   "metadata": {},
   "outputs": [],
   "source": [
    "dtype_tuples = [(x, np.str) for x in common_columns]"
   ]
  },
  {
   "cell_type": "code",
   "execution_count": 22,
   "metadata": {},
   "outputs": [
    {
     "data": {
      "text/plain": [
       "[('Street Name', str),\n",
       " ('Issue Date', str),\n",
       " ('Violation Description', str),\n",
       " ('Violation Post Code', str),\n",
       " ('Plate Type', str),\n",
       " ('Vehicle Make', str),\n",
       " ('From Hours In Effect', str),\n",
       " ('Violation Location', str),\n",
       " ('Date First Observed', str),\n",
       " ('Law Section', str),\n",
       " ('Double Parking Violation', str),\n",
       " ('Street Code1', str),\n",
       " ('Issuer Squad', str),\n",
       " ('Unregistered Vehicle?', str),\n",
       " ('Violation County', str),\n",
       " ('Hydrant Violation', str),\n",
       " ('Violation In Front Of Or Opposite', str),\n",
       " ('To Hours In Effect', str),\n",
       " ('Issuer Command', str),\n",
       " ('Time First Observed', str),\n",
       " ('Vehicle Color', str),\n",
       " ('Registration State', str),\n",
       " ('Feet From Curb', str),\n",
       " ('Issuer Precinct', str),\n",
       " ('Violation Time', str),\n",
       " ('Violation Precinct', str),\n",
       " ('House Number', str),\n",
       " ('Plate ID', str),\n",
       " ('Violation Code', str),\n",
       " ('No Standing or Stopping Violation', str),\n",
       " ('Street Code2', str),\n",
       " ('Vehicle Body Type', str),\n",
       " ('Summons Number', str),\n",
       " ('Issuer Code', str),\n",
       " ('Vehicle Expiration Date', str),\n",
       " ('Issuing Agency', str),\n",
       " ('Vehicle Year', str),\n",
       " ('Intersecting Street', str),\n",
       " ('Meter Number', str),\n",
       " ('Violation Legal Code', str),\n",
       " ('Sub Division', str),\n",
       " ('Days Parking In Effect    ', str),\n",
       " ('Street Code3', str)]"
      ]
     },
     "execution_count": 22,
     "metadata": {},
     "output_type": "execute_result"
    }
   ],
   "source": [
    "dtype_tuples"
   ]
  },
  {
   "cell_type": "code",
   "execution_count": 23,
   "metadata": {},
   "outputs": [],
   "source": [
    "dtypes = dict(dtype_tuples)"
   ]
  },
  {
   "cell_type": "code",
   "execution_count": 24,
   "metadata": {},
   "outputs": [
    {
     "data": {
      "text/plain": [
       "{'Street Name': str,\n",
       " 'Issue Date': str,\n",
       " 'Violation Description': str,\n",
       " 'Violation Post Code': str,\n",
       " 'Plate Type': str,\n",
       " 'Vehicle Make': str,\n",
       " 'From Hours In Effect': str,\n",
       " 'Violation Location': str,\n",
       " 'Date First Observed': str,\n",
       " 'Law Section': str,\n",
       " 'Double Parking Violation': str,\n",
       " 'Street Code1': str,\n",
       " 'Issuer Squad': str,\n",
       " 'Unregistered Vehicle?': str,\n",
       " 'Violation County': str,\n",
       " 'Hydrant Violation': str,\n",
       " 'Violation In Front Of Or Opposite': str,\n",
       " 'To Hours In Effect': str,\n",
       " 'Issuer Command': str,\n",
       " 'Time First Observed': str,\n",
       " 'Vehicle Color': str,\n",
       " 'Registration State': str,\n",
       " 'Feet From Curb': str,\n",
       " 'Issuer Precinct': str,\n",
       " 'Violation Time': str,\n",
       " 'Violation Precinct': str,\n",
       " 'House Number': str,\n",
       " 'Plate ID': str,\n",
       " 'Violation Code': str,\n",
       " 'No Standing or Stopping Violation': str,\n",
       " 'Street Code2': str,\n",
       " 'Vehicle Body Type': str,\n",
       " 'Summons Number': str,\n",
       " 'Issuer Code': str,\n",
       " 'Vehicle Expiration Date': str,\n",
       " 'Issuing Agency': str,\n",
       " 'Vehicle Year': str,\n",
       " 'Intersecting Street': str,\n",
       " 'Meter Number': str,\n",
       " 'Violation Legal Code': str,\n",
       " 'Sub Division': str,\n",
       " 'Days Parking In Effect    ': str,\n",
       " 'Street Code3': str}"
      ]
     },
     "execution_count": 24,
     "metadata": {},
     "output_type": "execute_result"
    }
   ],
   "source": [
    "dtypes"
   ]
  },
  {
   "cell_type": "markdown",
   "metadata": {},
   "source": [
    "First we need to build a dictionary that maps column names to datatypes.\n",
    "This must be done because the dtype argument that we’ll feed this object\n",
    "into later expects a dictionary type. To do that, we first walk\n",
    "through the common_columns list that we made earlier to hold all of the\n",
    "column names that can be found in all four DataFrames. We transform each\n",
    "column name into a tuple containing the column name and the np.str\n",
    "datatype, which represents strings. On the second line, we take the list of\n",
    "tuples and convert them into a dict, now that we’ve constructed a generic schema, we can apply it to\n",
    "the read_csv function to use the schema to load the fy14 data into a\n",
    "DataFrame."
   ]
  },
  {
   "cell_type": "code",
   "execution_count": 25,
   "metadata": {},
   "outputs": [],
   "source": [
    "fy14 = dd.read_csv('Parking_Violations_Issued_-_Fiscal_Year_2014__August_2013___June_2014_.csv', dtype = dtypes)"
   ]
  },
  {
   "cell_type": "code",
   "execution_count": 26,
   "metadata": {},
   "outputs": [
    {
     "data": {
      "text/html": [
       "<div>\n",
       "<style scoped>\n",
       "    .dataframe tbody tr th:only-of-type {\n",
       "        vertical-align: middle;\n",
       "    }\n",
       "\n",
       "    .dataframe tbody tr th {\n",
       "        vertical-align: top;\n",
       "    }\n",
       "\n",
       "    .dataframe thead th {\n",
       "        text-align: right;\n",
       "    }\n",
       "</style>\n",
       "<table border=\"1\" class=\"dataframe\">\n",
       "  <thead>\n",
       "    <tr style=\"text-align: right;\">\n",
       "      <th></th>\n",
       "      <th>Street Name</th>\n",
       "      <th>Issue Date</th>\n",
       "      <th>Violation Description</th>\n",
       "      <th>Violation Post Code</th>\n",
       "      <th>Plate Type</th>\n",
       "      <th>Vehicle Make</th>\n",
       "      <th>From Hours In Effect</th>\n",
       "      <th>Violation Location</th>\n",
       "      <th>Date First Observed</th>\n",
       "      <th>Law Section</th>\n",
       "      <th>...</th>\n",
       "      <th>Issuer Code</th>\n",
       "      <th>Vehicle Expiration Date</th>\n",
       "      <th>Issuing Agency</th>\n",
       "      <th>Vehicle Year</th>\n",
       "      <th>Intersecting Street</th>\n",
       "      <th>Meter Number</th>\n",
       "      <th>Violation Legal Code</th>\n",
       "      <th>Sub Division</th>\n",
       "      <th>Days Parking In Effect</th>\n",
       "      <th>Street Code3</th>\n",
       "    </tr>\n",
       "  </thead>\n",
       "  <tbody>\n",
       "    <tr>\n",
       "      <th>0</th>\n",
       "      <td>W 175 ST</td>\n",
       "      <td>08/04/2013</td>\n",
       "      <td>NaN</td>\n",
       "      <td>NaN</td>\n",
       "      <td>PAS</td>\n",
       "      <td>AUDI</td>\n",
       "      <td>ALL</td>\n",
       "      <td>0033</td>\n",
       "      <td>0</td>\n",
       "      <td>408</td>\n",
       "      <td>...</td>\n",
       "      <td>921043</td>\n",
       "      <td>20140831</td>\n",
       "      <td>P</td>\n",
       "      <td>2013</td>\n",
       "      <td>NaN</td>\n",
       "      <td>-</td>\n",
       "      <td>NaN</td>\n",
       "      <td>F1</td>\n",
       "      <td>BBBBBBB</td>\n",
       "      <td>21190</td>\n",
       "    </tr>\n",
       "    <tr>\n",
       "      <th>1</th>\n",
       "      <td>W 177 ST</td>\n",
       "      <td>08/04/2013</td>\n",
       "      <td>NaN</td>\n",
       "      <td>NaN</td>\n",
       "      <td>COM</td>\n",
       "      <td>FORD</td>\n",
       "      <td>ALL</td>\n",
       "      <td>0033</td>\n",
       "      <td>0</td>\n",
       "      <td>408</td>\n",
       "      <td>...</td>\n",
       "      <td>921043</td>\n",
       "      <td>20140430</td>\n",
       "      <td>P</td>\n",
       "      <td>2012</td>\n",
       "      <td>NaN</td>\n",
       "      <td>-</td>\n",
       "      <td>NaN</td>\n",
       "      <td>C</td>\n",
       "      <td>BBBBBBB</td>\n",
       "      <td>40404</td>\n",
       "    </tr>\n",
       "    <tr>\n",
       "      <th>2</th>\n",
       "      <td>W 163 ST</td>\n",
       "      <td>08/05/2013</td>\n",
       "      <td>NaN</td>\n",
       "      <td>NaN</td>\n",
       "      <td>COM</td>\n",
       "      <td>CHEVR</td>\n",
       "      <td>ALL</td>\n",
       "      <td>0033</td>\n",
       "      <td>0</td>\n",
       "      <td>408</td>\n",
       "      <td>...</td>\n",
       "      <td>921043</td>\n",
       "      <td>20140228</td>\n",
       "      <td>P</td>\n",
       "      <td>0</td>\n",
       "      <td>NaN</td>\n",
       "      <td>-</td>\n",
       "      <td>NaN</td>\n",
       "      <td>F7</td>\n",
       "      <td>BBBBBBB</td>\n",
       "      <td>13610</td>\n",
       "    </tr>\n",
       "  </tbody>\n",
       "</table>\n",
       "<p>3 rows × 43 columns</p>\n",
       "</div>"
      ],
      "text/plain": [
       "  Street Name  Issue Date Violation Description Violation Post Code  \\\n",
       "0    W 175 ST  08/04/2013                   NaN                 NaN   \n",
       "1    W 177 ST  08/04/2013                   NaN                 NaN   \n",
       "2    W 163 ST  08/05/2013                   NaN                 NaN   \n",
       "\n",
       "  Plate Type Vehicle Make From Hours In Effect Violation Location  \\\n",
       "0        PAS         AUDI                  ALL               0033   \n",
       "1        COM         FORD                  ALL               0033   \n",
       "2        COM        CHEVR                  ALL               0033   \n",
       "\n",
       "  Date First Observed Law Section  ... Issuer Code Vehicle Expiration Date  \\\n",
       "0                   0         408  ...      921043                20140831   \n",
       "1                   0         408  ...      921043                20140430   \n",
       "2                   0         408  ...      921043                20140228   \n",
       "\n",
       "  Issuing Agency Vehicle Year Intersecting Street Meter Number  \\\n",
       "0              P         2013                 NaN            -   \n",
       "1              P         2012                 NaN            -   \n",
       "2              P            0                 NaN            -   \n",
       "\n",
       "  Violation Legal Code Sub Division Days Parking In Effect     Street Code3  \n",
       "0                  NaN           F1                    BBBBBBB        21190  \n",
       "1                  NaN            C                    BBBBBBB        40404  \n",
       "2                  NaN           F7                    BBBBBBB        13610  \n",
       "\n",
       "[3 rows x 43 columns]"
      ]
     },
     "execution_count": 26,
     "metadata": {},
     "output_type": "execute_result"
    }
   ],
   "source": [
    "fy14[common_columns].head(3)"
   ]
  },
  {
   "cell_type": "markdown",
   "metadata": {},
   "source": [
    "This time we specified the dtype argument and passed in our\n",
    "schema dictionary. What happens under the hood is Dask will disable type\n",
    "inference for the columns that have matching keys in the dtype dictionary\n",
    "and use the explicitly specified types instead. While it’s perfectly reasonable\n",
    "to include only the columns you want to change, **it’s best to not rely on\n",
    "Dask’s type inference at all whenever possible**. Here I’ve shown you how to\n",
    "create an explicit schema for all columns in a DataFrame, and **I encourage\n",
    "you to make this a regular practice when working with big datasets**. With this\n",
    "particular schema, we’re telling Dask to just assume that all of the columns\n",
    "are strings. Now if we try to view the first five rows of the DataFrame again,\n",
    "using fy14[common_columns].head(), Dask doesn’t throw an error message!\n",
    "But we’re not done yet. We now need to have a look at each column and pick\n",
    "a more appropriate datatype (if possible) to maximize efficiency. Let’s have a\n",
    "look at the Vehicle Year column."
   ]
  },
  {
   "cell_type": "code",
   "execution_count": 27,
   "metadata": {},
   "outputs": [
    {
     "data": {
      "text/plain": [
       "Summons Number                        object\n",
       "Plate ID                              object\n",
       "Registration State                    object\n",
       "Plate Type                            object\n",
       "Issue Date                            object\n",
       "Violation Code                        object\n",
       "Vehicle Body Type                     object\n",
       "Vehicle Make                          object\n",
       "Issuing Agency                        object\n",
       "Street Code1                          object\n",
       "Street Code2                          object\n",
       "Street Code3                          object\n",
       "Vehicle Expiration Date               object\n",
       "Violation Location                    object\n",
       "Violation Precinct                    object\n",
       "Issuer Precinct                       object\n",
       "Issuer Code                           object\n",
       "Issuer Command                        object\n",
       "Issuer Squad                          object\n",
       "Violation Time                        object\n",
       "Time First Observed                   object\n",
       "Violation County                      object\n",
       "Violation In Front Of Or Opposite     object\n",
       "House Number                          object\n",
       "Street Name                           object\n",
       "Intersecting Street                   object\n",
       "Date First Observed                   object\n",
       "Law Section                           object\n",
       "Sub Division                          object\n",
       "Violation Legal Code                  object\n",
       "Days Parking In Effect                object\n",
       "From Hours In Effect                  object\n",
       "To Hours In Effect                    object\n",
       "Vehicle Color                         object\n",
       "Unregistered Vehicle?                 object\n",
       "Vehicle Year                          object\n",
       "Meter Number                          object\n",
       "Feet From Curb                        object\n",
       "Violation Post Code                   object\n",
       "Violation Description                 object\n",
       "No Standing or Stopping Violation     object\n",
       "Hydrant Violation                     object\n",
       "Double Parking Violation              object\n",
       "Latitude                             float64\n",
       "Longitude                            float64\n",
       "Community Board                      float64\n",
       "Community Council                    float64\n",
       "Census Tract                         float64\n",
       "BIN                                  float64\n",
       "BBL                                  float64\n",
       "NTA                                  float64\n",
       "dtype: object"
      ]
     },
     "execution_count": 27,
     "metadata": {},
     "output_type": "execute_result"
    }
   ],
   "source": [
    "fy14.dtypes"
   ]
  },
  {
   "cell_type": "code",
   "execution_count": 31,
   "metadata": {},
   "outputs": [
    {
     "data": {
      "text/plain": [
       "dtype('O')"
      ]
     },
     "execution_count": 31,
     "metadata": {},
     "output_type": "execute_result"
    }
   ],
   "source": [
    "fy14['Vehicle Year'].dtype"
   ]
  },
  {
   "cell_type": "code",
   "execution_count": 32,
   "metadata": {},
   "outputs": [
    {
     "data": {
      "text/plain": [
       "0    2013\n",
       "1    2012\n",
       "2       0\n",
       "3    2010\n",
       "4    2011\n",
       "5    2001\n",
       "6    2005\n",
       "7    1998\n",
       "8    1995\n",
       "9    2003\n",
       "Name: Vehicle Year, dtype: object"
      ]
     },
     "execution_count": 32,
     "metadata": {},
     "output_type": "execute_result"
    }
   ],
   "source": [
    "fy14['Vehicle Year'].unique().head(10)"
   ]
  },
  {
   "cell_type": "markdown",
   "metadata": {},
   "source": [
    "It looks like they are all integers that would fit\n",
    "comfortably in the uint16 datatype. uint16 is the most appropriate because\n",
    "years can’t be negative values, and these years are too large to be stored in\n",
    "uint8 (which has a maximum size of 255). If we had seen any letters or\n",
    "special characters, we would not need to proceed any further with analyzing\n",
    "this column. The string datatype we had already selected would be the only\n",
    "datatype suitable for the column."
   ]
  },
  {
   "cell_type": "markdown",
   "metadata": {},
   "source": [
    "One thing to be careful about is that a sample of 10 unique values might\n",
    "not be a sufficiently large enough sample size to determine that there aren’t\n",
    "any edge cases you need to consider. You could use .compute() instead of\n",
    ".head() to bring back all the unique values, but this might not be a good idea\n",
    "if the particular column you’re looking at has a high degree of uniqueness to\n",
    "it (such as a primary key or a high-dimensional category). The range of 10–\n",
    "50 unique samples has served me well in most cases, but sometimes you will\n",
    "still run into edge cases where you will need to go back and tweak your\n",
    "datatypes."
   ]
  },
  {
   "cell_type": "markdown",
   "metadata": {},
   "source": [
    "Since we’re thinking an integer datatype might be appropriate for this\n",
    "column, we need to check one more thing: Are there any missing values in\n",
    "this column? As you learned earlier, Dask represents missing values with\n",
    "np.nan, which is considered to be a float type object. Unfortunately, np.nan\n",
    "cannot be cast or coerced to an integer uint16 datatype. In the next chapter\n",
    "we will learn how to deal with missing values, but for now if we come across\n",
    "a column with missing values, we will need to ensure that the column will\n",
    "use a datatype that can support the np.nan object. This means that if the\n",
    "Vehicle Year column contains any missing values, we’ll be required to use a\n",
    "float32 datatype and not the uint16 datatype we originally thought\n",
    "appropriate because uint16 is unable to store np.nan."
   ]
  },
  {
   "cell_type": "code",
   "execution_count": 35,
   "metadata": {},
   "outputs": [
    {
     "data": {
      "text/plain": [
       "1"
      ]
     },
     "execution_count": 35,
     "metadata": {},
     "output_type": "execute_result"
    }
   ],
   "source": [
    "fy14['Vehicle Year'].isna().sum().compute()"
   ]
  },
  {
   "cell_type": "code",
   "execution_count": 36,
   "metadata": {},
   "outputs": [
    {
     "name": "stdout",
     "output_type": "stream",
     "text": [
      "[########################################] | 100% Completed |  1min  4.2s\n",
      "True\n"
     ]
    }
   ],
   "source": [
    "with ProgressBar():\n",
    "    print(fy14['Vehicle Year'].isnull().values.any().compute())"
   ]
  },
  {
   "cell_type": "code",
   "execution_count": 37,
   "metadata": {},
   "outputs": [
    {
     "data": {
      "text/html": [
       "<div>\n",
       "<style scoped>\n",
       "    .dataframe tbody tr th:only-of-type {\n",
       "        vertical-align: middle;\n",
       "    }\n",
       "\n",
       "    .dataframe tbody tr th {\n",
       "        vertical-align: top;\n",
       "    }\n",
       "\n",
       "    .dataframe thead th {\n",
       "        text-align: right;\n",
       "    }\n",
       "</style>\n",
       "<table border=\"1\" class=\"dataframe\">\n",
       "  <thead>\n",
       "    <tr style=\"text-align: right;\">\n",
       "      <th></th>\n",
       "      <th>Summons Number</th>\n",
       "      <th>Plate ID</th>\n",
       "      <th>Registration State</th>\n",
       "      <th>Plate Type</th>\n",
       "      <th>Issue Date</th>\n",
       "      <th>Violation Code</th>\n",
       "      <th>Vehicle Body Type</th>\n",
       "      <th>Vehicle Make</th>\n",
       "      <th>Issuing Agency</th>\n",
       "      <th>Street Code1</th>\n",
       "      <th>...</th>\n",
       "      <th>Hydrant Violation</th>\n",
       "      <th>Double Parking Violation</th>\n",
       "      <th>Latitude</th>\n",
       "      <th>Longitude</th>\n",
       "      <th>Community Board</th>\n",
       "      <th>Community Council</th>\n",
       "      <th>Census Tract</th>\n",
       "      <th>BIN</th>\n",
       "      <th>BBL</th>\n",
       "      <th>NTA</th>\n",
       "    </tr>\n",
       "  </thead>\n",
       "  <tbody>\n",
       "  </tbody>\n",
       "</table>\n",
       "<p>0 rows × 51 columns</p>\n",
       "</div>"
      ],
      "text/plain": [
       "Empty DataFrame\n",
       "Columns: [Summons Number, Plate ID, Registration State, Plate Type, Issue Date, Violation Code, Vehicle Body Type, Vehicle Make, Issuing Agency, Street Code1, Street Code2, Street Code3, Vehicle Expiration Date, Violation Location, Violation Precinct, Issuer Precinct, Issuer Code, Issuer Command, Issuer Squad, Violation Time, Time First Observed, Violation County, Violation In Front Of Or Opposite, House Number, Street Name, Intersecting Street, Date First Observed, Law Section, Sub Division, Violation Legal Code, Days Parking In Effect    , From Hours In Effect, To Hours In Effect, Vehicle Color, Unregistered Vehicle?, Vehicle Year, Meter Number, Feet From Curb, Violation Post Code, Violation Description, No Standing or Stopping Violation, Hydrant Violation, Double Parking Violation, Latitude, Longitude, Community Board, Community Council , Census Tract, BIN, BBL, NTA]\n",
       "Index: []\n",
       "\n",
       "[0 rows x 51 columns]"
      ]
     },
     "execution_count": 37,
     "metadata": {},
     "output_type": "execute_result"
    }
   ],
   "source": [
    "fy14.loc[fy14['Vehicle Year'] == np.nan].compute()"
   ]
  },
  {
   "cell_type": "code",
   "execution_count": 38,
   "metadata": {},
   "outputs": [
    {
     "name": "stderr",
     "output_type": "stream",
     "text": [
      "<string>:2: DtypeWarning: Columns (17,18,20,21,22,23,29,30,31,32,36,38,39) have mixed types. Specify dtype option on import or set low_memory=False.\n"
     ]
    },
    {
     "name": "stdout",
     "output_type": "stream",
     "text": [
      "Wall time: 54.7 s\n"
     ]
    }
   ],
   "source": [
    "%%time\n",
    "fy14_pdf = pd.read_csv('Parking_Violations_Issued_-_Fiscal_Year_2014__August_2013___June_2014_.csv')"
   ]
  },
  {
   "cell_type": "code",
   "execution_count": 42,
   "metadata": {},
   "outputs": [
    {
     "data": {
      "text/html": [
       "<div>\n",
       "<style scoped>\n",
       "    .dataframe tbody tr th:only-of-type {\n",
       "        vertical-align: middle;\n",
       "    }\n",
       "\n",
       "    .dataframe tbody tr th {\n",
       "        vertical-align: top;\n",
       "    }\n",
       "\n",
       "    .dataframe thead th {\n",
       "        text-align: right;\n",
       "    }\n",
       "</style>\n",
       "<table border=\"1\" class=\"dataframe\">\n",
       "  <thead>\n",
       "    <tr style=\"text-align: right;\">\n",
       "      <th></th>\n",
       "      <th>Summons Number</th>\n",
       "      <th>Plate ID</th>\n",
       "      <th>Registration State</th>\n",
       "      <th>Plate Type</th>\n",
       "      <th>Issue Date</th>\n",
       "      <th>Violation Code</th>\n",
       "      <th>Vehicle Body Type</th>\n",
       "      <th>Vehicle Make</th>\n",
       "      <th>Issuing Agency</th>\n",
       "      <th>Street Code1</th>\n",
       "      <th>...</th>\n",
       "      <th>Hydrant Violation</th>\n",
       "      <th>Double Parking Violation</th>\n",
       "      <th>Latitude</th>\n",
       "      <th>Longitude</th>\n",
       "      <th>Community Board</th>\n",
       "      <th>Community Council</th>\n",
       "      <th>Census Tract</th>\n",
       "      <th>BIN</th>\n",
       "      <th>BBL</th>\n",
       "      <th>NTA</th>\n",
       "    </tr>\n",
       "  </thead>\n",
       "  <tbody>\n",
       "  </tbody>\n",
       "</table>\n",
       "<p>0 rows × 51 columns</p>\n",
       "</div>"
      ],
      "text/plain": [
       "Empty DataFrame\n",
       "Columns: [Summons Number, Plate ID, Registration State, Plate Type, Issue Date, Violation Code, Vehicle Body Type, Vehicle Make, Issuing Agency, Street Code1, Street Code2, Street Code3, Vehicle Expiration Date, Violation Location, Violation Precinct, Issuer Precinct, Issuer Code, Issuer Command, Issuer Squad, Violation Time, Time First Observed, Violation County, Violation In Front Of Or Opposite, House Number, Street Name, Intersecting Street, Date First Observed, Law Section, Sub Division, Violation Legal Code, Days Parking In Effect    , From Hours In Effect, To Hours In Effect, Vehicle Color, Unregistered Vehicle?, Vehicle Year, Meter Number, Feet From Curb, Violation Post Code, Violation Description, No Standing or Stopping Violation, Hydrant Violation, Double Parking Violation, Latitude, Longitude, Community Board, Community Council , Census Tract, BIN, BBL, NTA]\n",
       "Index: []\n",
       "\n",
       "[0 rows x 51 columns]"
      ]
     },
     "execution_count": 42,
     "metadata": {},
     "output_type": "execute_result"
    }
   ],
   "source": [
    "fy14_pdf.loc[fy14_pdf['Vehicle Year'] == np.nan]"
   ]
  },
  {
   "cell_type": "code",
   "execution_count": 43,
   "metadata": {},
   "outputs": [
    {
     "data": {
      "text/plain": [
       "1"
      ]
     },
     "execution_count": 43,
     "metadata": {},
     "output_type": "execute_result"
    }
   ],
   "source": [
    "fy14_pdf['Vehicle Year'].isna().sum()"
   ]
  },
  {
   "cell_type": "code",
   "execution_count": 44,
   "metadata": {},
   "outputs": [
    {
     "data": {
      "text/plain": [
       "0          False\n",
       "1          False\n",
       "2          False\n",
       "3          False\n",
       "4          False\n",
       "           ...  \n",
       "9100273    False\n",
       "9100274    False\n",
       "9100275    False\n",
       "9100276    False\n",
       "9100277    False\n",
       "Name: Vehicle Year, Length: 9100278, dtype: bool"
      ]
     },
     "execution_count": 44,
     "metadata": {},
     "output_type": "execute_result"
    }
   ],
   "source": [
    "fy14_pdf['Vehicle Year'].isna()"
   ]
  },
  {
   "cell_type": "code",
   "execution_count": 45,
   "metadata": {},
   "outputs": [
    {
     "data": {
      "text/plain": [
       "(array([6096292], dtype=int64),)"
      ]
     },
     "execution_count": 45,
     "metadata": {},
     "output_type": "execute_result"
    }
   ],
   "source": [
    "np.where(fy14_pdf['Vehicle Year'].isna())"
   ]
  },
  {
   "cell_type": "code",
   "execution_count": 46,
   "metadata": {},
   "outputs": [
    {
     "data": {
      "text/plain": [
       "nan"
      ]
     },
     "execution_count": 46,
     "metadata": {},
     "output_type": "execute_result"
    }
   ],
   "source": [
    "fy14_pdf.loc[6096292, 'Vehicle Year']"
   ]
  },
  {
   "cell_type": "code",
   "execution_count": 47,
   "metadata": {},
   "outputs": [
    {
     "data": {
      "text/plain": [
       "(9100278, 51)"
      ]
     },
     "execution_count": 47,
     "metadata": {},
     "output_type": "execute_result"
    }
   ],
   "source": [
    "fy14_pdf.shape"
   ]
  },
  {
   "cell_type": "markdown",
   "metadata": {},
   "source": [
    "Since we have missing\n",
    "values in the Vehicle Year column, we must use the float32 datatype for the\n",
    "column instead of uint16."
   ]
  },
  {
   "cell_type": "markdown",
   "metadata": {},
   "source": [
    "Now, we should repeat the process for the remaining 42 columns."
   ]
  },
  {
   "cell_type": "markdown",
   "metadata": {},
   "source": [
    "In this particular\n",
    "instance, we could also use the data dictionary posted on the Kaggle webpage\n",
    "(at https://www.kaggle.com/new-york-city/nyc-parking-tickets/data) to help\n",
    "speed along this process."
   ]
  },
  {
   "cell_type": "code",
   "execution_count": 28,
   "metadata": {},
   "outputs": [],
   "source": [
    "dtypes = {'Date First Observed': np.str,\n",
    "          'Days Parking In Effect ': np.str,\n",
    "          'Double Parking Violation': np.str,\n",
    "          'Feet From Curb': np.float32,\n",
    "          'From Hours In Effect': np.str,\n",
    "          'House Number': np.str,\n",
    "          'Hydrant Violation': np.str,\n",
    "          'Intersecting Street': np.str,\n",
    "          'Issue Date': np.str,\n",
    "          'Issuer Code': np.float32,\n",
    "          'Issuer Command': np.str,\n",
    "          'Issuer Precinct': np.float32,\n",
    "          'Issuer Squad': np.str,\n",
    "          'Issuing Agency': np.str,\n",
    "          'Law Section': np.float32,\n",
    "          'Meter Number': np.str,\n",
    "          'No Standing or Stopping Violation': np.str,\n",
    "          'Plate ID': np.str,\n",
    "          'Plate Type': np.str,\n",
    "          'Registration State': np.str,\n",
    "          'Street Code1': np.uint32,\n",
    "          'Street Code2': np.uint32,\n",
    "          'Street Code3': np.uint32,\n",
    "          'Street Name': np.str,\n",
    "          'Sub Division': np.str,\n",
    "          'Summons Number': np.uint32,\n",
    "          'Time First Observed': np.str,\n",
    "          'To Hours In Effect': np.str,\n",
    "          'Unregistered Vehicle?': np.str,\n",
    "          'Vehicle Body Type': np.str,\n",
    "          'Vehicle Color': np.str,\n",
    "          'Vehicle Expiration Date': np.str,\n",
    "          'Vehicle Make': np.str,\n",
    "          'Vehicle Year': np.float32,\n",
    "          'Violation Code': np.uint16,\n",
    "          'Violation County': np.str,\n",
    "          'Violation Description': np.str,\n",
    "          'Violation In Front Of Or Opposite': np.str,\n",
    "          'Violation Legal Code': np.str,\n",
    "          'Violation Location': np.str,\n",
    "          'Violation Post Code': np.str,\n",
    "          'Violation Precinct': np.float32,\n",
    "          'Violation Time': np.str,\n",
    "         }"
   ]
  },
  {
   "cell_type": "markdown",
   "metadata": {},
   "source": [
    "dtypes now is the final schema for the NYC Parking Ticket data. Let’s\n",
    "use it to reload all four of the DataFrames, then union all four years of data\n",
    "together into a final DataFrame."
   ]
  },
  {
   "cell_type": "code",
   "execution_count": 29,
   "metadata": {},
   "outputs": [
    {
     "name": "stdout",
     "output_type": "stream",
     "text": [
      "Wall time: 359 ms\n"
     ]
    }
   ],
   "source": [
    "%%time\n",
    "fy14_ddf = dd.read_csv('Parking_Violations_Issued_-_Fiscal_Year_2014__August_2013___June_2014_.csv', dtype = dtypes, usecols = common_columns)\n",
    "fy15_ddf = dd.read_csv('Parking_Violations_Issued_-_Fiscal_Year_2015.csv', dtype = dtypes, usecols = common_columns)\n",
    "fy16_ddf = dd.read_csv('Parking_Violations_Issued_-_Fiscal_Year_2016.csv', dtype = dtypes, usecols = common_columns)\n",
    "fy17_ddf = dd.read_csv('Parking_Violations_Issued_-_Fiscal_Year_2017.csv', dtype = dtypes, usecols = common_columns)"
   ]
  },
  {
   "cell_type": "code",
   "execution_count": 30,
   "metadata": {},
   "outputs": [
    {
     "data": {
      "text/html": [
       "<div>\n",
       "<style scoped>\n",
       "    .dataframe tbody tr th:only-of-type {\n",
       "        vertical-align: middle;\n",
       "    }\n",
       "\n",
       "    .dataframe tbody tr th {\n",
       "        vertical-align: top;\n",
       "    }\n",
       "\n",
       "    .dataframe thead th {\n",
       "        text-align: right;\n",
       "    }\n",
       "</style>\n",
       "<table border=\"1\" class=\"dataframe\">\n",
       "  <thead>\n",
       "    <tr style=\"text-align: right;\">\n",
       "      <th></th>\n",
       "      <th>Summons Number</th>\n",
       "      <th>Plate ID</th>\n",
       "      <th>Registration State</th>\n",
       "      <th>Plate Type</th>\n",
       "      <th>Issue Date</th>\n",
       "      <th>Violation Code</th>\n",
       "      <th>Vehicle Body Type</th>\n",
       "      <th>Vehicle Make</th>\n",
       "      <th>Issuing Agency</th>\n",
       "      <th>Street Code1</th>\n",
       "      <th>...</th>\n",
       "      <th>Vehicle Color</th>\n",
       "      <th>Unregistered Vehicle?</th>\n",
       "      <th>Vehicle Year</th>\n",
       "      <th>Meter Number</th>\n",
       "      <th>Feet From Curb</th>\n",
       "      <th>Violation Post Code</th>\n",
       "      <th>Violation Description</th>\n",
       "      <th>No Standing or Stopping Violation</th>\n",
       "      <th>Hydrant Violation</th>\n",
       "      <th>Double Parking Violation</th>\n",
       "    </tr>\n",
       "  </thead>\n",
       "  <tbody>\n",
       "    <tr>\n",
       "      <th>61642</th>\n",
       "      <td>3711182958</td>\n",
       "      <td>193YUR</td>\n",
       "      <td>CT</td>\n",
       "      <td>PAS</td>\n",
       "      <td>06/25/2014</td>\n",
       "      <td>37</td>\n",
       "      <td>SUBN</td>\n",
       "      <td>CHEVR</td>\n",
       "      <td>T</td>\n",
       "      <td>40930</td>\n",
       "      <td>...</td>\n",
       "      <td>BLACK</td>\n",
       "      <td>NaN</td>\n",
       "      <td>0.0</td>\n",
       "      <td>304-3007</td>\n",
       "      <td>0.0</td>\n",
       "      <td>10 3</td>\n",
       "      <td>37-Expired Muni Meter</td>\n",
       "      <td>NaN</td>\n",
       "      <td>NaN</td>\n",
       "      <td>NaN</td>\n",
       "    </tr>\n",
       "    <tr>\n",
       "      <th>61643</th>\n",
       "      <td>3711182982</td>\n",
       "      <td>FPN7411</td>\n",
       "      <td>NY</td>\n",
       "      <td>PAS</td>\n",
       "      <td>06/25/2014</td>\n",
       "      <td>20</td>\n",
       "      <td>4DSD</td>\n",
       "      <td>CHEVR</td>\n",
       "      <td>T</td>\n",
       "      <td>40930</td>\n",
       "      <td>...</td>\n",
       "      <td>RD</td>\n",
       "      <td>NaN</td>\n",
       "      <td>0.0</td>\n",
       "      <td>NaN</td>\n",
       "      <td>0.0</td>\n",
       "      <td>10 3</td>\n",
       "      <td>20A-No Parking (Non-COM)</td>\n",
       "      <td>NaN</td>\n",
       "      <td>NaN</td>\n",
       "      <td>NaN</td>\n",
       "    </tr>\n",
       "  </tbody>\n",
       "</table>\n",
       "<p>2 rows × 43 columns</p>\n",
       "</div>"
      ],
      "text/plain": [
       "       Summons Number Plate ID Registration State Plate Type  Issue Date  \\\n",
       "61642      3711182958   193YUR                 CT        PAS  06/25/2014   \n",
       "61643      3711182982  FPN7411                 NY        PAS  06/25/2014   \n",
       "\n",
       "       Violation Code Vehicle Body Type Vehicle Make Issuing Agency  \\\n",
       "61642              37              SUBN        CHEVR              T   \n",
       "61643              20              4DSD        CHEVR              T   \n",
       "\n",
       "       Street Code1  ...  Vehicle Color  Unregistered Vehicle? Vehicle Year  \\\n",
       "61642         40930  ...          BLACK                    NaN          0.0   \n",
       "61643         40930  ...             RD                    NaN          0.0   \n",
       "\n",
       "      Meter Number  Feet From Curb  Violation Post Code  \\\n",
       "61642     304-3007             0.0                 10 3   \n",
       "61643          NaN             0.0                 10 3   \n",
       "\n",
       "          Violation Description No Standing or Stopping Violation  \\\n",
       "61642     37-Expired Muni Meter                               NaN   \n",
       "61643  20A-No Parking (Non-COM)                               NaN   \n",
       "\n",
       "      Hydrant Violation Double Parking Violation  \n",
       "61642               NaN                      NaN  \n",
       "61643               NaN                      NaN  \n",
       "\n",
       "[2 rows x 43 columns]"
      ]
     },
     "execution_count": 30,
     "metadata": {},
     "output_type": "execute_result"
    }
   ],
   "source": [
    "fy14_ddf.tail(2)"
   ]
  },
  {
   "cell_type": "code",
   "execution_count": 36,
   "metadata": {},
   "outputs": [
    {
     "data": {
      "text/html": [
       "<div>\n",
       "<style scoped>\n",
       "    .dataframe tbody tr th:only-of-type {\n",
       "        vertical-align: middle;\n",
       "    }\n",
       "\n",
       "    .dataframe tbody tr th {\n",
       "        vertical-align: top;\n",
       "    }\n",
       "\n",
       "    .dataframe thead th {\n",
       "        text-align: right;\n",
       "    }\n",
       "</style>\n",
       "<table border=\"1\" class=\"dataframe\">\n",
       "  <thead>\n",
       "    <tr style=\"text-align: right;\">\n",
       "      <th></th>\n",
       "      <th>Summons Number</th>\n",
       "      <th>Plate ID</th>\n",
       "      <th>Registration State</th>\n",
       "      <th>Plate Type</th>\n",
       "      <th>Issue Date</th>\n",
       "      <th>Violation Code</th>\n",
       "      <th>Vehicle Body Type</th>\n",
       "      <th>Vehicle Make</th>\n",
       "      <th>Issuing Agency</th>\n",
       "      <th>Street Code1</th>\n",
       "      <th>...</th>\n",
       "      <th>Vehicle Color</th>\n",
       "      <th>Unregistered Vehicle?</th>\n",
       "      <th>Vehicle Year</th>\n",
       "      <th>Meter Number</th>\n",
       "      <th>Feet From Curb</th>\n",
       "      <th>Violation Post Code</th>\n",
       "      <th>Violation Description</th>\n",
       "      <th>No Standing or Stopping Violation</th>\n",
       "      <th>Hydrant Violation</th>\n",
       "      <th>Double Parking Violation</th>\n",
       "    </tr>\n",
       "  </thead>\n",
       "  <tbody>\n",
       "    <tr>\n",
       "      <th>194060</th>\n",
       "      <td>3749343767</td>\n",
       "      <td>97720MD</td>\n",
       "      <td>NY</td>\n",
       "      <td>COM</td>\n",
       "      <td>06/03/2015</td>\n",
       "      <td>51</td>\n",
       "      <td>DUMP</td>\n",
       "      <td>PETER</td>\n",
       "      <td>T</td>\n",
       "      <td>10540</td>\n",
       "      <td>...</td>\n",
       "      <td>WHITE</td>\n",
       "      <td>NaN</td>\n",
       "      <td>1995.0</td>\n",
       "      <td>NaN</td>\n",
       "      <td>0.0</td>\n",
       "      <td>K 41</td>\n",
       "      <td>51-Sidewalk</td>\n",
       "      <td>NaN</td>\n",
       "      <td>NaN</td>\n",
       "      <td>NaN</td>\n",
       "    </tr>\n",
       "    <tr>\n",
       "      <th>194061</th>\n",
       "      <td>3389998556</td>\n",
       "      <td>73040KA</td>\n",
       "      <td>NY</td>\n",
       "      <td>COM</td>\n",
       "      <td>06/16/2015</td>\n",
       "      <td>69</td>\n",
       "      <td>VAN</td>\n",
       "      <td>FORD</td>\n",
       "      <td>T</td>\n",
       "      <td>34090</td>\n",
       "      <td>...</td>\n",
       "      <td>WH</td>\n",
       "      <td>NaN</td>\n",
       "      <td>2006.0</td>\n",
       "      <td>NaN</td>\n",
       "      <td>0.0</td>\n",
       "      <td>03 6</td>\n",
       "      <td>69-Failure to Disp Muni Recpt</td>\n",
       "      <td>NaN</td>\n",
       "      <td>NaN</td>\n",
       "      <td>NaN</td>\n",
       "    </tr>\n",
       "  </tbody>\n",
       "</table>\n",
       "<p>2 rows × 43 columns</p>\n",
       "</div>"
      ],
      "text/plain": [
       "        Summons Number Plate ID Registration State Plate Type  Issue Date  \\\n",
       "194060      3749343767  97720MD                 NY        COM  06/03/2015   \n",
       "194061      3389998556  73040KA                 NY        COM  06/16/2015   \n",
       "\n",
       "        Violation Code Vehicle Body Type Vehicle Make Issuing Agency  \\\n",
       "194060              51              DUMP        PETER              T   \n",
       "194061              69               VAN         FORD              T   \n",
       "\n",
       "        Street Code1  ...  Vehicle Color  Unregistered Vehicle? Vehicle Year  \\\n",
       "194060         10540  ...          WHITE                    NaN       1995.0   \n",
       "194061         34090  ...             WH                    NaN       2006.0   \n",
       "\n",
       "       Meter Number  Feet From Curb  Violation Post Code  \\\n",
       "194060          NaN             0.0                 K 41   \n",
       "194061          NaN             0.0                 03 6   \n",
       "\n",
       "                Violation Description No Standing or Stopping Violation  \\\n",
       "194060                    51-Sidewalk                               NaN   \n",
       "194061  69-Failure to Disp Muni Recpt                               NaN   \n",
       "\n",
       "       Hydrant Violation Double Parking Violation  \n",
       "194060               NaN                      NaN  \n",
       "194061               NaN                      NaN  \n",
       "\n",
       "[2 rows x 43 columns]"
      ]
     },
     "execution_count": 36,
     "metadata": {},
     "output_type": "execute_result"
    }
   ],
   "source": [
    "fy15_ddf.tail(2)"
   ]
  },
  {
   "cell_type": "code",
   "execution_count": 31,
   "metadata": {},
   "outputs": [
    {
     "data": {
      "text/html": [
       "<div>\n",
       "<style scoped>\n",
       "    .dataframe tbody tr th:only-of-type {\n",
       "        vertical-align: middle;\n",
       "    }\n",
       "\n",
       "    .dataframe tbody tr th {\n",
       "        vertical-align: top;\n",
       "    }\n",
       "\n",
       "    .dataframe thead th {\n",
       "        text-align: right;\n",
       "    }\n",
       "</style>\n",
       "<table border=\"1\" class=\"dataframe\">\n",
       "  <thead>\n",
       "    <tr style=\"text-align: right;\">\n",
       "      <th></th>\n",
       "      <th>Summons Number</th>\n",
       "      <th>Plate ID</th>\n",
       "      <th>Registration State</th>\n",
       "      <th>Plate Type</th>\n",
       "      <th>Issue Date</th>\n",
       "      <th>Violation Code</th>\n",
       "      <th>Vehicle Body Type</th>\n",
       "      <th>Vehicle Make</th>\n",
       "      <th>Issuing Agency</th>\n",
       "      <th>Street Code1</th>\n",
       "      <th>...</th>\n",
       "      <th>Vehicle Color</th>\n",
       "      <th>Unregistered Vehicle?</th>\n",
       "      <th>Vehicle Year</th>\n",
       "      <th>Meter Number</th>\n",
       "      <th>Feet From Curb</th>\n",
       "      <th>Violation Post Code</th>\n",
       "      <th>Violation Description</th>\n",
       "      <th>No Standing or Stopping Violation</th>\n",
       "      <th>Hydrant Violation</th>\n",
       "      <th>Double Parking Violation</th>\n",
       "    </tr>\n",
       "  </thead>\n",
       "  <tbody>\n",
       "    <tr>\n",
       "      <th>189616</th>\n",
       "      <td>4064533668</td>\n",
       "      <td>68718MG</td>\n",
       "      <td>NY</td>\n",
       "      <td>COM</td>\n",
       "      <td>06/08/2016</td>\n",
       "      <td>82</td>\n",
       "      <td>PICK</td>\n",
       "      <td>DODGE</td>\n",
       "      <td>T</td>\n",
       "      <td>0</td>\n",
       "      <td>...</td>\n",
       "      <td>WH</td>\n",
       "      <td>NaN</td>\n",
       "      <td>2015.0</td>\n",
       "      <td>NaN</td>\n",
       "      <td>0.0</td>\n",
       "      <td>04 2</td>\n",
       "      <td>82-Unaltered Commerc Vehicle</td>\n",
       "      <td>NaN</td>\n",
       "      <td>NaN</td>\n",
       "      <td>NaN</td>\n",
       "    </tr>\n",
       "    <tr>\n",
       "      <th>189617</th>\n",
       "      <td>4064533680</td>\n",
       "      <td>FZX4974</td>\n",
       "      <td>NY</td>\n",
       "      <td>PAS</td>\n",
       "      <td>06/08/2016</td>\n",
       "      <td>38</td>\n",
       "      <td>4DSD</td>\n",
       "      <td>HONDA</td>\n",
       "      <td>T</td>\n",
       "      <td>0</td>\n",
       "      <td>...</td>\n",
       "      <td>BK</td>\n",
       "      <td>NaN</td>\n",
       "      <td>2013.0</td>\n",
       "      <td>NaN</td>\n",
       "      <td>0.0</td>\n",
       "      <td>04 2</td>\n",
       "      <td>38-Failure to Display Muni Rec</td>\n",
       "      <td>NaN</td>\n",
       "      <td>NaN</td>\n",
       "      <td>NaN</td>\n",
       "    </tr>\n",
       "  </tbody>\n",
       "</table>\n",
       "<p>2 rows × 43 columns</p>\n",
       "</div>"
      ],
      "text/plain": [
       "        Summons Number Plate ID Registration State Plate Type  Issue Date  \\\n",
       "189616      4064533668  68718MG                 NY        COM  06/08/2016   \n",
       "189617      4064533680  FZX4974                 NY        PAS  06/08/2016   \n",
       "\n",
       "        Violation Code Vehicle Body Type Vehicle Make Issuing Agency  \\\n",
       "189616              82              PICK        DODGE              T   \n",
       "189617              38              4DSD        HONDA              T   \n",
       "\n",
       "        Street Code1  ...  Vehicle Color  Unregistered Vehicle? Vehicle Year  \\\n",
       "189616             0  ...             WH                    NaN       2015.0   \n",
       "189617             0  ...             BK                    NaN       2013.0   \n",
       "\n",
       "       Meter Number  Feet From Curb  Violation Post Code  \\\n",
       "189616          NaN             0.0                 04 2   \n",
       "189617          NaN             0.0                 04 2   \n",
       "\n",
       "                 Violation Description No Standing or Stopping Violation  \\\n",
       "189616    82-Unaltered Commerc Vehicle                               NaN   \n",
       "189617  38-Failure to Display Muni Rec                               NaN   \n",
       "\n",
       "       Hydrant Violation Double Parking Violation  \n",
       "189616               NaN                      NaN  \n",
       "189617               NaN                      NaN  \n",
       "\n",
       "[2 rows x 43 columns]"
      ]
     },
     "execution_count": 31,
     "metadata": {},
     "output_type": "execute_result"
    }
   ],
   "source": [
    "fy16_ddf.tail(2)"
   ]
  },
  {
   "cell_type": "code",
   "execution_count": 38,
   "metadata": {},
   "outputs": [
    {
     "data": {
      "text/html": [
       "<div>\n",
       "<style scoped>\n",
       "    .dataframe tbody tr th:only-of-type {\n",
       "        vertical-align: middle;\n",
       "    }\n",
       "\n",
       "    .dataframe tbody tr th {\n",
       "        vertical-align: top;\n",
       "    }\n",
       "\n",
       "    .dataframe thead th {\n",
       "        text-align: right;\n",
       "    }\n",
       "</style>\n",
       "<table border=\"1\" class=\"dataframe\">\n",
       "  <thead>\n",
       "    <tr style=\"text-align: right;\">\n",
       "      <th></th>\n",
       "      <th>Summons Number</th>\n",
       "      <th>Plate ID</th>\n",
       "      <th>Registration State</th>\n",
       "      <th>Plate Type</th>\n",
       "      <th>Issue Date</th>\n",
       "      <th>Violation Code</th>\n",
       "      <th>Vehicle Body Type</th>\n",
       "      <th>Vehicle Make</th>\n",
       "      <th>Issuing Agency</th>\n",
       "      <th>Street Code1</th>\n",
       "      <th>...</th>\n",
       "      <th>Vehicle Color</th>\n",
       "      <th>Unregistered Vehicle?</th>\n",
       "      <th>Vehicle Year</th>\n",
       "      <th>Meter Number</th>\n",
       "      <th>Feet From Curb</th>\n",
       "      <th>Violation Post Code</th>\n",
       "      <th>Violation Description</th>\n",
       "      <th>No Standing or Stopping Violation</th>\n",
       "      <th>Hydrant Violation</th>\n",
       "      <th>Double Parking Violation</th>\n",
       "    </tr>\n",
       "  </thead>\n",
       "  <tbody>\n",
       "    <tr>\n",
       "      <th>210393</th>\n",
       "      <td>1415514203</td>\n",
       "      <td>HGU9544</td>\n",
       "      <td>NY</td>\n",
       "      <td>PAS</td>\n",
       "      <td>11/15/2069</td>\n",
       "      <td>40</td>\n",
       "      <td>SUBN</td>\n",
       "      <td>JEEP</td>\n",
       "      <td>P</td>\n",
       "      <td>0</td>\n",
       "      <td>...</td>\n",
       "      <td>BROWN</td>\n",
       "      <td>0</td>\n",
       "      <td>2011.0</td>\n",
       "      <td>-</td>\n",
       "      <td>0.0</td>\n",
       "      <td>NaN</td>\n",
       "      <td>NaN</td>\n",
       "      <td>NaN</td>\n",
       "      <td>NaN</td>\n",
       "      <td>NaN</td>\n",
       "    </tr>\n",
       "    <tr>\n",
       "      <th>210394</th>\n",
       "      <td>1415995370</td>\n",
       "      <td>GPP1608</td>\n",
       "      <td>NY</td>\n",
       "      <td>PAS</td>\n",
       "      <td>11/19/2069</td>\n",
       "      <td>21</td>\n",
       "      <td>SDN</td>\n",
       "      <td>TOYOT</td>\n",
       "      <td>S</td>\n",
       "      <td>38080</td>\n",
       "      <td>...</td>\n",
       "      <td>GRAY</td>\n",
       "      <td>0</td>\n",
       "      <td>2011.0</td>\n",
       "      <td>-</td>\n",
       "      <td>0.0</td>\n",
       "      <td>NaN</td>\n",
       "      <td>NaN</td>\n",
       "      <td>NaN</td>\n",
       "      <td>NaN</td>\n",
       "      <td>NaN</td>\n",
       "    </tr>\n",
       "  </tbody>\n",
       "</table>\n",
       "<p>2 rows × 43 columns</p>\n",
       "</div>"
      ],
      "text/plain": [
       "        Summons Number Plate ID Registration State Plate Type  Issue Date  \\\n",
       "210393      1415514203  HGU9544                 NY        PAS  11/15/2069   \n",
       "210394      1415995370  GPP1608                 NY        PAS  11/19/2069   \n",
       "\n",
       "        Violation Code Vehicle Body Type Vehicle Make Issuing Agency  \\\n",
       "210393              40              SUBN         JEEP              P   \n",
       "210394              21               SDN        TOYOT              S   \n",
       "\n",
       "        Street Code1  ...  Vehicle Color  Unregistered Vehicle? Vehicle Year  \\\n",
       "210393             0  ...          BROWN                      0       2011.0   \n",
       "210394         38080  ...           GRAY                      0       2011.0   \n",
       "\n",
       "       Meter Number  Feet From Curb  Violation Post Code  \\\n",
       "210393            -             0.0                  NaN   \n",
       "210394            -             0.0                  NaN   \n",
       "\n",
       "        Violation Description No Standing or Stopping Violation  \\\n",
       "210393                    NaN                               NaN   \n",
       "210394                    NaN                               NaN   \n",
       "\n",
       "       Hydrant Violation Double Parking Violation  \n",
       "210393               NaN                      NaN  \n",
       "210394               NaN                      NaN  \n",
       "\n",
       "[2 rows x 43 columns]"
      ]
     },
     "execution_count": 38,
     "metadata": {},
     "output_type": "execute_result"
    }
   ],
   "source": [
    "fy17_ddf.tail(2)"
   ]
  },
  {
   "cell_type": "markdown",
   "metadata": {},
   "source": [
    "Instead of loading four separate files into four separate DataFrames,\n",
    "now loading all CSV files contained in the folder\n",
    "into a single DataFrame by using the * wildcard. Dask provides this for\n",
    "convenience since it’s common to split large datasets into multiple files,\n",
    "especially on distributed filesystems."
   ]
  },
  {
   "cell_type": "markdown",
   "metadata": {},
   "source": [
    "As before, we’re passing the final\n",
    "schema into the dtype argument, and we’re now also passing the list of\n",
    "columns we want to keep into the usecols argument. usecols takes a list of\n",
    "column names and drops any columns from the resulting DataFrame that\n",
    "aren’t specified in the list."
   ]
  },
  {
   "cell_type": "code",
   "execution_count": 33,
   "metadata": {},
   "outputs": [
    {
     "name": "stdout",
     "output_type": "stream",
     "text": [
      "Wall time: 410 ms\n"
     ]
    }
   ],
   "source": [
    "%%time\n",
    "ddf = dd.read_csv('*.csv', dtype = dtypes, usecols = common_columns)\n",
    "# ddf = ddf.compute()"
   ]
  },
  {
   "cell_type": "code",
   "execution_count": 34,
   "metadata": {},
   "outputs": [
    {
     "data": {
      "text/html": [
       "<div><strong>Dask DataFrame Structure:</strong></div>\n",
       "<div>\n",
       "<style scoped>\n",
       "    .dataframe tbody tr th:only-of-type {\n",
       "        vertical-align: middle;\n",
       "    }\n",
       "\n",
       "    .dataframe tbody tr th {\n",
       "        vertical-align: top;\n",
       "    }\n",
       "\n",
       "    .dataframe thead th {\n",
       "        text-align: right;\n",
       "    }\n",
       "</style>\n",
       "<table border=\"1\" class=\"dataframe\">\n",
       "  <thead>\n",
       "    <tr style=\"text-align: right;\">\n",
       "      <th></th>\n",
       "      <th>Summons Number</th>\n",
       "      <th>Plate ID</th>\n",
       "      <th>Registration State</th>\n",
       "      <th>Plate Type</th>\n",
       "      <th>Issue Date</th>\n",
       "      <th>Violation Code</th>\n",
       "      <th>Vehicle Body Type</th>\n",
       "      <th>Vehicle Make</th>\n",
       "      <th>Issuing Agency</th>\n",
       "      <th>Street Code1</th>\n",
       "      <th>Street Code2</th>\n",
       "      <th>Street Code3</th>\n",
       "      <th>Vehicle Expiration Date</th>\n",
       "      <th>Violation Location</th>\n",
       "      <th>Violation Precinct</th>\n",
       "      <th>Issuer Precinct</th>\n",
       "      <th>Issuer Code</th>\n",
       "      <th>Issuer Command</th>\n",
       "      <th>Issuer Squad</th>\n",
       "      <th>Violation Time</th>\n",
       "      <th>Time First Observed</th>\n",
       "      <th>Violation County</th>\n",
       "      <th>Violation In Front Of Or Opposite</th>\n",
       "      <th>House Number</th>\n",
       "      <th>Street Name</th>\n",
       "      <th>Intersecting Street</th>\n",
       "      <th>Date First Observed</th>\n",
       "      <th>Law Section</th>\n",
       "      <th>Sub Division</th>\n",
       "      <th>Violation Legal Code</th>\n",
       "      <th>Days Parking In Effect</th>\n",
       "      <th>From Hours In Effect</th>\n",
       "      <th>To Hours In Effect</th>\n",
       "      <th>Vehicle Color</th>\n",
       "      <th>Unregistered Vehicle?</th>\n",
       "      <th>Vehicle Year</th>\n",
       "      <th>Meter Number</th>\n",
       "      <th>Feet From Curb</th>\n",
       "      <th>Violation Post Code</th>\n",
       "      <th>Violation Description</th>\n",
       "      <th>No Standing or Stopping Violation</th>\n",
       "      <th>Hydrant Violation</th>\n",
       "      <th>Double Parking Violation</th>\n",
       "    </tr>\n",
       "    <tr>\n",
       "      <th>npartitions=142</th>\n",
       "      <th></th>\n",
       "      <th></th>\n",
       "      <th></th>\n",
       "      <th></th>\n",
       "      <th></th>\n",
       "      <th></th>\n",
       "      <th></th>\n",
       "      <th></th>\n",
       "      <th></th>\n",
       "      <th></th>\n",
       "      <th></th>\n",
       "      <th></th>\n",
       "      <th></th>\n",
       "      <th></th>\n",
       "      <th></th>\n",
       "      <th></th>\n",
       "      <th></th>\n",
       "      <th></th>\n",
       "      <th></th>\n",
       "      <th></th>\n",
       "      <th></th>\n",
       "      <th></th>\n",
       "      <th></th>\n",
       "      <th></th>\n",
       "      <th></th>\n",
       "      <th></th>\n",
       "      <th></th>\n",
       "      <th></th>\n",
       "      <th></th>\n",
       "      <th></th>\n",
       "      <th></th>\n",
       "      <th></th>\n",
       "      <th></th>\n",
       "      <th></th>\n",
       "      <th></th>\n",
       "      <th></th>\n",
       "      <th></th>\n",
       "      <th></th>\n",
       "      <th></th>\n",
       "      <th></th>\n",
       "      <th></th>\n",
       "      <th></th>\n",
       "      <th></th>\n",
       "    </tr>\n",
       "  </thead>\n",
       "  <tbody>\n",
       "    <tr>\n",
       "      <th></th>\n",
       "      <td>uint32</td>\n",
       "      <td>object</td>\n",
       "      <td>object</td>\n",
       "      <td>object</td>\n",
       "      <td>object</td>\n",
       "      <td>uint16</td>\n",
       "      <td>object</td>\n",
       "      <td>object</td>\n",
       "      <td>object</td>\n",
       "      <td>uint32</td>\n",
       "      <td>uint32</td>\n",
       "      <td>uint32</td>\n",
       "      <td>object</td>\n",
       "      <td>object</td>\n",
       "      <td>float32</td>\n",
       "      <td>float32</td>\n",
       "      <td>float32</td>\n",
       "      <td>object</td>\n",
       "      <td>object</td>\n",
       "      <td>object</td>\n",
       "      <td>object</td>\n",
       "      <td>object</td>\n",
       "      <td>object</td>\n",
       "      <td>object</td>\n",
       "      <td>object</td>\n",
       "      <td>object</td>\n",
       "      <td>object</td>\n",
       "      <td>float32</td>\n",
       "      <td>object</td>\n",
       "      <td>object</td>\n",
       "      <td>object</td>\n",
       "      <td>object</td>\n",
       "      <td>object</td>\n",
       "      <td>object</td>\n",
       "      <td>object</td>\n",
       "      <td>float32</td>\n",
       "      <td>object</td>\n",
       "      <td>float32</td>\n",
       "      <td>object</td>\n",
       "      <td>object</td>\n",
       "      <td>object</td>\n",
       "      <td>object</td>\n",
       "      <td>object</td>\n",
       "    </tr>\n",
       "    <tr>\n",
       "      <th></th>\n",
       "      <td>...</td>\n",
       "      <td>...</td>\n",
       "      <td>...</td>\n",
       "      <td>...</td>\n",
       "      <td>...</td>\n",
       "      <td>...</td>\n",
       "      <td>...</td>\n",
       "      <td>...</td>\n",
       "      <td>...</td>\n",
       "      <td>...</td>\n",
       "      <td>...</td>\n",
       "      <td>...</td>\n",
       "      <td>...</td>\n",
       "      <td>...</td>\n",
       "      <td>...</td>\n",
       "      <td>...</td>\n",
       "      <td>...</td>\n",
       "      <td>...</td>\n",
       "      <td>...</td>\n",
       "      <td>...</td>\n",
       "      <td>...</td>\n",
       "      <td>...</td>\n",
       "      <td>...</td>\n",
       "      <td>...</td>\n",
       "      <td>...</td>\n",
       "      <td>...</td>\n",
       "      <td>...</td>\n",
       "      <td>...</td>\n",
       "      <td>...</td>\n",
       "      <td>...</td>\n",
       "      <td>...</td>\n",
       "      <td>...</td>\n",
       "      <td>...</td>\n",
       "      <td>...</td>\n",
       "      <td>...</td>\n",
       "      <td>...</td>\n",
       "      <td>...</td>\n",
       "      <td>...</td>\n",
       "      <td>...</td>\n",
       "      <td>...</td>\n",
       "      <td>...</td>\n",
       "      <td>...</td>\n",
       "      <td>...</td>\n",
       "    </tr>\n",
       "    <tr>\n",
       "      <th>...</th>\n",
       "      <td>...</td>\n",
       "      <td>...</td>\n",
       "      <td>...</td>\n",
       "      <td>...</td>\n",
       "      <td>...</td>\n",
       "      <td>...</td>\n",
       "      <td>...</td>\n",
       "      <td>...</td>\n",
       "      <td>...</td>\n",
       "      <td>...</td>\n",
       "      <td>...</td>\n",
       "      <td>...</td>\n",
       "      <td>...</td>\n",
       "      <td>...</td>\n",
       "      <td>...</td>\n",
       "      <td>...</td>\n",
       "      <td>...</td>\n",
       "      <td>...</td>\n",
       "      <td>...</td>\n",
       "      <td>...</td>\n",
       "      <td>...</td>\n",
       "      <td>...</td>\n",
       "      <td>...</td>\n",
       "      <td>...</td>\n",
       "      <td>...</td>\n",
       "      <td>...</td>\n",
       "      <td>...</td>\n",
       "      <td>...</td>\n",
       "      <td>...</td>\n",
       "      <td>...</td>\n",
       "      <td>...</td>\n",
       "      <td>...</td>\n",
       "      <td>...</td>\n",
       "      <td>...</td>\n",
       "      <td>...</td>\n",
       "      <td>...</td>\n",
       "      <td>...</td>\n",
       "      <td>...</td>\n",
       "      <td>...</td>\n",
       "      <td>...</td>\n",
       "      <td>...</td>\n",
       "      <td>...</td>\n",
       "      <td>...</td>\n",
       "    </tr>\n",
       "    <tr>\n",
       "      <th></th>\n",
       "      <td>...</td>\n",
       "      <td>...</td>\n",
       "      <td>...</td>\n",
       "      <td>...</td>\n",
       "      <td>...</td>\n",
       "      <td>...</td>\n",
       "      <td>...</td>\n",
       "      <td>...</td>\n",
       "      <td>...</td>\n",
       "      <td>...</td>\n",
       "      <td>...</td>\n",
       "      <td>...</td>\n",
       "      <td>...</td>\n",
       "      <td>...</td>\n",
       "      <td>...</td>\n",
       "      <td>...</td>\n",
       "      <td>...</td>\n",
       "      <td>...</td>\n",
       "      <td>...</td>\n",
       "      <td>...</td>\n",
       "      <td>...</td>\n",
       "      <td>...</td>\n",
       "      <td>...</td>\n",
       "      <td>...</td>\n",
       "      <td>...</td>\n",
       "      <td>...</td>\n",
       "      <td>...</td>\n",
       "      <td>...</td>\n",
       "      <td>...</td>\n",
       "      <td>...</td>\n",
       "      <td>...</td>\n",
       "      <td>...</td>\n",
       "      <td>...</td>\n",
       "      <td>...</td>\n",
       "      <td>...</td>\n",
       "      <td>...</td>\n",
       "      <td>...</td>\n",
       "      <td>...</td>\n",
       "      <td>...</td>\n",
       "      <td>...</td>\n",
       "      <td>...</td>\n",
       "      <td>...</td>\n",
       "      <td>...</td>\n",
       "    </tr>\n",
       "    <tr>\n",
       "      <th></th>\n",
       "      <td>...</td>\n",
       "      <td>...</td>\n",
       "      <td>...</td>\n",
       "      <td>...</td>\n",
       "      <td>...</td>\n",
       "      <td>...</td>\n",
       "      <td>...</td>\n",
       "      <td>...</td>\n",
       "      <td>...</td>\n",
       "      <td>...</td>\n",
       "      <td>...</td>\n",
       "      <td>...</td>\n",
       "      <td>...</td>\n",
       "      <td>...</td>\n",
       "      <td>...</td>\n",
       "      <td>...</td>\n",
       "      <td>...</td>\n",
       "      <td>...</td>\n",
       "      <td>...</td>\n",
       "      <td>...</td>\n",
       "      <td>...</td>\n",
       "      <td>...</td>\n",
       "      <td>...</td>\n",
       "      <td>...</td>\n",
       "      <td>...</td>\n",
       "      <td>...</td>\n",
       "      <td>...</td>\n",
       "      <td>...</td>\n",
       "      <td>...</td>\n",
       "      <td>...</td>\n",
       "      <td>...</td>\n",
       "      <td>...</td>\n",
       "      <td>...</td>\n",
       "      <td>...</td>\n",
       "      <td>...</td>\n",
       "      <td>...</td>\n",
       "      <td>...</td>\n",
       "      <td>...</td>\n",
       "      <td>...</td>\n",
       "      <td>...</td>\n",
       "      <td>...</td>\n",
       "      <td>...</td>\n",
       "      <td>...</td>\n",
       "    </tr>\n",
       "  </tbody>\n",
       "</table>\n",
       "</div>\n",
       "<div>Dask Name: from-delayed, 426 tasks</div>"
      ],
      "text/plain": [
       "Dask DataFrame Structure:\n",
       "                Summons Number Plate ID Registration State Plate Type Issue Date Violation Code Vehicle Body Type Vehicle Make Issuing Agency Street Code1 Street Code2 Street Code3 Vehicle Expiration Date Violation Location Violation Precinct Issuer Precinct Issuer Code Issuer Command Issuer Squad Violation Time Time First Observed Violation County Violation In Front Of Or Opposite House Number Street Name Intersecting Street Date First Observed Law Section Sub Division Violation Legal Code Days Parking In Effect     From Hours In Effect To Hours In Effect Vehicle Color Unregistered Vehicle? Vehicle Year Meter Number Feet From Curb Violation Post Code Violation Description No Standing or Stopping Violation Hydrant Violation Double Parking Violation\n",
       "npartitions=142                                                                                                                                                                                                                                                                                                                                                                                                                                                                                                                                                                                                                                                                                                                                                                       \n",
       "                        uint32   object             object     object     object         uint16            object       object         object       uint32       uint32       uint32                  object             object            float32         float32     float32         object       object         object              object           object                            object       object      object              object              object     float32       object               object                     object               object             object        object                object      float32       object        float32              object                object                            object            object                   object\n",
       "                           ...      ...                ...        ...        ...            ...               ...          ...            ...          ...          ...          ...                     ...                ...                ...             ...         ...            ...          ...            ...                 ...              ...                               ...          ...         ...                 ...                 ...         ...          ...                  ...                        ...                  ...                ...           ...                   ...          ...          ...            ...                 ...                   ...                               ...               ...                      ...\n",
       "...                        ...      ...                ...        ...        ...            ...               ...          ...            ...          ...          ...          ...                     ...                ...                ...             ...         ...            ...          ...            ...                 ...              ...                               ...          ...         ...                 ...                 ...         ...          ...                  ...                        ...                  ...                ...           ...                   ...          ...          ...            ...                 ...                   ...                               ...               ...                      ...\n",
       "                           ...      ...                ...        ...        ...            ...               ...          ...            ...          ...          ...          ...                     ...                ...                ...             ...         ...            ...          ...            ...                 ...              ...                               ...          ...         ...                 ...                 ...         ...          ...                  ...                        ...                  ...                ...           ...                   ...          ...          ...            ...                 ...                   ...                               ...               ...                      ...\n",
       "                           ...      ...                ...        ...        ...            ...               ...          ...            ...          ...          ...          ...                     ...                ...                ...             ...         ...            ...          ...            ...                 ...              ...                               ...          ...         ...                 ...                 ...         ...          ...                  ...                        ...                  ...                ...           ...                   ...          ...          ...            ...                 ...                   ...                               ...               ...                      ...\n",
       "Dask Name: from-delayed, 426 tasks"
      ]
     },
     "execution_count": 34,
     "metadata": {},
     "output_type": "execute_result"
    }
   ],
   "source": [
    "ddf"
   ]
  },
  {
   "cell_type": "code",
   "execution_count": 44,
   "metadata": {},
   "outputs": [
    {
     "data": {
      "text/html": [
       "<div>\n",
       "<style scoped>\n",
       "    .dataframe tbody tr th:only-of-type {\n",
       "        vertical-align: middle;\n",
       "    }\n",
       "\n",
       "    .dataframe tbody tr th {\n",
       "        vertical-align: top;\n",
       "    }\n",
       "\n",
       "    .dataframe thead th {\n",
       "        text-align: right;\n",
       "    }\n",
       "</style>\n",
       "<table border=\"1\" class=\"dataframe\">\n",
       "  <thead>\n",
       "    <tr style=\"text-align: right;\">\n",
       "      <th></th>\n",
       "      <th>Summons Number</th>\n",
       "      <th>Plate ID</th>\n",
       "      <th>Registration State</th>\n",
       "      <th>Plate Type</th>\n",
       "      <th>Issue Date</th>\n",
       "      <th>Violation Code</th>\n",
       "      <th>Vehicle Body Type</th>\n",
       "      <th>Vehicle Make</th>\n",
       "      <th>Issuing Agency</th>\n",
       "      <th>Street Code1</th>\n",
       "      <th>...</th>\n",
       "      <th>Vehicle Color</th>\n",
       "      <th>Unregistered Vehicle?</th>\n",
       "      <th>Vehicle Year</th>\n",
       "      <th>Meter Number</th>\n",
       "      <th>Feet From Curb</th>\n",
       "      <th>Violation Post Code</th>\n",
       "      <th>Violation Description</th>\n",
       "      <th>No Standing or Stopping Violation</th>\n",
       "      <th>Hydrant Violation</th>\n",
       "      <th>Double Parking Violation</th>\n",
       "    </tr>\n",
       "  </thead>\n",
       "  <tbody>\n",
       "    <tr>\n",
       "      <th>210393</th>\n",
       "      <td>1415514203</td>\n",
       "      <td>HGU9544</td>\n",
       "      <td>NY</td>\n",
       "      <td>PAS</td>\n",
       "      <td>11/15/2069</td>\n",
       "      <td>40</td>\n",
       "      <td>SUBN</td>\n",
       "      <td>JEEP</td>\n",
       "      <td>P</td>\n",
       "      <td>0</td>\n",
       "      <td>...</td>\n",
       "      <td>BROWN</td>\n",
       "      <td>0</td>\n",
       "      <td>2011.0</td>\n",
       "      <td>-</td>\n",
       "      <td>0.0</td>\n",
       "      <td>NaN</td>\n",
       "      <td>NaN</td>\n",
       "      <td>NaN</td>\n",
       "      <td>NaN</td>\n",
       "      <td>NaN</td>\n",
       "    </tr>\n",
       "    <tr>\n",
       "      <th>210394</th>\n",
       "      <td>1415995370</td>\n",
       "      <td>GPP1608</td>\n",
       "      <td>NY</td>\n",
       "      <td>PAS</td>\n",
       "      <td>11/19/2069</td>\n",
       "      <td>21</td>\n",
       "      <td>SDN</td>\n",
       "      <td>TOYOT</td>\n",
       "      <td>S</td>\n",
       "      <td>38080</td>\n",
       "      <td>...</td>\n",
       "      <td>GRAY</td>\n",
       "      <td>0</td>\n",
       "      <td>2011.0</td>\n",
       "      <td>-</td>\n",
       "      <td>0.0</td>\n",
       "      <td>NaN</td>\n",
       "      <td>NaN</td>\n",
       "      <td>NaN</td>\n",
       "      <td>NaN</td>\n",
       "      <td>NaN</td>\n",
       "    </tr>\n",
       "  </tbody>\n",
       "</table>\n",
       "<p>2 rows × 43 columns</p>\n",
       "</div>"
      ],
      "text/plain": [
       "        Summons Number Plate ID Registration State Plate Type  Issue Date  \\\n",
       "210393      1415514203  HGU9544                 NY        PAS  11/15/2069   \n",
       "210394      1415995370  GPP1608                 NY        PAS  11/19/2069   \n",
       "\n",
       "        Violation Code Vehicle Body Type Vehicle Make Issuing Agency  \\\n",
       "210393              40              SUBN         JEEP              P   \n",
       "210394              21               SDN        TOYOT              S   \n",
       "\n",
       "        Street Code1  ...  Vehicle Color  Unregistered Vehicle? Vehicle Year  \\\n",
       "210393             0  ...          BROWN                      0       2011.0   \n",
       "210394         38080  ...           GRAY                      0       2011.0   \n",
       "\n",
       "       Meter Number  Feet From Curb  Violation Post Code  \\\n",
       "210393            -             0.0                  NaN   \n",
       "210394            -             0.0                  NaN   \n",
       "\n",
       "        Violation Description No Standing or Stopping Violation  \\\n",
       "210393                    NaN                               NaN   \n",
       "210394                    NaN                               NaN   \n",
       "\n",
       "       Hydrant Violation Double Parking Violation  \n",
       "210393               NaN                      NaN  \n",
       "210394               NaN                      NaN  \n",
       "\n",
       "[2 rows x 43 columns]"
      ]
     },
     "execution_count": 44,
     "metadata": {},
     "output_type": "execute_result"
    }
   ],
   "source": [
    "ddf.tail(2)"
   ]
  },
  {
   "cell_type": "markdown",
   "metadata": {},
   "source": [
    "Should load all 4 sets and have a 42.3 million obs, but cannot do this on my local pc"
   ]
  },
  {
   "cell_type": "code",
   "execution_count": 67,
   "metadata": {},
   "outputs": [
    {
     "name": "stdout",
     "output_type": "stream",
     "text": [
      "Wall time: 84.8 ms\n"
     ]
    }
   ],
   "source": [
    "%%time\n",
    "ddf_2 = dd.concat([fy14_ddf, fy15_ddf, fy16_ddf, fy17_ddf], interleave_partitions = True)"
   ]
  },
  {
   "cell_type": "code",
   "execution_count": 73,
   "metadata": {},
   "outputs": [
    {
     "data": {
      "text/html": [
       "<div>\n",
       "<style scoped>\n",
       "    .dataframe tbody tr th:only-of-type {\n",
       "        vertical-align: middle;\n",
       "    }\n",
       "\n",
       "    .dataframe tbody tr th {\n",
       "        vertical-align: top;\n",
       "    }\n",
       "\n",
       "    .dataframe thead th {\n",
       "        text-align: right;\n",
       "    }\n",
       "</style>\n",
       "<table border=\"1\" class=\"dataframe\">\n",
       "  <thead>\n",
       "    <tr style=\"text-align: right;\">\n",
       "      <th></th>\n",
       "      <th>Summons Number</th>\n",
       "      <th>Plate ID</th>\n",
       "      <th>Registration State</th>\n",
       "      <th>Plate Type</th>\n",
       "      <th>Issue Date</th>\n",
       "      <th>Violation Code</th>\n",
       "      <th>Vehicle Body Type</th>\n",
       "      <th>Vehicle Make</th>\n",
       "      <th>Issuing Agency</th>\n",
       "      <th>Street Code1</th>\n",
       "      <th>...</th>\n",
       "      <th>Vehicle Color</th>\n",
       "      <th>Unregistered Vehicle?</th>\n",
       "      <th>Vehicle Year</th>\n",
       "      <th>Meter Number</th>\n",
       "      <th>Feet From Curb</th>\n",
       "      <th>Violation Post Code</th>\n",
       "      <th>Violation Description</th>\n",
       "      <th>No Standing or Stopping Violation</th>\n",
       "      <th>Hydrant Violation</th>\n",
       "      <th>Double Parking Violation</th>\n",
       "    </tr>\n",
       "  </thead>\n",
       "  <tbody>\n",
       "    <tr>\n",
       "      <th>210393</th>\n",
       "      <td>1415514203</td>\n",
       "      <td>HGU9544</td>\n",
       "      <td>NY</td>\n",
       "      <td>PAS</td>\n",
       "      <td>11/15/2069</td>\n",
       "      <td>40</td>\n",
       "      <td>SUBN</td>\n",
       "      <td>JEEP</td>\n",
       "      <td>P</td>\n",
       "      <td>0</td>\n",
       "      <td>...</td>\n",
       "      <td>BROWN</td>\n",
       "      <td>0</td>\n",
       "      <td>2011.0</td>\n",
       "      <td>-</td>\n",
       "      <td>0.0</td>\n",
       "      <td>NaN</td>\n",
       "      <td>NaN</td>\n",
       "      <td>NaN</td>\n",
       "      <td>NaN</td>\n",
       "      <td>NaN</td>\n",
       "    </tr>\n",
       "    <tr>\n",
       "      <th>210394</th>\n",
       "      <td>1415995370</td>\n",
       "      <td>GPP1608</td>\n",
       "      <td>NY</td>\n",
       "      <td>PAS</td>\n",
       "      <td>11/19/2069</td>\n",
       "      <td>21</td>\n",
       "      <td>SDN</td>\n",
       "      <td>TOYOT</td>\n",
       "      <td>S</td>\n",
       "      <td>38080</td>\n",
       "      <td>...</td>\n",
       "      <td>GRAY</td>\n",
       "      <td>0</td>\n",
       "      <td>2011.0</td>\n",
       "      <td>-</td>\n",
       "      <td>0.0</td>\n",
       "      <td>NaN</td>\n",
       "      <td>NaN</td>\n",
       "      <td>NaN</td>\n",
       "      <td>NaN</td>\n",
       "      <td>NaN</td>\n",
       "    </tr>\n",
       "  </tbody>\n",
       "</table>\n",
       "<p>2 rows × 43 columns</p>\n",
       "</div>"
      ],
      "text/plain": [
       "        Summons Number Plate ID Registration State Plate Type  Issue Date  \\\n",
       "210393      1415514203  HGU9544                 NY        PAS  11/15/2069   \n",
       "210394      1415995370  GPP1608                 NY        PAS  11/19/2069   \n",
       "\n",
       "        Violation Code Vehicle Body Type Vehicle Make Issuing Agency  \\\n",
       "210393              40              SUBN         JEEP              P   \n",
       "210394              21               SDN        TOYOT              S   \n",
       "\n",
       "        Street Code1  ...  Vehicle Color  Unregistered Vehicle? Vehicle Year  \\\n",
       "210393             0  ...          BROWN                      0       2011.0   \n",
       "210394         38080  ...           GRAY                      0       2011.0   \n",
       "\n",
       "       Meter Number  Feet From Curb  Violation Post Code  \\\n",
       "210393            -             0.0                  NaN   \n",
       "210394            -             0.0                  NaN   \n",
       "\n",
       "        Violation Description No Standing or Stopping Violation  \\\n",
       "210393                    NaN                               NaN   \n",
       "210394                    NaN                               NaN   \n",
       "\n",
       "       Hydrant Violation Double Parking Violation  \n",
       "210393               NaN                      NaN  \n",
       "210394               NaN                      NaN  \n",
       "\n",
       "[2 rows x 43 columns]"
      ]
     },
     "execution_count": 73,
     "metadata": {},
     "output_type": "execute_result"
    }
   ],
   "source": [
    "ddf_2.tail(2)"
   ]
  },
  {
   "cell_type": "markdown",
   "metadata": {},
   "source": [
    "usecols is an interesting argument because if you look at the Dask API\n",
    "documentation, it’s not listed. It might not be immediately obvious why this\n",
    "is, but it’s because the argument comes from Pandas. Since each partition of\n",
    "a Dask DataFrame is a Pandas DataFrame, you can pass along any Pandas\n",
    "arguments through the *args and **kwargs interfaces and they will control\n",
    "the underlying Pandas DataFrames that make up each partition. This\n",
    "interface is also how you can control things like which column delimiter\n",
    "should be used, whether the data has a header or not, and so on. The Pandas\n",
    "API documentation for read_csv and its many arguments can be found at\n",
    "http://pandas.pydata.org/pandasdocs/stable/generated/pandas.read_csv.html."
   ]
  },
  {
   "cell_type": "code",
   "execution_count": null,
   "metadata": {},
   "outputs": [],
   "source": []
  },
  {
   "cell_type": "code",
   "execution_count": null,
   "metadata": {},
   "outputs": [],
   "source": []
  },
  {
   "cell_type": "markdown",
   "metadata": {},
   "source": [
    "# **Reading data from relational databases(Done on Ubuntu+Docker)**"
   ]
  },
  {
   "cell_type": "markdown",
   "metadata": {},
   "source": [
    "Reading data from a relational database system (RDBMS) into Dask is fairly\n",
    "easy. In fact, you’re likely to find that the most tedious part of interfacing\n",
    "with RDBMSs is setting up and configuring your Dask environment to do so.\n",
    "Because of the wide variety of RDBMSs used in production environments, we\n",
    "can’t cover the specifics for each one here. But, a substantial amount of\n",
    "documentation and support is available online for the specific RDBMS you’re\n",
    "working with. The most important thing to be aware of is that when using\n",
    "Dask in a multi-node cluster, your client machine is not the only machine\n",
    "that will need access to the database. Each worker node needs to be able to\n",
    "access the database server, so it’s important to install the correct software\n",
    "and configure each node in the cluster to be able to do so.\n",
    "\n",
    "Dask uses the **SQL Alchemy** library to interface with RDBMSs, and I\n",
    "recommend using the **pyodbc** library to manage your ODBC drivers. This\n",
    "means you will need to install and configure SQL Alchemy, pyodbc, and the\n",
    "ODBC drivers for your specific RDBMS on each machine in your cluster for\n",
    "Dask to work correctly. To learn more about SQL Alchemy, you can check out\n",
    "www.sqlalchemy.org/library.html. Likewise, you can learn more about\n",
    "pyodbc at https://github.com/mkleehammer/pyodbc/wiki."
   ]
  },
  {
   "cell_type": "raw",
   "metadata": {},
   "source": [
    "For this part, I used a ubuntu Docker image from Microsoft container for testing"
   ]
  },
  {
   "cell_type": "raw",
   "metadata": {},
   "source": [
    "conda install -c anaconda sqlalchemy"
   ]
  },
  {
   "cell_type": "raw",
   "metadata": {},
   "source": [
    "conda install -c anaconda pyodbc"
   ]
  },
  {
   "cell_type": "code",
   "execution_count": 10,
   "metadata": {},
   "outputs": [],
   "source": [
    "import pyodbc"
   ]
  },
  {
   "cell_type": "code",
   "execution_count": 31,
   "metadata": {},
   "outputs": [
    {
     "data": {
      "text/plain": [
       "['ODBC Driver 17 for SQL Server']"
      ]
     },
     "execution_count": 31,
     "metadata": {},
     "output_type": "execute_result"
    }
   ],
   "source": [
    "pyodbc.drivers()"
   ]
  },
  {
   "cell_type": "code",
   "execution_count": 32,
   "metadata": {},
   "outputs": [
    {
     "data": {
      "text/plain": [
       "'ODBC Driver 17 for SQL Server'"
      ]
     },
     "execution_count": 32,
     "metadata": {},
     "output_type": "execute_result"
    }
   ],
   "source": [
    "[item for item in pyodbc.drivers()][-1]"
   ]
  },
  {
   "cell_type": "code",
   "execution_count": 33,
   "metadata": {},
   "outputs": [],
   "source": [
    "username = 'sa'\n",
    "password = 'hidden'\n",
    "hostname = 'localhost'\n",
    "database_name = 'SARS'\n",
    "odbc_driver = 'ODBC+Driver+17+for+SQL+Server'"
   ]
  },
  {
   "cell_type": "code",
   "execution_count": 34,
   "metadata": {},
   "outputs": [],
   "source": [
    "connection_string = 'mssql+pyodbc://{0}:{1}@{2}/{3}?driver={4}'.format(username, password, hostname, database_name, odbc_driver)"
   ]
  },
  {
   "cell_type": "code",
   "execution_count": 35,
   "metadata": {},
   "outputs": [],
   "source": [
    "data = dd.read_sql_table('Inventory ', connection_string, index_col = 'id')"
   ]
  },
  {
   "cell_type": "code",
   "execution_count": 36,
   "metadata": {},
   "outputs": [
    {
     "name": "stderr",
     "output_type": "stream",
     "text": [
      "/home/edison/anaconda3/envs/myenv/lib/python3.6/site-packages/dask/dataframe/core.py:5721: UserWarning: Insufficient elements for `head`. 5 elements requested, only 2 elements available. Try passing larger `npartitions` to `head`.\n",
      "  warnings.warn(msg.format(n, len(r)))\n"
     ]
    },
    {
     "data": {
      "text/html": [
       "<div>\n",
       "<style scoped>\n",
       "    .dataframe tbody tr th:only-of-type {\n",
       "        vertical-align: middle;\n",
       "    }\n",
       "\n",
       "    .dataframe tbody tr th {\n",
       "        vertical-align: top;\n",
       "    }\n",
       "\n",
       "    .dataframe thead th {\n",
       "        text-align: right;\n",
       "    }\n",
       "</style>\n",
       "<table border=\"1\" class=\"dataframe\">\n",
       "  <thead>\n",
       "    <tr style=\"text-align: right;\">\n",
       "      <th></th>\n",
       "      <th>name</th>\n",
       "      <th>quantity</th>\n",
       "    </tr>\n",
       "    <tr>\n",
       "      <th>id</th>\n",
       "      <th></th>\n",
       "      <th></th>\n",
       "    </tr>\n",
       "  </thead>\n",
       "  <tbody>\n",
       "    <tr>\n",
       "      <th>1</th>\n",
       "      <td>banana</td>\n",
       "      <td>150</td>\n",
       "    </tr>\n",
       "    <tr>\n",
       "      <th>2</th>\n",
       "      <td>orange</td>\n",
       "      <td>154</td>\n",
       "    </tr>\n",
       "  </tbody>\n",
       "</table>\n",
       "</div>"
      ],
      "text/plain": [
       "      name  quantity\n",
       "id                  \n",
       "1   banana       150\n",
       "2   orange       154"
      ]
     },
     "execution_count": 36,
     "metadata": {},
     "output_type": "execute_result"
    }
   ],
   "source": [
    "data.head()"
   ]
  },
  {
   "cell_type": "markdown",
   "metadata": {},
   "source": [
    "The last line demonstrates how to use\n",
    "the read_sql_table function to connect to the database and create the\n",
    "DataFrame. The first argument is the name of the database table you want to\n",
    "query, the second argument is the connection string, and the third argument\n",
    "is the column to use as the DataFrame’s index. These are the three required\n",
    "arguments for this function to work."
   ]
  },
  {
   "cell_type": "code",
   "execution_count": 37,
   "metadata": {},
   "outputs": [
    {
     "data": {
      "text/html": [
       "<div><strong>Dask DataFrame Structure:</strong></div>\n",
       "<div>\n",
       "<style scoped>\n",
       "    .dataframe tbody tr th:only-of-type {\n",
       "        vertical-align: middle;\n",
       "    }\n",
       "\n",
       "    .dataframe tbody tr th {\n",
       "        vertical-align: top;\n",
       "    }\n",
       "\n",
       "    .dataframe thead th {\n",
       "        text-align: right;\n",
       "    }\n",
       "</style>\n",
       "<table border=\"1\" class=\"dataframe\">\n",
       "  <thead>\n",
       "    <tr style=\"text-align: right;\">\n",
       "      <th></th>\n",
       "      <th>name</th>\n",
       "      <th>quantity</th>\n",
       "    </tr>\n",
       "    <tr>\n",
       "      <th>npartitions=1</th>\n",
       "      <th></th>\n",
       "      <th></th>\n",
       "    </tr>\n",
       "  </thead>\n",
       "  <tbody>\n",
       "    <tr>\n",
       "      <th>1.0</th>\n",
       "      <td>object</td>\n",
       "      <td>int64</td>\n",
       "    </tr>\n",
       "    <tr>\n",
       "      <th>2.0</th>\n",
       "      <td>...</td>\n",
       "      <td>...</td>\n",
       "    </tr>\n",
       "  </tbody>\n",
       "</table>\n",
       "</div>\n",
       "<div>Dask Name: from-delayed, 2 tasks</div>"
      ],
      "text/plain": [
       "Dask DataFrame Structure:\n",
       "                 name quantity\n",
       "npartitions=1                 \n",
       "1.0            object    int64\n",
       "2.0               ...      ...\n",
       "Dask Name: from-delayed, 2 tasks"
      ]
     },
     "execution_count": 37,
     "metadata": {},
     "output_type": "execute_result"
    }
   ],
   "source": [
    "data"
   ]
  },
  {
   "cell_type": "markdown",
   "metadata": {},
   "source": [
    "You should be aware of a few important assumptions:\n",
    "   1. First, concerning datatypes, you might think that Dask gets datatype\n",
    "information directly from the database server since the database has a\n",
    "defined schema already. Instead, Dask samples the data and infers datatypes\n",
    "just like it does when reading a delimited text file. However, Dask\n",
    "sequentially reads the first five rows from the table instead of randomly\n",
    "sampling data across the dataset. Because databases indeed have a welldefined schema, Dask’s type inference is much more reliable when reading\n",
    "data from an RDBMS versus a delimited text file. However, it’s still not\n",
    "perfect. Because of the way data might be sorted, edge cases can come up\n",
    "that cause Dask to choose incorrect datatypes.For example, a string column\n",
    "might have some rows where the strings contain only numbers (“1456,”\n",
    "“2986,” and so on.) If the data is sorted in such a way that only these\n",
    "numeric-like strings appear in the sample Dask takes when inferring\n",
    "datatypes, it may incorrectly assume the column should be an integer\n",
    "datatype instead of a string datatype. \n",
    "\n",
    "   2. The second assumption is how the data should be partitioned. If the\n",
    "index_col (currently set to 'Summons Number') is a numeric or date/time\n",
    "datatype, Dask will automatically infer boundaries and partition the data\n",
    "based on a 256 MB block size (which is larger than read_csv’s 64 MB block\n",
    "size). However, if the index_col is not a numeric or date/time datatype, you\n",
    "must either specify the number of partitions or the boundaries to partition\n",
    "the data by."
   ]
  },
  {
   "cell_type": "markdown",
   "metadata": {},
   "source": [
    "For example: Even partitioning on a non-numeric or date/time index as following:"
   ]
  },
  {
   "cell_type": "code",
   "execution_count": 52,
   "metadata": {},
   "outputs": [],
   "source": [
    "data = dd.read_sql_table('Inventory', connection_string, index_col = 'quantity', npartitions = 4)"
   ]
  },
  {
   "cell_type": "code",
   "execution_count": 53,
   "metadata": {},
   "outputs": [
    {
     "data": {
      "text/html": [
       "<div><strong>Dask DataFrame Structure:</strong></div>\n",
       "<div>\n",
       "<style scoped>\n",
       "    .dataframe tbody tr th:only-of-type {\n",
       "        vertical-align: middle;\n",
       "    }\n",
       "\n",
       "    .dataframe tbody tr th {\n",
       "        vertical-align: top;\n",
       "    }\n",
       "\n",
       "    .dataframe thead th {\n",
       "        text-align: right;\n",
       "    }\n",
       "</style>\n",
       "<table border=\"1\" class=\"dataframe\">\n",
       "  <thead>\n",
       "    <tr style=\"text-align: right;\">\n",
       "      <th></th>\n",
       "      <th>id</th>\n",
       "      <th>name</th>\n",
       "    </tr>\n",
       "    <tr>\n",
       "      <th>npartitions=4</th>\n",
       "      <th></th>\n",
       "      <th></th>\n",
       "    </tr>\n",
       "  </thead>\n",
       "  <tbody>\n",
       "    <tr>\n",
       "      <th>150.0</th>\n",
       "      <td>int64</td>\n",
       "      <td>object</td>\n",
       "    </tr>\n",
       "    <tr>\n",
       "      <th>151.0</th>\n",
       "      <td>...</td>\n",
       "      <td>...</td>\n",
       "    </tr>\n",
       "    <tr>\n",
       "      <th>152.0</th>\n",
       "      <td>...</td>\n",
       "      <td>...</td>\n",
       "    </tr>\n",
       "    <tr>\n",
       "      <th>153.0</th>\n",
       "      <td>...</td>\n",
       "      <td>...</td>\n",
       "    </tr>\n",
       "    <tr>\n",
       "      <th>154.0</th>\n",
       "      <td>...</td>\n",
       "      <td>...</td>\n",
       "    </tr>\n",
       "  </tbody>\n",
       "</table>\n",
       "</div>\n",
       "<div>Dask Name: from-delayed, 8 tasks</div>"
      ],
      "text/plain": [
       "Dask DataFrame Structure:\n",
       "                  id    name\n",
       "npartitions=4               \n",
       "150.0          int64  object\n",
       "151.0            ...     ...\n",
       "152.0            ...     ...\n",
       "153.0            ...     ...\n",
       "154.0            ...     ...\n",
       "Dask Name: from-delayed, 8 tasks"
      ]
     },
     "execution_count": 53,
     "metadata": {},
     "output_type": "execute_result"
    }
   ],
   "source": [
    "data"
   ]
  },
  {
   "cell_type": "markdown",
   "metadata": {},
   "source": [
    "OR: \n",
    "Custom partitioning on a non-numeric or date/time index"
   ]
  },
  {
   "cell_type": "code",
   "execution_count": 41,
   "metadata": {},
   "outputs": [],
   "source": [
    "partition_boundaries = sorted(['banana', 'orange'])"
   ]
  },
  {
   "cell_type": "code",
   "execution_count": 43,
   "metadata": {},
   "outputs": [],
   "source": [
    "data = dd.read_sql_table('Inventory', connection_string, index_col = 'name', divisions = partition_boundaries)"
   ]
  },
  {
   "cell_type": "code",
   "execution_count": 44,
   "metadata": {},
   "outputs": [
    {
     "data": {
      "text/html": [
       "<div><strong>Dask DataFrame Structure:</strong></div>\n",
       "<div>\n",
       "<style scoped>\n",
       "    .dataframe tbody tr th:only-of-type {\n",
       "        vertical-align: middle;\n",
       "    }\n",
       "\n",
       "    .dataframe tbody tr th {\n",
       "        vertical-align: top;\n",
       "    }\n",
       "\n",
       "    .dataframe thead th {\n",
       "        text-align: right;\n",
       "    }\n",
       "</style>\n",
       "<table border=\"1\" class=\"dataframe\">\n",
       "  <thead>\n",
       "    <tr style=\"text-align: right;\">\n",
       "      <th></th>\n",
       "      <th>id</th>\n",
       "      <th>quantity</th>\n",
       "    </tr>\n",
       "    <tr>\n",
       "      <th>npartitions=1</th>\n",
       "      <th></th>\n",
       "      <th></th>\n",
       "    </tr>\n",
       "  </thead>\n",
       "  <tbody>\n",
       "    <tr>\n",
       "      <th>banana</th>\n",
       "      <td>int64</td>\n",
       "      <td>int64</td>\n",
       "    </tr>\n",
       "    <tr>\n",
       "      <th>orange</th>\n",
       "      <td>...</td>\n",
       "      <td>...</td>\n",
       "    </tr>\n",
       "  </tbody>\n",
       "</table>\n",
       "</div>\n",
       "<div>Dask Name: from-delayed, 2 tasks</div>"
      ],
      "text/plain": [
       "Dask DataFrame Structure:\n",
       "                  id quantity\n",
       "npartitions=1                \n",
       "banana         int64    int64\n",
       "orange           ...      ...\n",
       "Dask Name: from-delayed, 2 tasks"
      ]
     },
     "execution_count": 44,
     "metadata": {},
     "output_type": "execute_result"
    }
   ],
   "source": [
    "data"
   ]
  },
  {
   "cell_type": "markdown",
   "metadata": {},
   "source": [
    "   3. The third assumption that Dask makes when you pass only the minimum\n",
    "required parameters is that you want to select all columns from the table.\n",
    "You can limit the columns you get back using the columns argument, which\n",
    "behaves similarly to the usecols argument in read_csv. While you are\n",
    "allowed to use SQL Alchemy expressions in the argument, I recommend that\n",
    "you avoid offloading any computations to the database server, since you lose\n",
    "the advantages of parallelizing that computation that Dask gives you."
   ]
  },
  {
   "cell_type": "code",
   "execution_count": 54,
   "metadata": {},
   "outputs": [],
   "source": [
    "column_filter = ['name']"
   ]
  },
  {
   "cell_type": "code",
   "execution_count": 55,
   "metadata": {},
   "outputs": [],
   "source": [
    "data = dd.read_sql_table('Inventory', connection_string, index_col='id', columns = column_filter)"
   ]
  },
  {
   "cell_type": "code",
   "execution_count": 57,
   "metadata": {},
   "outputs": [
    {
     "name": "stderr",
     "output_type": "stream",
     "text": [
      "/home/edison/anaconda3/envs/myenv/lib/python3.6/site-packages/dask/dataframe/core.py:5721: UserWarning: Insufficient elements for `head`. 5 elements requested, only 2 elements available. Try passing larger `npartitions` to `head`.\n",
      "  warnings.warn(msg.format(n, len(r)))\n"
     ]
    },
    {
     "data": {
      "text/html": [
       "<div>\n",
       "<style scoped>\n",
       "    .dataframe tbody tr th:only-of-type {\n",
       "        vertical-align: middle;\n",
       "    }\n",
       "\n",
       "    .dataframe tbody tr th {\n",
       "        vertical-align: top;\n",
       "    }\n",
       "\n",
       "    .dataframe thead th {\n",
       "        text-align: right;\n",
       "    }\n",
       "</style>\n",
       "<table border=\"1\" class=\"dataframe\">\n",
       "  <thead>\n",
       "    <tr style=\"text-align: right;\">\n",
       "      <th></th>\n",
       "      <th>name</th>\n",
       "    </tr>\n",
       "    <tr>\n",
       "      <th>id</th>\n",
       "      <th></th>\n",
       "    </tr>\n",
       "  </thead>\n",
       "  <tbody>\n",
       "    <tr>\n",
       "      <th>1</th>\n",
       "      <td>banana</td>\n",
       "    </tr>\n",
       "    <tr>\n",
       "      <th>2</th>\n",
       "      <td>orange</td>\n",
       "    </tr>\n",
       "  </tbody>\n",
       "</table>\n",
       "</div>"
      ],
      "text/plain": [
       "      name\n",
       "id        \n",
       "1   banana\n",
       "2   orange"
      ]
     },
     "execution_count": 57,
     "metadata": {},
     "output_type": "execute_result"
    }
   ],
   "source": [
    "data.head()"
   ]
  },
  {
   "cell_type": "raw",
   "metadata": {},
   "source": [
    "# Equivalent to:\n",
    "# SELECT [name] FROM dbo.Inventory"
   ]
  },
  {
   "cell_type": "markdown",
   "metadata": {},
   "source": [
    "   4. The fourth and final assumption made by providing the minimum\n",
    "arguments is the schema selection. When I say “schema” here, I’m not\n",
    "referring to the datatypes used by the DataFrame; I’m referring to the\n",
    "database schema object that RDBMSs use to group tables into logical clusters\n",
    "(such as dim/fact in a data warehouse or sales, hr, and so on, in a\n",
    "transactional database). If you don’t provide a schema, the database driver\n",
    "will use the default for the platform. For SQL Server, this results in Dask\n",
    "looking for the Inventory table in the dbo schema. If we had put the table in adifferent schema, perhaps one called chapterFour, we would receive a “table\n",
    "not found” error."
   ]
  },
  {
   "cell_type": "raw",
   "metadata": {},
   "source": [
    "data = dd.read_sql_table('Inventory', connection_string, index_col = 'id', schema = 'chapterFour')"
   ]
  },
  {
   "cell_type": "raw",
   "metadata": {},
   "source": [
    "# Equivalent to:\n",
    "# SELECT * FROM chapterFour.Inventory"
   ]
  },
  {
   "cell_type": "markdown",
   "metadata": {},
   "source": [
    "Passing\n",
    "the schema name into the schema argument will cause Dask to use the\n",
    "provided database schema rather than the default."
   ]
  },
  {
   "cell_type": "markdown",
   "metadata": {},
   "source": [
    "Like read_csv, Dask allows you to forward along arguments to the\n",
    "underlying calls to the Pandas read_sql function being used at the partition\n",
    "level to create the Pandas DataFrames. We’ve covered all the most important\n",
    "functions here, but if you need an extra degree of customization, have a look\n",
    "at the API documentation for the Pandas read_sql function. All its\n",
    "arguments can be manipulated using the *args and **kwargs interfaces\n",
    "provided by Dask DataFrames."
   ]
  },
  {
   "cell_type": "code",
   "execution_count": null,
   "metadata": {},
   "outputs": [],
   "source": []
  },
  {
   "cell_type": "code",
   "execution_count": null,
   "metadata": {},
   "outputs": [],
   "source": []
  },
  {
   "cell_type": "markdown",
   "metadata": {},
   "source": [
    "# **Reading data from distributed filesystems (HDFS and S3)**"
   ]
  },
  {
   "cell_type": "markdown",
   "metadata": {},
   "source": [
    "While it’s very likely that many datasets you’ll come across throughout your\n",
    "work will be stored in relational databases, powerful alternatives are rapidly\n",
    "growing in popularity. Most notable are the developments in distributed\n",
    "filesystem technologies from 2006 onward. Powered by technologies like\n",
    "Apache Hadoop and Amazon’s Simple Storage System (or S3 for short),\n",
    "distributed filesystems bring the same benefits to file storage that distributed\n",
    "computing brings to data processing: increased throughput, scalability, and\n",
    "robustness. Using a distributed computing framework alongside a distributed\n",
    "filesystem technology is a harmonious combination: in the most advanced\n",
    "distributed filesystems, such as the Hadoop Distributed File System (HDFS),\n",
    "nodes are aware of data locality, allowing computations to be shipped to the\n",
    "data rather than the data shipped to the compute resources. This saves a lot\n",
    "of time and back-and-forth communication over the network."
   ]
  },
  {
   "cell_type": "markdown",
   "metadata": {},
   "source": [
    "why keeping data isolated so a single node can have some performance consequences?\n",
    "A significant bottleneck is caused by the need to chunk up and ship data to\n",
    "the other nodes in the cluster. Under this configuration, when Dask reads in\n",
    "the data, it will partition the DataFrame as usual, but the other worker nodes\n",
    "can’t do any work until a partition of data is sent to them. Because it takes\n",
    "some time to transfer these 64 MB chunks over the network, the total\n",
    "computation time will be increased by the time it takes to ship data back and\n",
    "forth between the node that has the data and the other workers. This\n",
    "becomes even more problematic if the size of the cluster grows by anysignificant amount. If we had several hundred (or more) worker nodes vying\n",
    "for chunks of data all at once, the networking stack on the data node could\n",
    "easily get saturated with requests and slow to a crawl. Both of these\n",
    "problems can be mitigated by using a distributed filesystem."
   ]
  },
  {
   "cell_type": "markdown",
   "metadata": {},
   "source": [
    "Instead of creating a bottleneck by holding data on only one node, the\n",
    "distributed filesystem chunks up data ahead of time and spreads it across\n",
    "multiple machines. It’s standard practice in many distributed filesystems to\n",
    "store redundant copies of chunks/partitions both for reliability and\n",
    "performance. From the perspective of reliability, storing each partition in\n",
    "triplicate (which is a common default configuration) means that two\n",
    "separate machines would have to fail before any data loss occurs. The\n",
    "probability of two machines failing in a short amount of time is much lower\n",
    "than the probability of one machine failing, so it adds an extra layer of safety\n",
    "at a nominal cost of additional storage.\n",
    "From the performance perspective, spreading the data out across the\n",
    "cluster makes it more likely that a node containing the data will be available\n",
    "to run a computation when requested. Or, in the event that all worker nodes\n",
    "that hold that partition are already busy, one of them can ship the data to\n",
    "another worker node. In this case, spreading out the data avoids any single\n",
    "node getting saturated by requests for data. If one node is busy serving up a\n",
    "bunch of data, it can offload some of those requests to other nodes that hold\n",
    "the requested data. "
   ]
  },
  {
   "cell_type": "markdown",
   "metadata": {},
   "source": [
    "The node controlling the orchestration of the distributed computation (called\n",
    "the driver) knows that the data it wants to process is available in a few\n",
    "locations because the distributed filesystem maintains a catalogue of the\n",
    "data held within the system. It will first ask the machines that have the data\n",
    "locally whether they’re busy or not. If one of the nodes is not busy, the driver\n",
    "will instruct the worker node to perform the computation. If all the nodes are\n",
    "busy, the driver can either choose to wait until one of the worker nodes is\n",
    "free, or instruct another free worker node to get the data remotely and run\n",
    "the computation."
   ]
  },
  {
   "cell_type": "markdown",
   "metadata": {},
   "source": [
    "HDFS and S3 are two of the most popular distributed\n",
    "filesystems, but they have one key difference for our purposes: HDFS is\n",
    "designed to allow computations to run on the same nodes that serve up data,\n",
    "and S3 is not. Amazon designed S3 as a web service dedicated solely to file\n",
    "storage and retrieval. There’s absolutely no way to execute application code\n",
    "on S3 servers. This means that when you work with data stored in S3, you\n",
    "will always have to transmit partitions from S3 to a Dask worker node in\n",
    "order to process it. "
   ]
  },
  {
   "cell_type": "markdown",
   "metadata": {},
   "source": [
    "### **Reading data from HDFS**"
   ]
  },
  {
   "cell_type": "raw",
   "metadata": {},
   "source": [
    "data = dd.read_csv('hdfs://localhost/nyc-parking-tickets/*.csv', dtype = dtypes, usecols = common_columns)"
   ]
  },
  {
   "cell_type": "markdown",
   "metadata": {},
   "source": [
    "Above we have a read_csv call that should look very familiar by now.\n",
    "In fact, the only thing that’s changed is the file path. Prefixing the file path\n",
    "with hdfs:// tells Dask to look for the files on an HDFS cluster instead of the\n",
    "local filesystem, and localhost indicates that Dask should query the local\n",
    "HDFS NameNode for information on the whereab"
   ]
  },
  {
   "cell_type": "markdown",
   "metadata": {},
   "source": [
    "All the arguments for read_csv that you learned before can still be used\n",
    "here. In this way, Dask makes it extremely easy to work with HDFS. The only\n",
    "additional requirement is that you install the hdfs3 library on each of your\n",
    "Dask workers. This library allows Dask to communicate with HDFS;\n",
    "therefore, this functionality won’t work if you haven’t installed the package"
   ]
  },
  {
   "cell_type": "raw",
   "metadata": {},
   "source": [
    "conda install -c conda-forge hdfs3"
   ]
  },
  {
   "cell_type": "markdown",
   "metadata": {},
   "source": [
    "### **Reading data from S3**"
   ]
  },
  {
   "cell_type": "raw",
   "metadata": {},
   "source": [
    "data = dd.read_csv('s3://my-bucket/nyc-parking-tickets/*.csv', dtype = dtypes, usecols = common_columns)"
   ]
  },
  {
   "cell_type": "markdown",
   "metadata": {},
   "source": [
    "Above read_csv call is (again) almost exactly the same as listing4.17. This time, however, we’ve prefixed the file path with s3:// to tell Dask\n",
    "that the data is located on an S3 filesystem, and my-bucket lets Dask know to\n",
    "look for the files in the S3 bucket associated with your AWS account named\n",
    "“my-bucket”."
   ]
  },
  {
   "cell_type": "markdown",
   "metadata": {},
   "source": [
    "In order to use the S3 functionality, you must have the s3fs library\n",
    "installed on each Dask worker. Like hdfs3, this library can be installed simply\n",
    "through pip or conda (from the conda-forge channel). The final requirement\n",
    "is that each Dask worker is properly configured for authenticating with S3.\n",
    "s3fs uses the boto library to communicate with S3. You can learn more about\n",
    "configuring boto at\n",
    "http://boto.cloudhackers.com/en/latest/getting_started.html. The most\n",
    "common S3 authentication configuration consists of using the AWS Access\n",
    "Key and AWS Secret Access Key. Rather than injecting these keys in your\n",
    "code, it’s a better idea to set these values using environment variables or a\n",
    "configuration file. Boto will check both the environment variables and the\n",
    "default configuration paths automatically, so there’s no need to pass\n",
    "authentication credentials directly to Dask. Otherwise, as with using HDFS,\n",
    "the call to read_csv allows you to do all the same things as if you were\n",
    "operating on a local filesystem. Dask really makes it easy to work with\n",
    "distributed filesystems!"
   ]
  },
  {
   "cell_type": "raw",
   "metadata": {},
   "source": [
    "conda install -c conda-forge s3fs"
   ]
  },
  {
   "cell_type": "markdown",
   "metadata": {},
   "source": [
    "Following we try an open public S3 bucket to fetch data:"
   ]
  },
  {
   "cell_type": "code",
   "execution_count": 3,
   "metadata": {},
   "outputs": [],
   "source": [
    "taxi_data = dd.read_csv('s3://nyc-tlc/trip data/yellow_tripdata_2018-04.csv',\n",
    "                        storage_options = {'anon': True, 'use_ssl': False})"
   ]
  },
  {
   "cell_type": "code",
   "execution_count": 4,
   "metadata": {},
   "outputs": [
    {
     "data": {
      "text/html": [
       "<div><strong>Dask DataFrame Structure:</strong></div>\n",
       "<div>\n",
       "<style scoped>\n",
       "    .dataframe tbody tr th:only-of-type {\n",
       "        vertical-align: middle;\n",
       "    }\n",
       "\n",
       "    .dataframe tbody tr th {\n",
       "        vertical-align: top;\n",
       "    }\n",
       "\n",
       "    .dataframe thead th {\n",
       "        text-align: right;\n",
       "    }\n",
       "</style>\n",
       "<table border=\"1\" class=\"dataframe\">\n",
       "  <thead>\n",
       "    <tr style=\"text-align: right;\">\n",
       "      <th></th>\n",
       "      <th>VendorID</th>\n",
       "      <th>tpep_pickup_datetime</th>\n",
       "      <th>tpep_dropoff_datetime</th>\n",
       "      <th>passenger_count</th>\n",
       "      <th>trip_distance</th>\n",
       "      <th>RatecodeID</th>\n",
       "      <th>store_and_fwd_flag</th>\n",
       "      <th>PULocationID</th>\n",
       "      <th>DOLocationID</th>\n",
       "      <th>payment_type</th>\n",
       "      <th>fare_amount</th>\n",
       "      <th>extra</th>\n",
       "      <th>mta_tax</th>\n",
       "      <th>tip_amount</th>\n",
       "      <th>tolls_amount</th>\n",
       "      <th>improvement_surcharge</th>\n",
       "      <th>total_amount</th>\n",
       "    </tr>\n",
       "    <tr>\n",
       "      <th>npartitions=13</th>\n",
       "      <th></th>\n",
       "      <th></th>\n",
       "      <th></th>\n",
       "      <th></th>\n",
       "      <th></th>\n",
       "      <th></th>\n",
       "      <th></th>\n",
       "      <th></th>\n",
       "      <th></th>\n",
       "      <th></th>\n",
       "      <th></th>\n",
       "      <th></th>\n",
       "      <th></th>\n",
       "      <th></th>\n",
       "      <th></th>\n",
       "      <th></th>\n",
       "      <th></th>\n",
       "    </tr>\n",
       "  </thead>\n",
       "  <tbody>\n",
       "    <tr>\n",
       "      <th></th>\n",
       "      <td>int64</td>\n",
       "      <td>object</td>\n",
       "      <td>object</td>\n",
       "      <td>int64</td>\n",
       "      <td>float64</td>\n",
       "      <td>int64</td>\n",
       "      <td>object</td>\n",
       "      <td>int64</td>\n",
       "      <td>int64</td>\n",
       "      <td>int64</td>\n",
       "      <td>float64</td>\n",
       "      <td>float64</td>\n",
       "      <td>float64</td>\n",
       "      <td>float64</td>\n",
       "      <td>float64</td>\n",
       "      <td>float64</td>\n",
       "      <td>float64</td>\n",
       "    </tr>\n",
       "    <tr>\n",
       "      <th></th>\n",
       "      <td>...</td>\n",
       "      <td>...</td>\n",
       "      <td>...</td>\n",
       "      <td>...</td>\n",
       "      <td>...</td>\n",
       "      <td>...</td>\n",
       "      <td>...</td>\n",
       "      <td>...</td>\n",
       "      <td>...</td>\n",
       "      <td>...</td>\n",
       "      <td>...</td>\n",
       "      <td>...</td>\n",
       "      <td>...</td>\n",
       "      <td>...</td>\n",
       "      <td>...</td>\n",
       "      <td>...</td>\n",
       "      <td>...</td>\n",
       "    </tr>\n",
       "    <tr>\n",
       "      <th>...</th>\n",
       "      <td>...</td>\n",
       "      <td>...</td>\n",
       "      <td>...</td>\n",
       "      <td>...</td>\n",
       "      <td>...</td>\n",
       "      <td>...</td>\n",
       "      <td>...</td>\n",
       "      <td>...</td>\n",
       "      <td>...</td>\n",
       "      <td>...</td>\n",
       "      <td>...</td>\n",
       "      <td>...</td>\n",
       "      <td>...</td>\n",
       "      <td>...</td>\n",
       "      <td>...</td>\n",
       "      <td>...</td>\n",
       "      <td>...</td>\n",
       "    </tr>\n",
       "    <tr>\n",
       "      <th></th>\n",
       "      <td>...</td>\n",
       "      <td>...</td>\n",
       "      <td>...</td>\n",
       "      <td>...</td>\n",
       "      <td>...</td>\n",
       "      <td>...</td>\n",
       "      <td>...</td>\n",
       "      <td>...</td>\n",
       "      <td>...</td>\n",
       "      <td>...</td>\n",
       "      <td>...</td>\n",
       "      <td>...</td>\n",
       "      <td>...</td>\n",
       "      <td>...</td>\n",
       "      <td>...</td>\n",
       "      <td>...</td>\n",
       "      <td>...</td>\n",
       "    </tr>\n",
       "    <tr>\n",
       "      <th></th>\n",
       "      <td>...</td>\n",
       "      <td>...</td>\n",
       "      <td>...</td>\n",
       "      <td>...</td>\n",
       "      <td>...</td>\n",
       "      <td>...</td>\n",
       "      <td>...</td>\n",
       "      <td>...</td>\n",
       "      <td>...</td>\n",
       "      <td>...</td>\n",
       "      <td>...</td>\n",
       "      <td>...</td>\n",
       "      <td>...</td>\n",
       "      <td>...</td>\n",
       "      <td>...</td>\n",
       "      <td>...</td>\n",
       "      <td>...</td>\n",
       "    </tr>\n",
       "  </tbody>\n",
       "</table>\n",
       "</div>\n",
       "<div>Dask Name: from-delayed, 39 tasks</div>"
      ],
      "text/plain": [
       "Dask DataFrame Structure:\n",
       "               VendorID tpep_pickup_datetime tpep_dropoff_datetime passenger_count trip_distance RatecodeID store_and_fwd_flag PULocationID DOLocationID payment_type fare_amount    extra  mta_tax tip_amount tolls_amount improvement_surcharge total_amount\n",
       "npartitions=13                                                                                                                                                                                                                                                \n",
       "                  int64               object                object           int64       float64      int64             object        int64        int64        int64     float64  float64  float64    float64      float64               float64      float64\n",
       "                    ...                  ...                   ...             ...           ...        ...                ...          ...          ...          ...         ...      ...      ...        ...          ...                   ...          ...\n",
       "...                 ...                  ...                   ...             ...           ...        ...                ...          ...          ...          ...         ...      ...      ...        ...          ...                   ...          ...\n",
       "                    ...                  ...                   ...             ...           ...        ...                ...          ...          ...          ...         ...      ...      ...        ...          ...                   ...          ...\n",
       "                    ...                  ...                   ...             ...           ...        ...                ...          ...          ...          ...         ...      ...      ...        ...          ...                   ...          ...\n",
       "Dask Name: from-delayed, 39 tasks"
      ]
     },
     "execution_count": 4,
     "metadata": {},
     "output_type": "execute_result"
    }
   ],
   "source": [
    "taxi_data"
   ]
  },
  {
   "cell_type": "code",
   "execution_count": 6,
   "metadata": {},
   "outputs": [],
   "source": [
    "taxi_data = taxi_data.compute()"
   ]
  },
  {
   "cell_type": "code",
   "execution_count": 7,
   "metadata": {},
   "outputs": [
    {
     "data": {
      "text/html": [
       "<div>\n",
       "<style scoped>\n",
       "    .dataframe tbody tr th:only-of-type {\n",
       "        vertical-align: middle;\n",
       "    }\n",
       "\n",
       "    .dataframe tbody tr th {\n",
       "        vertical-align: top;\n",
       "    }\n",
       "\n",
       "    .dataframe thead th {\n",
       "        text-align: right;\n",
       "    }\n",
       "</style>\n",
       "<table border=\"1\" class=\"dataframe\">\n",
       "  <thead>\n",
       "    <tr style=\"text-align: right;\">\n",
       "      <th></th>\n",
       "      <th>VendorID</th>\n",
       "      <th>tpep_pickup_datetime</th>\n",
       "      <th>tpep_dropoff_datetime</th>\n",
       "      <th>passenger_count</th>\n",
       "      <th>trip_distance</th>\n",
       "      <th>RatecodeID</th>\n",
       "      <th>store_and_fwd_flag</th>\n",
       "      <th>PULocationID</th>\n",
       "      <th>DOLocationID</th>\n",
       "      <th>payment_type</th>\n",
       "      <th>fare_amount</th>\n",
       "      <th>extra</th>\n",
       "      <th>mta_tax</th>\n",
       "      <th>tip_amount</th>\n",
       "      <th>tolls_amount</th>\n",
       "      <th>improvement_surcharge</th>\n",
       "      <th>total_amount</th>\n",
       "    </tr>\n",
       "  </thead>\n",
       "  <tbody>\n",
       "    <tr>\n",
       "      <th>0</th>\n",
       "      <td>1</td>\n",
       "      <td>2018-04-01 00:22:20</td>\n",
       "      <td>2018-04-01 00:22:26</td>\n",
       "      <td>1</td>\n",
       "      <td>0.00</td>\n",
       "      <td>1</td>\n",
       "      <td>N</td>\n",
       "      <td>145</td>\n",
       "      <td>145</td>\n",
       "      <td>2</td>\n",
       "      <td>2.5</td>\n",
       "      <td>0.5</td>\n",
       "      <td>0.5</td>\n",
       "      <td>0.00</td>\n",
       "      <td>0.0</td>\n",
       "      <td>0.3</td>\n",
       "      <td>3.80</td>\n",
       "    </tr>\n",
       "    <tr>\n",
       "      <th>1</th>\n",
       "      <td>1</td>\n",
       "      <td>2018-04-01 00:47:37</td>\n",
       "      <td>2018-04-01 01:08:42</td>\n",
       "      <td>1</td>\n",
       "      <td>6.70</td>\n",
       "      <td>1</td>\n",
       "      <td>N</td>\n",
       "      <td>152</td>\n",
       "      <td>90</td>\n",
       "      <td>2</td>\n",
       "      <td>22.5</td>\n",
       "      <td>0.5</td>\n",
       "      <td>0.5</td>\n",
       "      <td>0.00</td>\n",
       "      <td>0.0</td>\n",
       "      <td>0.3</td>\n",
       "      <td>23.80</td>\n",
       "    </tr>\n",
       "    <tr>\n",
       "      <th>2</th>\n",
       "      <td>1</td>\n",
       "      <td>2018-04-01 00:02:13</td>\n",
       "      <td>2018-04-01 00:17:52</td>\n",
       "      <td>2</td>\n",
       "      <td>4.10</td>\n",
       "      <td>1</td>\n",
       "      <td>N</td>\n",
       "      <td>239</td>\n",
       "      <td>158</td>\n",
       "      <td>1</td>\n",
       "      <td>15.5</td>\n",
       "      <td>0.5</td>\n",
       "      <td>0.5</td>\n",
       "      <td>3.35</td>\n",
       "      <td>0.0</td>\n",
       "      <td>0.3</td>\n",
       "      <td>20.15</td>\n",
       "    </tr>\n",
       "    <tr>\n",
       "      <th>3</th>\n",
       "      <td>1</td>\n",
       "      <td>2018-04-01 00:46:49</td>\n",
       "      <td>2018-04-01 00:52:05</td>\n",
       "      <td>1</td>\n",
       "      <td>0.70</td>\n",
       "      <td>1</td>\n",
       "      <td>N</td>\n",
       "      <td>90</td>\n",
       "      <td>249</td>\n",
       "      <td>1</td>\n",
       "      <td>5.5</td>\n",
       "      <td>0.5</td>\n",
       "      <td>0.5</td>\n",
       "      <td>1.35</td>\n",
       "      <td>0.0</td>\n",
       "      <td>0.3</td>\n",
       "      <td>8.15</td>\n",
       "    </tr>\n",
       "    <tr>\n",
       "      <th>4</th>\n",
       "      <td>1</td>\n",
       "      <td>2018-04-01 00:19:04</td>\n",
       "      <td>2018-04-01 00:19:09</td>\n",
       "      <td>1</td>\n",
       "      <td>0.00</td>\n",
       "      <td>1</td>\n",
       "      <td>N</td>\n",
       "      <td>145</td>\n",
       "      <td>145</td>\n",
       "      <td>2</td>\n",
       "      <td>2.5</td>\n",
       "      <td>0.5</td>\n",
       "      <td>0.5</td>\n",
       "      <td>0.00</td>\n",
       "      <td>0.0</td>\n",
       "      <td>0.3</td>\n",
       "      <td>3.80</td>\n",
       "    </tr>\n",
       "    <tr>\n",
       "      <th>...</th>\n",
       "      <td>...</td>\n",
       "      <td>...</td>\n",
       "      <td>...</td>\n",
       "      <td>...</td>\n",
       "      <td>...</td>\n",
       "      <td>...</td>\n",
       "      <td>...</td>\n",
       "      <td>...</td>\n",
       "      <td>...</td>\n",
       "      <td>...</td>\n",
       "      <td>...</td>\n",
       "      <td>...</td>\n",
       "      <td>...</td>\n",
       "      <td>...</td>\n",
       "      <td>...</td>\n",
       "      <td>...</td>\n",
       "      <td>...</td>\n",
       "    </tr>\n",
       "    <tr>\n",
       "      <th>603234</th>\n",
       "      <td>1</td>\n",
       "      <td>2018-04-30 23:15:20</td>\n",
       "      <td>2018-04-30 23:32:58</td>\n",
       "      <td>1</td>\n",
       "      <td>3.60</td>\n",
       "      <td>1</td>\n",
       "      <td>N</td>\n",
       "      <td>148</td>\n",
       "      <td>112</td>\n",
       "      <td>1</td>\n",
       "      <td>14.5</td>\n",
       "      <td>0.5</td>\n",
       "      <td>0.5</td>\n",
       "      <td>3.15</td>\n",
       "      <td>0.0</td>\n",
       "      <td>0.3</td>\n",
       "      <td>18.95</td>\n",
       "    </tr>\n",
       "    <tr>\n",
       "      <th>603235</th>\n",
       "      <td>2</td>\n",
       "      <td>2018-04-30 23:02:02</td>\n",
       "      <td>2018-04-30 23:03:37</td>\n",
       "      <td>5</td>\n",
       "      <td>0.01</td>\n",
       "      <td>1</td>\n",
       "      <td>N</td>\n",
       "      <td>151</td>\n",
       "      <td>151</td>\n",
       "      <td>2</td>\n",
       "      <td>3.0</td>\n",
       "      <td>0.5</td>\n",
       "      <td>0.5</td>\n",
       "      <td>0.00</td>\n",
       "      <td>0.0</td>\n",
       "      <td>0.3</td>\n",
       "      <td>4.30</td>\n",
       "    </tr>\n",
       "    <tr>\n",
       "      <th>603236</th>\n",
       "      <td>2</td>\n",
       "      <td>2018-04-30 23:38:18</td>\n",
       "      <td>2018-04-30 23:44:57</td>\n",
       "      <td>1</td>\n",
       "      <td>1.62</td>\n",
       "      <td>1</td>\n",
       "      <td>N</td>\n",
       "      <td>186</td>\n",
       "      <td>125</td>\n",
       "      <td>1</td>\n",
       "      <td>7.5</td>\n",
       "      <td>0.5</td>\n",
       "      <td>0.5</td>\n",
       "      <td>1.76</td>\n",
       "      <td>0.0</td>\n",
       "      <td>0.3</td>\n",
       "      <td>10.56</td>\n",
       "    </tr>\n",
       "    <tr>\n",
       "      <th>603237</th>\n",
       "      <td>2</td>\n",
       "      <td>2018-04-30 23:07:08</td>\n",
       "      <td>2018-04-30 23:23:04</td>\n",
       "      <td>1</td>\n",
       "      <td>6.36</td>\n",
       "      <td>1</td>\n",
       "      <td>N</td>\n",
       "      <td>261</td>\n",
       "      <td>162</td>\n",
       "      <td>2</td>\n",
       "      <td>20.0</td>\n",
       "      <td>0.5</td>\n",
       "      <td>0.5</td>\n",
       "      <td>0.00</td>\n",
       "      <td>0.0</td>\n",
       "      <td>0.3</td>\n",
       "      <td>21.30</td>\n",
       "    </tr>\n",
       "    <tr>\n",
       "      <th>603238</th>\n",
       "      <td>2</td>\n",
       "      <td>2018-04-30 23:26:50</td>\n",
       "      <td>2018-04-30 23:44:54</td>\n",
       "      <td>1</td>\n",
       "      <td>7.17</td>\n",
       "      <td>1</td>\n",
       "      <td>N</td>\n",
       "      <td>162</td>\n",
       "      <td>65</td>\n",
       "      <td>1</td>\n",
       "      <td>22.5</td>\n",
       "      <td>0.5</td>\n",
       "      <td>0.5</td>\n",
       "      <td>5.95</td>\n",
       "      <td>0.0</td>\n",
       "      <td>0.3</td>\n",
       "      <td>29.75</td>\n",
       "    </tr>\n",
       "  </tbody>\n",
       "</table>\n",
       "<p>9305515 rows × 17 columns</p>\n",
       "</div>"
      ],
      "text/plain": [
       "        VendorID tpep_pickup_datetime tpep_dropoff_datetime  passenger_count  \\\n",
       "0              1  2018-04-01 00:22:20   2018-04-01 00:22:26                1   \n",
       "1              1  2018-04-01 00:47:37   2018-04-01 01:08:42                1   \n",
       "2              1  2018-04-01 00:02:13   2018-04-01 00:17:52                2   \n",
       "3              1  2018-04-01 00:46:49   2018-04-01 00:52:05                1   \n",
       "4              1  2018-04-01 00:19:04   2018-04-01 00:19:09                1   \n",
       "...          ...                  ...                   ...              ...   \n",
       "603234         1  2018-04-30 23:15:20   2018-04-30 23:32:58                1   \n",
       "603235         2  2018-04-30 23:02:02   2018-04-30 23:03:37                5   \n",
       "603236         2  2018-04-30 23:38:18   2018-04-30 23:44:57                1   \n",
       "603237         2  2018-04-30 23:07:08   2018-04-30 23:23:04                1   \n",
       "603238         2  2018-04-30 23:26:50   2018-04-30 23:44:54                1   \n",
       "\n",
       "        trip_distance  RatecodeID store_and_fwd_flag  PULocationID  \\\n",
       "0                0.00           1                  N           145   \n",
       "1                6.70           1                  N           152   \n",
       "2                4.10           1                  N           239   \n",
       "3                0.70           1                  N            90   \n",
       "4                0.00           1                  N           145   \n",
       "...               ...         ...                ...           ...   \n",
       "603234           3.60           1                  N           148   \n",
       "603235           0.01           1                  N           151   \n",
       "603236           1.62           1                  N           186   \n",
       "603237           6.36           1                  N           261   \n",
       "603238           7.17           1                  N           162   \n",
       "\n",
       "        DOLocationID  payment_type  fare_amount  extra  mta_tax  tip_amount  \\\n",
       "0                145             2          2.5    0.5      0.5        0.00   \n",
       "1                 90             2         22.5    0.5      0.5        0.00   \n",
       "2                158             1         15.5    0.5      0.5        3.35   \n",
       "3                249             1          5.5    0.5      0.5        1.35   \n",
       "4                145             2          2.5    0.5      0.5        0.00   \n",
       "...              ...           ...          ...    ...      ...         ...   \n",
       "603234           112             1         14.5    0.5      0.5        3.15   \n",
       "603235           151             2          3.0    0.5      0.5        0.00   \n",
       "603236           125             1          7.5    0.5      0.5        1.76   \n",
       "603237           162             2         20.0    0.5      0.5        0.00   \n",
       "603238            65             1         22.5    0.5      0.5        5.95   \n",
       "\n",
       "        tolls_amount  improvement_surcharge  total_amount  \n",
       "0                0.0                    0.3          3.80  \n",
       "1                0.0                    0.3         23.80  \n",
       "2                0.0                    0.3         20.15  \n",
       "3                0.0                    0.3          8.15  \n",
       "4                0.0                    0.3          3.80  \n",
       "...              ...                    ...           ...  \n",
       "603234           0.0                    0.3         18.95  \n",
       "603235           0.0                    0.3          4.30  \n",
       "603236           0.0                    0.3         10.56  \n",
       "603237           0.0                    0.3         21.30  \n",
       "603238           0.0                    0.3         29.75  \n",
       "\n",
       "[9305515 rows x 17 columns]"
      ]
     },
     "execution_count": 7,
     "metadata": {},
     "output_type": "execute_result"
    }
   ],
   "source": [
    "taxi_data"
   ]
  },
  {
   "cell_type": "code",
   "execution_count": null,
   "metadata": {},
   "outputs": [],
   "source": []
  },
  {
   "cell_type": "code",
   "execution_count": null,
   "metadata": {},
   "outputs": [],
   "source": []
  },
  {
   "cell_type": "markdown",
   "metadata": {},
   "source": [
    "# **Reading data in Parquet format**"
   ]
  },
  {
   "cell_type": "markdown",
   "metadata": {},
   "source": [
    "CSV and other delimited text files are great for their simplicity and\n",
    "portability, but they aren’t really optimized for the best performance,\n",
    "especially when performing complex data operations such as sorts, merges,\n",
    "and aggregations. While a wide variety of file formats attempt to increase\n",
    "efficiency in many different ways, with mixed results, one of the more recent\n",
    "high-profile file formats is Apache Parquet. Parquet is a high-performance\n",
    "columnar storage format jointly developed by Twitter and Cloudera that was\n",
    "designed with use on distributed filesystems in mind. Its design brings\n",
    "several key advantages to the table over text-based formats: more efficient\n",
    "use of IO, better compression, and strict typing."
   ]
  },
  {
   "cell_type": "markdown",
   "metadata": {},
   "source": [
    " Figure 4.10 shows the\n",
    "difference in how data is stored in Parquet format versus a row-oriented\n",
    "storage scheme like CSV."
   ]
  },
  {
   "cell_type": "markdown",
   "metadata": {},
   "source": [
    "With row-oriented formats, values are stored on disk and in memory\n",
    "sequentially based on the row position of the data. Consider what we’d have\n",
    "to do if we wanted to perform an aggregate function over x, such as finding\n",
    "the mean. To collect all the values of x, we’d have to scan over 10 values in\n",
    "order to get the 4 values we want. This means we spend more time waiting\n",
    "for IO completion just to throw away over half of the values read from disk.\n",
    "Compare that with the columnar format: in that format, we’d simply grab the\n",
    "sequential chunk of x values and have all four values we want. This seeking\n",
    "operation is much faster and more efficient."
   ]
  },
  {
   "cell_type": "markdown",
   "metadata": {},
   "source": [
    "Another significant advantage of applying column-oriented chunking of\n",
    "the data is that the data can now be partitioned and distributed by column.\n",
    "This leads to much faster and more efficient shuffle operations, since only\n",
    "the columns that are necessary for an operation can be transmitted over the\n",
    "network instead of entire rows."
   ]
  },
  {
   "cell_type": "markdown",
   "metadata": {},
   "source": [
    "Finally, efficient compression is also a major advantage of Parquet. With\n",
    "column-oriented data, it’s possible to apply different compression schemes\n",
    "to individual columns so the data becomes compressed in the most efficient\n",
    "way possible. Python’s Parquet library supports many of the popular\n",
    "compression algorithms such as gzip, lzo, and snappy."
   ]
  },
  {
   "cell_type": "markdown",
   "metadata": {},
   "source": [
    "To use Parquet with Dask, you need to make sure you have the fastparquet\n",
    "or pyarrow library installed, both of which can be installed either via pip or\n",
    "conda (conda-forge). I would generally recommend using pyarrow over\n",
    "fastparquet, because it has better support for serializing complex nested data\n",
    "structures. You can also install the compression libraries you want to use,\n",
    "such as python-snappy or python-lzo, which are also available via pip or\n",
    "conda (conda-forge). "
   ]
  },
  {
   "cell_type": "markdown",
   "metadata": {},
   "source": [
    "As a side note, we will be using\n",
    "Parquet format extensively through the book, and in the next chapter you\n",
    "will write some of the NYC Parking Ticket dataset to Parquet format.\n",
    "Therefore, you will see the **read_parquet** method many more times! This\n",
    "discussion is here to simply give you a first look at how to use the method.\n",
    "Now, without further ado, here’s how to use the read_parquet method."
   ]
  },
  {
   "cell_type": "raw",
   "metadata": {},
   "source": [
    "data = dd.read_parquet('nyc-parking-tickets-prq')"
   ]
  },
  {
   "cell_type": "markdown",
   "metadata": {},
   "source": [
    "The read_parquet method is used to\n",
    "create a Dask DataFrame from one or more Parquet files, and the only\n",
    "required argument is the path. One thing to notice about this call that might\n",
    "look strange: nyc-parking-tickets-prq is a directory, not a file. That’s\n",
    "because datasets stored as Parquet are typically written to disk prepartitioned, resulting in potentially hundreds or thousands of individual\n",
    "files. Dask provides this method for convenience so you don’t have to\n",
    "manually create a long list of filenames to pass in. You can specify a single\n",
    "Parquet file in the path if you want to, but it’s much more typical to see\n",
    "Parquet datasets referenced as a directory of files rather than individual files."
   ]
  },
  {
   "cell_type": "raw",
   "metadata": {},
   "source": [
    "data = dd.read_parquet('hdfs://localhost/nyc-parking-tickets-prq')"
   ]
  },
  {
   "cell_type": "raw",
   "metadata": {},
   "source": [
    "data = dd.read_parquet('s3://my-bucket/nyc-parking-tickets-prq')"
   ]
  },
  {
   "cell_type": "markdown",
   "metadata": {},
   "source": [
    "read Parquet from distributed filesystems. Just as\n",
    "with delimited text files, the only difference is specifying a distributed\n",
    "filesystem protocol, such as hdfs or s3, and specifying the relevant path to\n",
    "the data."
   ]
  },
  {
   "cell_type": "markdown",
   "metadata": {},
   "source": [
    "Parquet is stored with a predefined schema, so there are no options to\n",
    "mess with datatypes. The only real relevant options that Dask gives you to\n",
    "control importing Parquet data are column filters and index selection. These\n",
    "work the same way as with the other file formats. By default, they will be\n",
    "inferred from the schema stored alongside the data, but you can override that\n",
    "selection by manually passing in values to the relevant arguments."
   ]
  },
  {
   "cell_type": "raw",
   "metadata": {},
   "source": [
    "columms = ['Summons Number', 'Plate ID', 'Vehicle Color']\n",
    "data = dd.read_parquet('nyc-parking-tickets-prq', columns = columns, index = 'Plate ID')"
   ]
  },
  {
   "cell_type": "markdown",
   "metadata": {},
   "source": [
    "we pick a few columns that we want to read from the dataset\n",
    "and put them in a list called columns. We then pass in the list to the columns\n",
    "argument, and we specify Plate ID to be used as the index by passing it in to\n",
    "the index argument. The result of this will be a Dask DataFrame containing\n",
    "only the three columns shown here and sorted/indexed by the Plate ID\n",
    "column."
   ]
  },
  {
   "cell_type": "markdown",
   "metadata": {},
   "source": [
    "Parquet format offers good performance because it’s a column-oriented\n",
    "format and highly compressible. Whenever possible, try to get your dataset\n",
    "in Parquet format."
   ]
  }
 ],
 "metadata": {
  "kernelspec": {
   "display_name": "Python 3",
   "language": "python",
   "name": "python3"
  },
  "language_info": {
   "codemirror_mode": {
    "name": "ipython",
    "version": 3
   },
   "file_extension": ".py",
   "mimetype": "text/x-python",
   "name": "python",
   "nbconvert_exporter": "python",
   "pygments_lexer": "ipython3",
   "version": "3.7.6"
  }
 },
 "nbformat": 4,
 "nbformat_minor": 4
}
